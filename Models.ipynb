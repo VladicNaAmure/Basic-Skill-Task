{
  "nbformat": 4,
  "nbformat_minor": 0,
  "metadata": {
    "colab": {
      "name": "Models.ipynb",
      "provenance": [],
      "collapsed_sections": [],
      "toc_visible": true
    },
    "kernelspec": {
      "name": "python3",
      "display_name": "Python 3"
    }
  },
  "cells": [
    {
      "cell_type": "markdown",
      "metadata": {
        "id": "NsFnBxIYQ8-z",
        "colab_type": "text"
      },
      "source": [
        "# Оценим данные"
      ]
    },
    {
      "cell_type": "code",
      "metadata": {
        "id": "5Tp3euvBvDQY",
        "colab_type": "code",
        "colab": {
          "base_uri": "https://localhost:8080/",
          "height": 85
        },
        "outputId": "b3f47ed8-27e7-4544-b55b-c1993e39e432"
      },
      "source": [
        "!unzip /content/data_task.zip"
      ],
      "execution_count": 4,
      "outputs": [
        {
          "output_type": "stream",
          "text": [
            "Archive:  /content/data_task.zip\n",
            "  inflating: data_task/col_name.txt  \n",
            "  inflating: data_task/test_p.csv    \n",
            "  inflating: data_task/train_p.csv   \n"
          ],
          "name": "stdout"
        }
      ]
    },
    {
      "cell_type": "markdown",
      "metadata": {
        "id": "BGeqdtkBRD-L",
        "colab_type": "text"
      },
      "source": [
        "Библиотеки для работы с данными."
      ]
    },
    {
      "cell_type": "code",
      "metadata": {
        "id": "IjUOl5KgvrWp",
        "colab_type": "code",
        "colab": {}
      },
      "source": [
        "import numpy as np\n",
        "import pandas as pd"
      ],
      "execution_count": 1,
      "outputs": []
    },
    {
      "cell_type": "code",
      "metadata": {
        "id": "-gAeSrSivevU",
        "colab_type": "code",
        "colab": {}
      },
      "source": [
        "test = pd.read_csv('/content/data_task/test_p.csv')\n",
        "train = pd.read_csv('/content/data_task/train_p.csv')"
      ],
      "execution_count": 2,
      "outputs": []
    },
    {
      "cell_type": "markdown",
      "metadata": {
        "id": "uOesJBcDRH4i",
        "colab_type": "text"
      },
      "source": [
        "Примерно 88-90% от изначального объема данных."
      ]
    },
    {
      "cell_type": "code",
      "metadata": {
        "id": "ResDxNU6v6ZW",
        "colab_type": "code",
        "colab": {
          "base_uri": "https://localhost:8080/",
          "height": 34
        },
        "outputId": "aa94462b-d1e8-4fa4-e38f-5a8f3a92a9b0"
      },
      "source": [
        "train.shape , test.shape"
      ],
      "execution_count": 3,
      "outputs": [
        {
          "output_type": "execute_result",
          "data": {
            "text/plain": [
              "((964, 1440), (164, 1439))"
            ]
          },
          "metadata": {
            "tags": []
          },
          "execution_count": 3
        }
      ]
    },
    {
      "cell_type": "markdown",
      "metadata": {
        "id": "rhNQnWd0RPxt",
        "colab_type": "text"
      },
      "source": [
        "Разделим данные на параметры и предсказание."
      ]
    },
    {
      "cell_type": "code",
      "metadata": {
        "id": "IRiupFUMyigN",
        "colab_type": "code",
        "colab": {}
      },
      "source": [
        "X_train = train.drop(columns=['sample_id','y'])\n",
        "y_train = train['y']"
      ],
      "execution_count": 3,
      "outputs": []
    },
    {
      "cell_type": "markdown",
      "metadata": {
        "id": "ZJU0TS5LRZIE",
        "colab_type": "text"
      },
      "source": [
        "Подготовим тренировочные данные, для предсказания. И отдельно колонка с названием. \n",
        "\n",
        "P.S. Индексы сохраняются."
      ]
    },
    {
      "cell_type": "code",
      "metadata": {
        "id": "Mjl7Xi8qysSG",
        "colab_type": "code",
        "colab": {}
      },
      "source": [
        "X_test = test.drop(columns=['sample_id'])\n",
        "X_name = test['sample_id']"
      ],
      "execution_count": 4,
      "outputs": []
    },
    {
      "cell_type": "markdown",
      "metadata": {
        "id": "ATnq9E3PzI8B",
        "colab_type": "text"
      },
      "source": [
        "Набор не идеально сбалансирован, однако разница в распределении классов не столь существенна, чтобы применять решения, предназначенные для сильно несбалансированных случаев."
      ]
    },
    {
      "cell_type": "code",
      "metadata": {
        "id": "Rundni2hzDiP",
        "colab_type": "code",
        "colab": {
          "base_uri": "https://localhost:8080/",
          "height": 333
        },
        "outputId": "0b5c37a8-6666-407e-84ce-3a04bb62bd89"
      },
      "source": [
        "import seaborn as sns\n",
        "import matplotlib.pyplot as plt\n",
        "\n",
        "sns.countplot(train['y'],label=\"Sum\")\n",
        "\n",
        "plt.show()"
      ],
      "execution_count": 5,
      "outputs": [
        {
          "output_type": "stream",
          "text": [
            "/usr/local/lib/python3.6/dist-packages/statsmodels/tools/_testing.py:19: FutureWarning: pandas.util.testing is deprecated. Use the functions in the public API at pandas.testing instead.\n",
            "  import pandas.util.testing as tm\n"
          ],
          "name": "stderr"
        },
        {
          "output_type": "display_data",
          "data": {
            "image/png": "[encoded data removed]",
            "text/plain": [
              "<Figure size 432x288 with 1 Axes>"
            ]
          },
          "metadata": {
            "tags": [],
            "needs_background": "light"
          }
        }
      ]
    },
    {
      "cell_type": "markdown",
      "metadata": {
        "id": "bkX8y6waRPIk",
        "colab_type": "text"
      },
      "source": [
        "Чтобы повысить точность, стандартизируем данные для baseline моделей."
      ]
    },
    {
      "cell_type": "code",
      "metadata": {
        "id": "Xv6CHHUqQaU9",
        "colab_type": "code",
        "colab": {}
      },
      "source": [
        "def standardize(train, test):\n",
        "    mean = np.mean(train, axis=0)\n",
        "    std = np.std(train, axis=0)+0.000001\n",
        "\n",
        "    X_train = (train - mean) / std\n",
        "    X_test = (test - mean) /std\n",
        "    return X_train, X_test"
      ],
      "execution_count": 6,
      "outputs": []
    },
    {
      "cell_type": "code",
      "metadata": {
        "id": "H25AhtxxRTUG",
        "colab_type": "code",
        "colab": {}
      },
      "source": [
        "X_train, X_test = standardize(X_train, X_test)"
      ],
      "execution_count": 7,
      "outputs": []
    },
    {
      "cell_type": "markdown",
      "metadata": {
        "id": "jkz-hOfnanKI",
        "colab_type": "text"
      },
      "source": [
        "Обучаем модель. Keras Sequential API.\n",
        "\n",
        "P.S. Помимо Sequential, есть и Functional API, но принципиального отличия между способами нет.\n",
        "Класс Model (и унаследованный от него Sequential) имеет удобный интерфейс, позволяющий посмотреть, какие слои входят в модель — model.layers, входы — model.inputs, и выходы — model.outputs.\n",
        "\n",
        "\n",
        "Также очень удобный метод отображения и сохранения модели — model.to_yaml."
      ]
    },
    {
      "cell_type": "code",
      "metadata": {
        "id": "9xmUvRy7bOr8",
        "colab_type": "code",
        "colab": {
          "base_uri": "https://localhost:8080/",
          "height": 34
        },
        "outputId": "e870b6b4-6637-4c13-b3f5-544be3aae246"
      },
      "source": [
        "from keras.models import Sequential\n",
        "from keras.utils import to_categorical\n",
        "from sklearn.preprocessing import StandardScaler\n",
        "from keras.layers import Dense\n",
        "from tensorflow import keras"
      ],
      "execution_count": 8,
      "outputs": [
        {
          "output_type": "stream",
          "text": [
            "Using TensorFlow backend.\n"
          ],
          "name": "stderr"
        }
      ]
    },
    {
      "cell_type": "code",
      "metadata": {
        "id": "dDsqKgy9b1nM",
        "colab_type": "code",
        "colab": {}
      },
      "source": [
        "import warnings\n",
        "warnings.filterwarnings('ignore')"
      ],
      "execution_count": 9,
      "outputs": []
    },
    {
      "cell_type": "markdown",
      "metadata": {
        "id": "l9oAoxR4SSVx",
        "colab_type": "text"
      },
      "source": [
        "Разделим тренировочный датасет на валидационные данные в соотношении 15%, объем данный не большой. Для чего это нужно. Мы передаем валидационные данные для мониторинга потерь и метрик на этих данных в конце каждой эпохи."
      ]
    },
    {
      "cell_type": "code",
      "metadata": {
        "id": "aYmjy3TEGtjt",
        "colab_type": "code",
        "colab": {}
      },
      "source": [
        "# Зарезервируем 15% примеров для валидации\n",
        "X_val = X_train[-145:]\n",
        "y_val = y_train[-145:]\n",
        "X = X_train[:-145]\n",
        "Y = y_train[:-145]"
      ],
      "execution_count": 10,
      "outputs": []
    },
    {
      "cell_type": "markdown",
      "metadata": {
        "id": "kaJ0XFtuSqMo",
        "colab_type": "text"
      },
      "source": [
        "Полная метрика, для ROC-AUC."
      ]
    },
    {
      "cell_type": "code",
      "metadata": {
        "id": "GDBwn_FvvAwz",
        "colab_type": "code",
        "colab": {}
      },
      "source": [
        "METRICS = [\n",
        "      keras.metrics.TruePositives(name='tp'),\n",
        "      keras.metrics.FalsePositives(name='fp'),\n",
        "      keras.metrics.TrueNegatives(name='tn'),\n",
        "      keras.metrics.FalseNegatives(name='fn'), \n",
        "      keras.metrics.BinaryAccuracy(name='accuracy'),\n",
        "      keras.metrics.Precision(name='precision'),\n",
        "      keras.metrics.Recall(name='recall'),\n",
        "      keras.metrics.AUC(name='auc'),\n",
        "]"
      ],
      "execution_count": 11,
      "outputs": []
    },
    {
      "cell_type": "markdown",
      "metadata": {
        "id": "BUBnLCKFgZWu",
        "colab_type": "text"
      },
      "source": [
        "# Выбор гиперпараметров"
      ]
    },
    {
      "cell_type": "markdown",
      "metadata": {
        "id": "l3vk_CRrS0ib",
        "colab_type": "text"
      },
      "source": [
        "**Обучаем модель. Подробнее:**\n",
        "\n",
        "Для compile в качестве loss (минимизируемая функция потерь), берем 'binary_crossentropy', т.к. предсказываем только одно значение и это соотвествует стандартной сигнатуре (нужные кастомные метрики, могут быть вычислены из y_true, y_pred). По этой причине, у нас стоит Dense(1,...,activation='sigmoid'), если бы у нас было бы больше чем один класс для предсказания, например датасет MNIST, тогда разумеется брали 'categorical_crossentropy' с Density(10,...,activation='softmax').\n",
        "\n",
        "Кстати, вместо 'softmax', взяли 'sigmoid'. Сигмовидные функции используются в машинном обучении для логистической регрессии и базовых реализаций нейронной сети и являются вводными единицами активации. Но для продвинутых сигмаидных функций нейронной сети они не предпочтительны из-за различных недостатков. Хотя сигмовидная функция и ее производная просты и помогают сократить время, необходимое для создания моделей, существует существенный недостаток потери информации из-за короткого диапазона производной.\n",
        "\n",
        "Следовательно, чем больше слоев в нашей нейронной сети или чем глубже наша нейронная сеть, тем больше информации сжимается и теряется на каждом уровне, что усиливается и приводит к значительной потере данных в целом. По причине, того что это бинарная класификация, сжатие информации не страшно, т.к. один нейроный слой для сигмовидной функции.\n",
        "\n",
        "Большинство приложений глубокого обучения в настоящее время используют ReLU вместо функций логистической активации, что мы и сделали при строительстве нейронных сетей. ReLU не лишены каких-либо недостатков, некоторые из них заключаются в том, что ReLU не центрируется на ноль и не дифференцируется в нуле, но дифференцируется в любом другом месте. По этой причине, делаем сглаживние сигмовидной функцией. \n",
        "\n",
        "![Sigmoid Vs ReLU](https://miro.medium.com/max/700/1*29VH_NiSdoLJ1jUMLrURCA.png)\n",
        "\n",
        "Некоторые проблемы ReLU с нейроными сетями, могут быть решены Leaky ReLU. \n",
        "\n",
        "И основной вопрос, почему взяли 'sigmoid', а не 'softmax' для обучения на энтропии потерь. \n",
        "\n",
        "Потому, что 'softmax' используется для мультиклассификации в модели логистической регрессии, тогда как 'sigmoid' используется для двоичной классификации в модели логистической регрессии, сумма вероятностей равна единице для 'softmax'. А значит, 'softmax' не проявит себя в двоичной классификации, но затрить больше времени. \n",
        "\n",
        "**Что насчет оптимизатора?**\n",
        "Обновить параметры выходного слоя довольно просто, но чтобы добраться до параметров слоёв за ним, приходится проходить через нелинейности, производные от которых вносят свой вклад. Явно расписанные формулы для обновления весов где-нибдуь в середине сети выглядят страшненько, ведь каждый нейрон зависит ото всех нейронов, с которымии он связан, а те — ото всех нейронов, с которыми связаны они, и так далее. Оптимизаторы нужны, чтобы решить ряд проблем, например застревание в локальных минимумах или седловых точках, сложный ландшафт целевой функции, маленькая скорость обучения, итд. Идея потимизатора, накапливать импульсы, т.е. если мы некоторое время движемся в определённом направлении, то, вероятно, нам следует туда двигаться некоторое время и в будущем. Для этого нужно уметь обращаться к недавней истории изменений каждого параметра.\n",
        "\n",
        "Оптимизатор — один из двух аргументов, необходимых для компиляции модели Keras. Его можно настроить, или взять уже с параметрами. \n",
        "Оптимизатор SGD (стохастический оптимизатор градиентного спуска), RMSProp, Adagrad, Adadelta, Adam, Adamax, Nadam.\n",
        "\n",
        "Выбрали для обученя модели, оптимизатор Adam, который по сути являестя RMSprop с импульсом. Параметры по умолчанию, keras.optimizers.Adam(learning_rate=0.001, beta_1=0.9, beta_2=0.999, amsgrad=False). **Он сочетает в себе и идею накопления движения и идею более слабого обновления весов для типичных признаков. **\n",
        "\n",
        "learning_rate: float >= 0. Скорость обучения.\n",
        "beta_1: float, 0 < beta < 1. Обычно близко к 1.\n",
        "beta_2: float, 0 < beta < 1. Обычно близко к 1.\n",
        "\n",
        "Adam отличается тем, что мы накапливаем значения градиента. Кроме того, мы хотим знать, как часто градиент изменяется.\n",
        "\n",
        "Выбор оптимизатора, производился для простых датасетов, на основе вывода статьи. Я бы предложил держать качестве «золотого молотка» Adam, так как он выдаёт наилучшие результаты при минимальном подгоне параметров. Когда сеть уже более-менее отлажена, попробуйте метод Нестерова с разными параметрами.\n",
        "\n",
        "![Оптимизатор для простых датасетов](https://hsto.org/files/270/4f7/4f5/2704f74f52764a2d83f519c16dd3bc9c.png)\n",
        "\n",
        "Выбор гиперпараметров производился, на основе графика, и сравнения точности моделей. Основной критерий, времени экномится больше, чем увиличивается AUC от обучения.\n",
        "\n",
        "Выбирались параметры, колличество нейроных сетей, эпох обучения, и количество образцов на обновлении градиента, теперь подробнее.\n",
        "\n",
        "batch_size: Целое или нет. Количество образцов на обновление градиента. Если не указано, то по умолчанию параметр batch_size будет равен 32. Не указывайте размер переменной batch_size, если ваши данные представлены в виде символических тензоров, генераторов или экземпляров последовательности (поскольку они генерируют партии).\n",
        "\n",
        "Размер партии значительно влияет на обучение. Когда вы помещаете пакет в свою сеть, происходит то, что вы усредняете градиенты. Концепция заключается в том, что если размер вашей партии достаточно велик, это обеспечит достаточно стабильную оценку того, каким будет градиент полного набора данных. Взяв образцы из вашего набора данных, вы оцените градиент при значительном снижении вычислительных затрат. Чем ниже вы идете, тем менее точной будет ваша оценка, однако в некоторых случаях эти шумовые градиенты могут фактически помочь избежать локальных минимумов. Когда оно слишком низкое, вес вашей сети может просто перепрыгнуть, если ваши данные шумят, и они могут быть неспособны к обучению или они сходятся очень медленно, что отрицательно влияет на общее время вычислений\n",
        "\n",
        "Размер batch_size в среднем влияет только на скорость вашего обучения, а не на качество обучения. Я попытался получить большой размер batch_size, который по-прежнему умещается в памяти графического процессора, чтобы получить максимально возможную скорость.\n",
        "\n",
        "epochs: Целое. Количество эпох для обучения модели. Эпоха — это итерация по всем предоставленным данным x и y. Обратите внимание, что в сочетании с initial_epoch, эпохи должны пониматься как «конечная эпоха». Модель не тренируется для ряда итераций, заданных эпохами, а только до тех пор, пока не будет достигнута эпоха индексов.\n",
        "Подбор производился опираясь на значения результатов статьи и своих сравнений.\n",
        "\n",
        "Колличество нейроных слоев. Dense просто обычный плотно связанный слой NN. Dense реализует операцию: output = activation(dot(input, kernel) + bias), где активация — это функция активации по элементам, переданная в качестве аргумента активации, кернел — это матрица весов, созданная слоем, а смещение — это вектор смещения, созданный слоем (применимо только в случае, если use_bias — True).\n",
        "\n",
        "Замечание: если вход в слой имеет ранг больше 2, то он сглаживается перед исходным точечным продуктом с кернелом.\n",
        "\n",
        "Выбор units: положительное целое число, размерность выходного пространства, для Dense. Нейронные сети - это, в основном, умножение матриц, падение, о котором вы говорите в первой части, связано не с функцией активации, а только с природой умножения матриц:\n",
        "\n",
        "Просто говоря, считаем так: input * weights = output. Подбираем этот параметр, при уже зафиксированных значениях epoch, bach_size. Вывод делался по значениям AUC.\n",
        "\n",
        "Источники: \n",
        "\n",
        "[1] Методы оптимизации нейронных сетей https://habr.com/ru/post/318970/\n",
        "\n",
        "[2] Оптимизаторы https://ru-keras.com/optimizer/\n",
        "\n",
        "[3] Activation function https://medium.com/@himanshuxd/\n",
        "activation-functions-sigmoid-relu-leaky-relu-and-softmax-basics-for-neural-networks-and-deep-8d9c70eed91e\n",
        "\n",
        "[4] Методы последовательной модели https://ru-keras.com/sequential/\n",
        "\n",
        "[5] Основные слои https://ru-keras.com/core-layers/\n",
        "\n",
        "[6] FAQ https://ru-keras.com/keras-faq/"
      ]
    },
    {
      "cell_type": "markdown",
      "metadata": {
        "id": "alcw79YfgdYL",
        "colab_type": "text"
      },
      "source": [
        "# Обучение модели"
      ]
    },
    {
      "cell_type": "code",
      "metadata": {
        "id": "eW9yxegRUDg4",
        "colab_type": "code",
        "colab": {
          "base_uri": "https://localhost:8080/",
          "height": 1000
        },
        "outputId": "0e93b811-5b38-433e-c466-fb9cc2144c70"
      },
      "source": [
        "model = Sequential()\n",
        "model.add(Dense(64, init='uniform', activation='relu'))\n",
        "model.add(Dense(1, init='uniform', activation='sigmoid'))\n",
        "\n",
        "model.compile(loss='binary_crossentropy', optimizer='adam', metrics=[METRICS])\n",
        "history = model.fit(X.values, Y.values, epochs=28, batch_size=128, \n",
        "          validation_data=(X_val.values, y_val.values))"
      ],
      "execution_count": 12,
      "outputs": [
        {
          "output_type": "stream",
          "text": [
            "Train on 819 samples, validate on 145 samples\n",
            "Epoch 1/28\n",
            "819/819 [==============================] - 0s 397us/step - loss: 0.6093 - tp: 197.8571 - fp: 85.4286 - tn: 115.2857 - fn: 102.4286 - accuracy: 0.5966 - precision: 0.6767 - recall: 0.6263 - auc: 0.6396 - val_loss: 0.5307 - val_tp: 422.0000 - val_fp: 144.0000 - val_tn: 211.5000 - val_fn: 178.0000 - val_accuracy: 0.6630 - val_precision: 0.7456 - val_recall: 0.7033 - val_auc: 0.7247\n",
            "Epoch 2/28\n",
            "819/819 [==============================] - 0s 62us/step - loss: 0.4892 - tp: 683.1429 - fp: 218.8571 - tn: 337.4286 - fn: 225.5714 - accuracy: 0.6947 - precision: 0.7571 - recall: 0.7491 - auc: 0.7630 - val_loss: 0.4908 - val_tp: 927.0000 - val_fp: 274.5000 - val_tn: 439.0000 - val_fn: 279.0000 - val_accuracy: 0.7116 - val_precision: 0.7715 - val_recall: 0.7687 - val_auc: 0.7795\n",
            "Epoch 3/28\n",
            "819/819 [==============================] - 0s 61us/step - loss: 0.4376 - tp: 1191.5714 - fp: 337.4286 - tn: 579.1429 - fn: 320.8571 - accuracy: 0.7284 - precision: 0.7791 - recall: 0.7872 - auc: 0.7991 - val_loss: 0.4797 - val_tp: 1441.5000 - val_fp: 384.0000 - val_tn: 687.5000 - val_fn: 370.5000 - val_accuracy: 0.7383 - val_precision: 0.7896 - val_recall: 0.7955 - val_auc: 0.8092\n",
            "Epoch 4/28\n",
            "819/819 [==============================] - 0s 66us/step - loss: 0.4029 - tp: 1710.7142 - fp: 442.7143 - tn: 832.4286 - fn: 407.1429 - accuracy: 0.7492 - precision: 0.7943 - recall: 0.8074 - auc: 0.8220 - val_loss: 0.4627 - val_tp: 1966.0000 - val_fp: 486.0000 - val_tn: 943.5000 - val_fn: 452.0000 - val_accuracy: 0.7562 - val_precision: 0.8018 - val_recall: 0.8131 - val_auc: 0.8302\n",
            "Epoch 5/28\n",
            "819/819 [==============================] - 0s 56us/step - loss: 0.3769 - tp: 2241.4285 - fp: 546.5714 - tn: 1088.1428 - fn: 480.8571 - accuracy: 0.7640 - precision: 0.8038 - recall: 0.8231 - auc: 0.8399 - val_loss: 0.4529 - val_tp: 2501.0000 - val_fp: 588.0000 - val_tn: 1199.5000 - val_fn: 523.0000 - val_accuracy: 0.7691 - val_precision: 0.8096 - val_recall: 0.8270 - val_auc: 0.8450\n",
            "Epoch 6/28\n",
            "819/819 [==============================] - 0s 61us/step - loss: 0.3524 - tp: 2785.1428 - fp: 635.2857 - tn: 1347.4286 - fn: 553.1429 - accuracy: 0.7766 - precision: 0.8143 - recall: 0.8342 - auc: 0.8538 - val_loss: 0.4937 - val_tp: 3036.5000 - val_fp: 682.5000 - val_tn: 1463.0000 - val_fn: 593.5000 - val_accuracy: 0.7791 - val_precision: 0.8165 - val_recall: 0.8365 - val_auc: 0.8564\n",
            "Epoch 7/28\n",
            "819/819 [==============================] - 0s 54us/step - loss: 0.3255 - tp: 3314.2856 - fp: 733.1429 - tn: 1611.1428 - fn: 626.4286 - accuracy: 0.7836 - precision: 0.8188 - recall: 0.8410 - auc: 0.8632 - val_loss: 0.4911 - val_tp: 3568.0000 - val_fp: 770.0000 - val_tn: 1733.5000 - val_fn: 668.0000 - val_accuracy: 0.7866 - val_precision: 0.8225 - val_recall: 0.8423 - val_auc: 0.8666\n",
            "Epoch 8/28\n",
            "819/819 [==============================] - 0s 61us/step - loss: 0.3054 - tp: 3849.7144 - fp: 817.0000 - tn: 1886.0000 - fn: 696.2857 - accuracy: 0.7912 - precision: 0.8249 - recall: 0.8468 - auc: 0.8730 - val_loss: 0.5116 - val_tp: 4104.5000 - val_fp: 854.5000 - val_tn: 2007.0000 - val_fn: 737.5000 - val_accuracy: 0.7933 - val_precision: 0.8277 - val_recall: 0.8477 - val_auc: 0.8753\n",
            "Epoch 9/28\n",
            "819/819 [==============================] - 0s 62us/step - loss: 0.2890 - tp: 4383.5713 - fp: 901.7143 - tn: 2167.7144 - fn: 760.0000 - accuracy: 0.7976 - precision: 0.8294 - recall: 0.8522 - auc: 0.8811 - val_loss: 0.4980 - val_tp: 4652.0000 - val_fp: 940.0000 - val_tn: 2279.5000 - val_fn: 796.0000 - val_accuracy: 0.7997 - val_precision: 0.8319 - val_recall: 0.8539 - val_auc: 0.8829\n",
            "Epoch 10/28\n",
            "819/819 [==============================] - 0s 57us/step - loss: 0.2694 - tp: 4941.7144 - fp: 984.7143 - tn: 2435.2856 - fn: 815.2857 - accuracy: 0.8038 - precision: 0.8338 - recall: 0.8583 - auc: 0.8877 - val_loss: 0.5037 - val_tp: 5210.0000 - val_fp: 1024.0000 - val_tn: 2553.5000 - val_fn: 844.0000 - val_accuracy: 0.8061 - val_precision: 0.8357 - val_recall: 0.8606 - val_auc: 0.8898\n",
            "Epoch 11/28\n",
            "819/819 [==============================] - 0s 59us/step - loss: 0.2526 - tp: 5494.8569 - fp: 1061.8572 - tn: 2716.1428 - fn: 868.1429 - accuracy: 0.8096 - precision: 0.8380 - recall: 0.8635 - auc: 0.8944 - val_loss: 0.5385 - val_tp: 5751.5000 - val_fp: 1093.0000 - val_tn: 2842.5000 - val_fn: 908.5000 - val_accuracy: 0.8111 - val_precision: 0.8403 - val_recall: 0.8636 - val_auc: 0.8960\n",
            "Epoch 12/28\n",
            "819/819 [==============================] - 0s 71us/step - loss: 0.2397 - tp: 6039.1431 - fp: 1124.8572 - tn: 3008.7144 - fn: 932.2857 - accuracy: 0.8147 - precision: 0.8430 - recall: 0.8662 - auc: 0.8999 - val_loss: 0.5403 - val_tp: 6302.5000 - val_fp: 1156.0000 - val_tn: 3137.5000 - val_fn: 963.5000 - val_accuracy: 0.8166 - val_precision: 0.8450 - val_recall: 0.8674 - val_auc: 0.9016\n",
            "Epoch 13/28\n",
            "819/819 [==============================] - 0s 75us/step - loss: 0.2248 - tp: 6587.2856 - fp: 1186.8572 - tn: 3313.0000 - fn: 981.8571 - accuracy: 0.8203 - precision: 0.8473 - recall: 0.8703 - auc: 0.9055 - val_loss: 0.5408 - val_tp: 6855.0000 - val_fp: 1213.0000 - val_tn: 3438.5000 - val_fn: 1017.0000 - val_accuracy: 0.8219 - val_precision: 0.8497 - val_recall: 0.8708 - val_auc: 0.9068\n",
            "Epoch 14/28\n",
            "819/819 [==============================] - 0s 63us/step - loss: 0.2129 - tp: 7148.2856 - fp: 1244.2858 - tn: 3607.5715 - fn: 1032.8572 - accuracy: 0.8253 - precision: 0.8517 - recall: 0.8737 - auc: 0.9102 - val_loss: 0.5641 - val_tp: 7410.0000 - val_fp: 1271.0000 - val_tn: 3738.5000 - val_fn: 1068.0000 - val_accuracy: 0.8266 - val_precision: 0.8536 - val_recall: 0.8740 - val_auc: 0.9113\n",
            "Epoch 15/28\n",
            "819/819 [==============================] - 0s 63us/step - loss: 0.1976 - tp: 7700.0000 - fp: 1297.0000 - tn: 3917.4285 - fn: 1082.5714 - accuracy: 0.8300 - precision: 0.8558 - recall: 0.8767 - auc: 0.9146 - val_loss: 0.5683 - val_tp: 7968.0000 - val_fp: 1321.0000 - val_tn: 4046.5000 - val_fn: 1116.0000 - val_accuracy: 0.8314 - val_precision: 0.8578 - val_recall: 0.8771 - val_auc: 0.9157\n",
            "Epoch 16/28\n",
            "819/819 [==============================] - 0s 64us/step - loss: 0.1863 - tp: 8265.8574 - fp: 1347.0000 - tn: 4217.4287 - fn: 1130.7142 - accuracy: 0.8344 - precision: 0.8599 - recall: 0.8796 - auc: 0.9186 - val_loss: 0.5949 - val_tp: 8529.5000 - val_fp: 1370.0000 - val_tn: 4355.5000 - val_fn: 1160.5000 - val_accuracy: 0.8358 - val_precision: 0.8616 - val_recall: 0.8802 - val_auc: 0.9196\n",
            "Epoch 17/28\n",
            "819/819 [==============================] - 0s 65us/step - loss: 0.1760 - tp: 8822.0000 - fp: 1392.7142 - tn: 4537.0000 - fn: 1173.2858 - accuracy: 0.8388 - precision: 0.8636 - recall: 0.8826 - auc: 0.9223 - val_loss: 0.5795 - val_tp: 9094.0000 - val_fp: 1412.0000 - val_tn: 4671.5000 - val_fn: 1202.0000 - val_accuracy: 0.8404 - val_precision: 0.8656 - val_recall: 0.8833 - val_auc: 0.9232\n",
            "Epoch 18/28\n",
            "819/819 [==============================] - 0s 65us/step - loss: 0.1607 - tp: 9390.7139 - fp: 1428.2858 - tn: 4858.2856 - fn: 1211.7142 - accuracy: 0.8437 - precision: 0.8680 - recall: 0.8857 - auc: 0.9259 - val_loss: 0.5864 - val_tp: 9660.5000 - val_fp: 1447.0000 - val_tn: 4994.5000 - val_fn: 1241.5000 - val_accuracy: 0.8450 - val_precision: 0.8697 - val_recall: 0.8861 - val_auc: 0.9267\n",
            "Epoch 19/28\n",
            "819/819 [==============================] - 0s 68us/step - loss: 0.1506 - tp: 9954.0000 - fp: 1461.1428 - tn: 5187.0000 - fn: 1250.8572 - accuracy: 0.8481 - precision: 0.8720 - recall: 0.8884 - auc: 0.9293 - val_loss: 0.5959 - val_tp: 10230.5000 - val_fp: 1476.0000 - val_tn: 5323.5000 - val_fn: 1277.5000 - val_accuracy: 0.8496 - val_precision: 0.8739 - val_recall: 0.8890 - val_auc: 0.9300\n",
            "Epoch 20/28\n",
            "819/819 [==============================] - 0s 64us/step - loss: 0.1416 - tp: 10519.2861 - fp: 1488.2858 - tn: 5523.0000 - fn: 1286.4286 - accuracy: 0.8525 - precision: 0.8760 - recall: 0.8910 - auc: 0.9324 - val_loss: 0.6142 - val_tp: 10802.0000 - val_fp: 1503.0000 - val_tn: 5654.5000 - val_fn: 1312.0000 - val_accuracy: 0.8539 - val_precision: 0.8779 - val_recall: 0.8917 - val_auc: 0.9330\n",
            "Epoch 21/28\n",
            "819/819 [==============================] - 0s 64us/step - loss: 0.1304 - tp: 11098.4287 - fp: 1516.7142 - tn: 5849.2856 - fn: 1316.5714 - accuracy: 0.8568 - precision: 0.8798 - recall: 0.8939 - auc: 0.9352 - val_loss: 0.6281 - val_tp: 11380.5000 - val_fp: 1531.0000 - val_tn: 5984.5000 - val_fn: 1339.5000 - val_accuracy: 0.8581 - val_precision: 0.8814 - val_recall: 0.8947 - val_auc: 0.9358\n",
            "Epoch 22/28\n",
            "819/819 [==============================] - 0s 68us/step - loss: 0.1219 - tp: 11677.2861 - fp: 1542.1428 - tn: 6180.0000 - fn: 1345.5714 - accuracy: 0.8608 - precision: 0.8833 - recall: 0.8967 - auc: 0.9379 - val_loss: 0.6574 - val_tp: 11955.5000 - val_fp: 1557.0000 - val_tn: 6316.5000 - val_fn: 1370.5000 - val_accuracy: 0.8619 - val_precision: 0.8848 - val_recall: 0.8972 - val_auc: 0.9384\n",
            "Epoch 23/28\n",
            "819/819 [==============================] - 0s 61us/step - loss: 0.1130 - tp: 12256.5713 - fp: 1567.5714 - tn: 6507.1431 - fn: 1377.7142 - accuracy: 0.8643 - precision: 0.8866 - recall: 0.8989 - auc: 0.9403 - val_loss: 0.6763 - val_tp: 12528.5000 - val_fp: 1580.0000 - val_tn: 6651.5000 - val_fn: 1403.5000 - val_accuracy: 0.8654 - val_precision: 0.8880 - val_recall: 0.8993 - val_auc: 0.9407\n",
            "Epoch 24/28\n",
            "819/819 [==============================] - 0s 64us/step - loss: 0.1077 - tp: 12832.4287 - fp: 1589.5714 - tn: 6842.2856 - fn: 1408.7142 - accuracy: 0.8677 - precision: 0.8898 - recall: 0.9011 - auc: 0.9426 - val_loss: 0.6589 - val_tp: 13106.0000 - val_fp: 1605.0000 - val_tn: 6984.5000 - val_fn: 1432.0000 - val_accuracy: 0.8687 - val_precision: 0.8909 - val_recall: 0.9015 - val_auc: 0.9430\n",
            "Epoch 25/28\n",
            "819/819 [==============================] - 0s 67us/step - loss: 0.1025 - tp: 13405.0000 - fp: 1610.5714 - tn: 7182.2856 - fn: 1439.1428 - accuracy: 0.8710 - precision: 0.8927 - recall: 0.9030 - auc: 0.9447 - val_loss: 0.7063 - val_tp: 13679.5000 - val_fp: 1620.0000 - val_tn: 7327.5000 - val_fn: 1464.5000 - val_accuracy: 0.8720 - val_precision: 0.8941 - val_recall: 0.9033 - val_auc: 0.9450\n",
            "Epoch 26/28\n",
            "819/819 [==============================] - 0s 69us/step - loss: 0.0916 - tp: 13982.7139 - fp: 1625.7142 - tn: 7525.0000 - fn: 1467.5714 - accuracy: 0.8743 - precision: 0.8958 - recall: 0.9050 - auc: 0.9466 - val_loss: 0.6798 - val_tp: 14261.0000 - val_fp: 1637.0000 - val_tn: 7668.5000 - val_fn: 1489.0000 - val_accuracy: 0.8752 - val_precision: 0.8970 - val_recall: 0.9055 - val_auc: 0.9470\n",
            "Epoch 27/28\n",
            "819/819 [==============================] - 0s 69us/step - loss: 0.0863 - tp: 14565.8574 - fp: 1641.8572 - tn: 7866.8569 - fn: 1490.4286 - accuracy: 0.8775 - precision: 0.8987 - recall: 0.9072 - auc: 0.9486 - val_loss: 0.7461 - val_tp: 14842.5000 - val_fp: 1654.0000 - val_tn: 8009.5000 - val_fn: 1513.5000 - val_accuracy: 0.8783 - val_precision: 0.8997 - val_recall: 0.9075 - val_auc: 0.9487\n",
            "Epoch 28/28\n",
            "819/819 [==============================] - 0s 67us/step - loss: 0.0867 - tp: 15142.7139 - fp: 1660.1428 - tn: 8208.0000 - fn: 1518.1428 - accuracy: 0.8802 - precision: 0.9012 - recall: 0.9089 - auc: 0.9501 - val_loss: 0.7227 - val_tp: 15421.0000 - val_fp: 1671.0000 - val_tn: 8350.5000 - val_fn: 1541.0000 - val_accuracy: 0.8810 - val_precision: 0.9022 - val_recall: 0.9091 - val_auc: 0.9503\n"
          ],
          "name": "stdout"
        }
      ]
    },
    {
      "cell_type": "markdown",
      "metadata": {
        "id": "yGv8mVN3wuxI",
        "colab_type": "text"
      },
      "source": [
        "Сохраним модель."
      ]
    },
    {
      "cell_type": "code",
      "metadata": {
        "id": "gbpGNw4IwUNE",
        "colab_type": "code",
        "colab": {}
      },
      "source": [
        "from keras.models import load_model\n",
        "\n",
        "model.save('keras_model.h5')    # Создает файл HDF5 ‘my_model.h5’\n",
        "\n",
        "#del model    # Удаляет существующую модель\n",
        "\n",
        "#model = load_model('my_model.h5')    # Возвращает скомпилированную модель"
      ],
      "execution_count": 33,
      "outputs": []
    },
    {
      "cell_type": "markdown",
      "metadata": {
        "id": "DidJL5s1mK6l",
        "colab_type": "text"
      },
      "source": [
        "Увеличия epoch и units, величит значение AUC. Например, при **epoch = 50**, и тем же колличеством слоев, можно поднять AUC с **95% до 97.5%**, а увеличинем нейроного слоя **units до 128**, можно добиться **AUC 98.5%**. Тем не менее, нашего значения AUC достаточно, для класификации и совпадание с результатами из задания."
      ]
    },
    {
      "cell_type": "code",
      "metadata": {
        "id": "awBiVwefIX3o",
        "colab_type": "code",
        "colab": {
          "base_uri": "https://localhost:8080/",
          "height": 71
        },
        "outputId": "66961b1f-dd38-4a59-b983-d3e26605b447"
      },
      "source": [
        "print('\\nhistory dict:', history.history)    # Для оценки AUC и выбора параметров. "
      ],
      "execution_count": 13,
      "outputs": [
        {
          "output_type": "stream",
          "text": [
            "\n",
            "history dict: {'val_loss': [0.5306934954791234, 0.4908246085561555, 0.4796790961561532, 0.4626501173808657, 0.4529381858891454, 0.49372588211092455, 0.49111901727215995, 0.5116221980801944, 0.49801892083266686, 0.5036941772904889, 0.5384767980411135, 0.5402786633064007, 0.540773147961189, 0.5640846807381202, 0.5683454357344528, 0.5949245736516755, 0.5794739651268926, 0.5863640180949508, 0.5958913747606607, 0.6141998880896075, 0.6280758206186623, 0.6573829644712909, 0.6763245691513193, 0.6588934236559375, 0.7062640210677837, 0.679819944809223, 0.7460975741517955, 0.7227400185733006], 'val_tp': [422.0, 927.0, 1441.5, 1966.0, 2501.0, 3036.5, 3568.0, 4104.5, 4652.0, 5210.0, 5751.5, 6302.5, 6855.0, 7410.0, 7968.0, 8529.5, 9094.0, 9660.5, 10230.5, 10802.0, 11380.5, 11955.5, 12528.5, 13106.0, 13679.5, 14261.0, 14842.5, 15421.0], 'val_fp': [144.0, 274.5, 384.0, 486.0, 588.0, 682.5, 770.0, 854.5, 940.0, 1024.0, 1093.0, 1156.0, 1213.0, 1271.0, 1321.0, 1370.0, 1412.0, 1447.0, 1476.0, 1503.0, 1531.0, 1557.0, 1580.0, 1605.0, 1620.0, 1637.0, 1654.0, 1671.0], 'val_tn': [211.5, 439.0, 687.5, 943.5, 1199.5, 1463.0, 1733.5, 2007.0, 2279.5, 2553.5, 2842.5, 3137.5, 3438.5, 3738.5, 4046.5, 4355.5, 4671.5, 4994.5, 5323.5, 5654.5, 5984.5, 6316.5, 6651.5, 6984.5, 7327.5, 7668.5, 8009.5, 8350.5], 'val_fn': [178.0, 279.0, 370.5, 452.0, 523.0, 593.5, 668.0, 737.5, 796.0, 844.0, 908.5, 963.5, 1017.0, 1068.0, 1116.0, 1160.5, 1202.0, 1241.5, 1277.5, 1312.0, 1339.5, 1370.5, 1403.5, 1432.0, 1464.5, 1489.0, 1513.5, 1541.0], 'val_accuracy': [0.6629956364631653, 0.7116414308547974, 0.7383370399475098, 0.7562041282653809, 0.7690941691398621, 0.7790665626525879, 0.7866307497024536, 0.7933405637741089, 0.7997114658355713, 0.8060529828071594, 0.8110990524291992, 0.8166443109512329, 0.8219347596168518, 0.8265801668167114, 0.8313669562339783, 0.835847020149231, 0.8404102325439453, 0.8449851274490356, 0.849597156047821, 0.8539294004440308, 0.8581453561782837, 0.8619071245193481, 0.8653867840766907, 0.8686844706535339, 0.8719673156738281, 0.875236988067627, 0.8782643675804138, 0.8809642791748047], 'val_precision': [0.7455731630325317, 0.7715326547622681, 0.7896447777748108, 0.8017932772636414, 0.8096464276313782, 0.816482663154602, 0.8224985003471375, 0.8276869058609009, 0.8319026827812195, 0.8357394933700562, 0.840309739112854, 0.8450090885162354, 0.8496529459953308, 0.8535882830619812, 0.8577888011932373, 0.8616092205047607, 0.8656005859375, 0.8697276711463928, 0.8739162087440491, 0.877854585647583, 0.8814235329627991, 0.8847733736038208, 0.8880107402801514, 0.8908979892730713, 0.8941141963005066, 0.8970310688018799, 0.8997362852096558, 0.9022349715232849], 'val_recall': [0.7033203840255737, 0.7686551213264465, 0.7955284714698792, 0.8130674958229065, 0.8270496129989624, 0.8365011811256409, 0.8423037528991699, 0.847686767578125, 0.853891134262085, 0.8605878949165344, 0.8635885715484619, 0.8673960566520691, 0.8708078265190125, 0.8740268349647522, 0.8771466016769409, 0.880237340927124, 0.8832556009292603, 0.8861218094825745, 0.8889902830123901, 0.8916955590248108, 0.8946933746337891, 0.8971558809280396, 0.8992606997489929, 0.9014995098114014, 0.9032950401306152, 0.9054602980613708, 0.9074651002883911, 0.9091498851776123], 'val_auc': [0.7246610522270203, 0.7795065641403198, 0.8091586828231812, 0.8301818370819092, 0.8450073003768921, 0.8563790321350098, 0.866634726524353, 0.875342607498169, 0.8829135894775391, 0.8897839784622192, 0.8960325121879578, 0.9016290903091431, 0.906787633895874, 0.9113389253616333, 0.9156978130340576, 0.9195630550384521, 0.923202633857727, 0.9266985654830933, 0.929977536201477, 0.9329721927642822, 0.9357746839523315, 0.9383585453033447, 0.94074946641922, 0.9429941177368164, 0.9449720978736877, 0.946962296962738, 0.948704719543457, 0.9503145217895508], 'loss': [0.6093442012829949, 0.4892462663379781, 0.43756103108071875, 0.40293630149774934, 0.3769156584227333, 0.3523970713545551, 0.3254831327405168, 0.3054313944227384, 0.2890101649385669, 0.2694155422831921, 0.25264798277609224, 0.23967224017458813, 0.22484798429213165, 0.2128742086326974, 0.19764868727679363, 0.18633384727878594, 0.17603674248970763, 0.16067208175039116, 0.15059567534879886, 0.14157797014101958, 0.1304080939609489, 0.12187871011258336, 0.11303660757521279, 0.10769358940504409, 0.10247918260221225, 0.09156587429717639, 0.08631854803643675, 0.08672817714594222], 'tp': [197.85715, 683.1429, 1191.5714, 1710.7142, 2241.4285, 2785.1428, 3314.2856, 3849.7144, 4383.5713, 4941.7144, 5494.857, 6039.143, 6587.2856, 7148.2856, 7700.0, 8265.857, 8822.0, 9390.714, 9954.0, 10519.286, 11098.429, 11677.286, 12256.571, 12832.429, 13405.0, 13982.714, 14565.857, 15142.714], 'fp': [85.42857, 218.85715, 337.42856, 442.7143, 546.5714, 635.2857, 733.1429, 817.0, 901.7143, 984.7143, 1061.8572, 1124.8572, 1186.8572, 1244.2858, 1297.0, 1347.0, 1392.7142, 1428.2858, 1461.1428, 1488.2858, 1516.7142, 1542.1428, 1567.5714, 1589.5714, 1610.5714, 1625.7142, 1641.8572, 1660.1428], 'tn': [115.28571, 337.42856, 579.1429, 832.4286, 1088.1428, 1347.4286, 1611.1428, 1886.0, 2167.7144, 2435.2856, 2716.1428, 3008.7144, 3313.0, 3607.5715, 3917.4285, 4217.4287, 4537.0, 4858.2856, 5187.0, 5523.0, 5849.2856, 6180.0, 6507.143, 6842.2856, 7182.2856, 7525.0, 7866.857, 8208.0], 'fn': [102.42857, 225.57143, 320.85715, 407.14285, 480.85715, 553.1429, 626.4286, 696.2857, 760.0, 815.2857, 868.1429, 932.2857, 981.8571, 1032.8572, 1082.5714, 1130.7142, 1173.2858, 1211.7142, 1250.8572, 1286.4286, 1316.5714, 1345.5714, 1377.7142, 1408.7142, 1439.1428, 1467.5714, 1490.4286, 1518.1428], 'accuracy': [0.5965886, 0.6947338, 0.7283911, 0.74920356, 0.76396644, 0.7765573, 0.7835938, 0.79116535, 0.79761845, 0.8038022, 0.80964375, 0.81471646, 0.8202734, 0.82525367, 0.8299705, 0.83436644, 0.83884674, 0.843665, 0.84807366, 0.85252476, 0.85675037, 0.86078537, 0.8643157, 0.8677487, 0.87096554, 0.87425107, 0.8774677, 0.8801875], 'precision': [0.67671883, 0.7570974, 0.77908593, 0.794314, 0.80383766, 0.8142558, 0.81882674, 0.8248927, 0.8293718, 0.8338233, 0.83802545, 0.8429647, 0.84730875, 0.8517256, 0.85582644, 0.8598644, 0.86364, 0.86797065, 0.8719855, 0.87604195, 0.8797584, 0.8833327, 0.8865967, 0.88977426, 0.8927315, 0.895836, 0.89869183, 0.90119267], 'recall': [0.62632066, 0.74913025, 0.7871693, 0.8073884, 0.82313293, 0.83418715, 0.8409611, 0.84676844, 0.8521773, 0.8583234, 0.8635346, 0.8662368, 0.8702587, 0.8737317, 0.8767185, 0.87964934, 0.8826009, 0.88569945, 0.88835204, 0.8910203, 0.8939403, 0.89666593, 0.898943, 0.90107346, 0.9030425, 0.9050056, 0.90716743, 0.90887386], 'auc': [0.6395549, 0.7630316, 0.7991261, 0.82199144, 0.83990395, 0.85375595, 0.8631557, 0.8729766, 0.88106495, 0.8877471, 0.8943747, 0.8999317, 0.905527, 0.91020817, 0.914578, 0.91859454, 0.92233676, 0.92593765, 0.9292647, 0.9323673, 0.9351956, 0.9378848, 0.9402865, 0.9425634, 0.94471633, 0.94660693, 0.94855547, 0.95010024]}\n"
          ],
          "name": "stdout"
        }
      ]
    },
    {
      "cell_type": "markdown",
      "metadata": {
        "id": "FmM9UGoDpHUJ",
        "colab_type": "text"
      },
      "source": [
        "Импортируем результаты из задания для сравнения и построения ROC curve, т.к. примем их за истину, как значения y_test."
      ]
    },
    {
      "cell_type": "code",
      "metadata": {
        "id": "DDkI1McyJIyk",
        "colab_type": "code",
        "colab": {}
      },
      "source": [
        "y_test = pd.read_csv('/content/sample_submission.csv')"
      ],
      "execution_count": 21,
      "outputs": []
    },
    {
      "cell_type": "markdown",
      "metadata": {
        "id": "nKpmeTN7ppiG",
        "colab_type": "text"
      },
      "source": [
        "Совершаем предсказания для X_test."
      ]
    },
    {
      "cell_type": "code",
      "metadata": {
        "id": "aUXIeSzIin_8",
        "colab_type": "code",
        "colab": {}
      },
      "source": [
        "y_pred = model.predict(X_test.values)"
      ],
      "execution_count": 22,
      "outputs": []
    },
    {
      "cell_type": "code",
      "metadata": {
        "id": "RWzUo0zkpUGz",
        "colab_type": "code",
        "colab": {}
      },
      "source": [
        "X_name = pd.DataFrame(X_name)\n",
        "X_name['y'] = np.nan\n",
        "for i in range(len(X_name)):\n",
        "    X_name['y'][i] = np.around([y_pred[i][0]], decimals = 3)"
      ],
      "execution_count": 23,
      "outputs": []
    },
    {
      "cell_type": "markdown",
      "metadata": {
        "id": "AjY0O3UCpxeK",
        "colab_type": "text"
      },
      "source": [
        "Количество строк в датасете результата из задания и предсказания отличаются. По причине, различия обработки тестовых и тренировочных данных. \n",
        "\n",
        "**P.S.** Если в датасете результата, сохранены все строки, то такого результата можно было бы добиться следующим способом. Удаление солбцов с большим количеством NaN и +-inf, либо замена NaN, как 0 (либо одно число, если в столбце уже имеется 0) и +-inf, как большое число +-float (умещающиеся в памяти). Тем не менее, мне такой подход показался не правильным, т.к. +-inf, подобие +-бесконечности, а как известно бесконечность != бесконечности, по этой причине inf - inf = NaN, т.е. напрашивается второй вывод, NaN != NaN.  "
      ]
    },
    {
      "cell_type": "markdown",
      "metadata": {
        "id": "qfq3kl37rU8V",
        "colab_type": "text"
      },
      "source": [
        "Объеденим результат предсказания с результатом из задания (удалив недостающие строки)."
      ]
    },
    {
      "cell_type": "code",
      "metadata": {
        "id": "Itmw5XPvtaeV",
        "colab_type": "code",
        "colab": {}
      },
      "source": [
        "df = X_name.merge(y_test_d, left_on='sample_id', right_on='sample_id')"
      ],
      "execution_count": 18,
      "outputs": []
    },
    {
      "cell_type": "markdown",
      "metadata": {
        "id": "G_o5Fe1nrgqE",
        "colab_type": "text"
      },
      "source": [
        "Как упоминалось ранее, результат предсказания из задания, считаем как истиный, и по этим данным строим ROC. Для этого округлим значения до результата предсказания."
      ]
    },
    {
      "cell_type": "code",
      "metadata": {
        "id": "5FpN8GQlPNvK",
        "colab_type": "code",
        "colab": {}
      },
      "source": [
        "for i in range(len(df)):\n",
        "    df['y_y'][i] = np.around([df['y_y'][i]], decimals = 0)"
      ],
      "execution_count": 19,
      "outputs": []
    },
    {
      "cell_type": "markdown",
      "metadata": {
        "id": "vR4wn_Z6rxzP",
        "colab_type": "text"
      },
      "source": [
        "Построим ROC curve."
      ]
    },
    {
      "cell_type": "code",
      "metadata": {
        "id": "dd254_-RKTS3",
        "colab_type": "code",
        "colab": {
          "base_uri": "https://localhost:8080/",
          "height": 535
        },
        "outputId": "c13d11fd-527b-4b60-9948-394b0f93e942"
      },
      "source": [
        "from sklearn.metrics import roc_curve\n",
        "sns.set(font_scale=1.5)\n",
        "sns.set_color_codes(\"muted\")\n",
        "\n",
        "plt.figure(figsize=(10, 8))\n",
        "fpr, tpr, thresholds = roc_curve(df['y_y'], model.predict(X_test).ravel(), pos_label=1)\n",
        "lw = 2\n",
        "plt.plot(fpr, tpr, lw=lw, label='ROC curve ')\n",
        "plt.plot([0, 1], [0, 1])\n",
        "plt.xlim([0.0, 1.0])\n",
        "plt.ylim([0.0, 1.05])\n",
        "plt.xlabel('False Positive Rate')\n",
        "plt.ylabel('True Positive Rate')\n",
        "plt.title('ROC curve')\n",
        "plt.savefig(\"ROC.png\")\n",
        "plt.show()"
      ],
      "execution_count": 20,
      "outputs": [
        {
          "output_type": "display_data",
          "data": {
            "image/png": "[encoded data removed]",
            "text/plain": [
              "<Figure size 720x576 with 1 Axes>"
            ]
          },
          "metadata": {
            "tags": []
          }
        }
      ]
    },
    {
      "cell_type": "markdown",
      "metadata": {
        "id": "mycMO88rsMEg",
        "colab_type": "text"
      },
      "source": [
        "Сравним отличные значения точек и выведим название образца."
      ]
    },
    {
      "cell_type": "code",
      "metadata": {
        "id": "d6t3tH48shgN",
        "colab_type": "code",
        "colab": {
          "base_uri": "https://localhost:8080/",
          "height": 306
        },
        "outputId": "34134ff1-a47f-472b-e466-7983a79fae80"
      },
      "source": [
        "for i in range(len(df)):\n",
        "    if np.around([df['y_x'][i]], decimals = 0) != df['y_y'][i]:\n",
        "        print(df['sample_id'][i])"
      ],
      "execution_count": 25,
      "outputs": [
        {
          "output_type": "stream",
          "text": [
            "sample_1098\n",
            "sample_1102\n",
            "sample_1150\n",
            "sample_1152\n",
            "sample_1155\n",
            "sample_1163\n",
            "sample_1173\n",
            "sample_1195\n",
            "sample_1240\n",
            "sample_1244\n",
            "sample_1250\n",
            "sample_1266\n",
            "sample_1267\n",
            "sample_1268\n",
            "sample_1277\n",
            "sample_1278\n",
            "sample_1286\n"
          ],
          "name": "stdout"
        }
      ]
    },
    {
      "cell_type": "markdown",
      "metadata": {
        "id": "Lv1Sws2Vt7US",
        "colab_type": "text"
      },
      "source": [
        "В процетном соотношении."
      ]
    },
    {
      "cell_type": "code",
      "metadata": {
        "id": "W4qGhAJht5WH",
        "colab_type": "code",
        "colab": {
          "base_uri": "https://localhost:8080/",
          "height": 34
        },
        "outputId": "d209e0e5-494c-48b6-b8c8-5385b233a660"
      },
      "source": [
        "17/164 * 100"
      ],
      "execution_count": 29,
      "outputs": [
        {
          "output_type": "execute_result",
          "data": {
            "text/plain": [
              "10.365853658536585"
            ]
          },
          "metadata": {
            "tags": []
          },
          "execution_count": 29
        }
      ]
    },
    {
      "cell_type": "markdown",
      "metadata": {
        "id": "lhKpfOhar2xZ",
        "colab_type": "text"
      },
      "source": [
        "# Сравнение моделей"
      ]
    },
    {
      "cell_type": "markdown",
      "metadata": {
        "id": "QRaWr9i4wKiH",
        "colab_type": "text"
      },
      "source": [
        "Без сокращений. Пересрестная проверка. Параметр cv - cross-validated, означает вычисления значений cv раз подряд (каждый раз с разными разбиениями). Возьмем этот параметр равным количеству epoch в keras модели."
      ]
    },
    {
      "cell_type": "code",
      "metadata": {
        "id": "JI2SnkOlIe_c",
        "colab_type": "code",
        "colab": {}
      },
      "source": [
        "from sklearn.metrics import roc_auc_score, accuracy_score, precision_score, recall_score, f1_score\n",
        "from sklearn.linear_model import LogisticRegression\n",
        "from sklearn.tree import DecisionTreeClassifier\n",
        "from sklearn.svm import SVC\n",
        "from sklearn.ensemble import RandomForestClassifier\n",
        "from sklearn.discriminant_analysis import LinearDiscriminantAnalysis, QuadraticDiscriminantAnalysis\n",
        "from sklearn.cluster import KMeans\n",
        "from sklearn.neighbors import KNeighborsClassifier\n",
        "from sklearn.naive_bayes import GaussianNB\n",
        "from sklearn.metrics import precision_recall_fscore_support\n",
        "from sklearn.metrics import mean_squared_error as mse\n",
        "from sklearn.preprocessing import StandardScaler\n",
        "from sklearn.model_selection import cross_validate\n",
        "from sklearn.model_selection import train_test_split\n",
        "from sklearn.ensemble import ExtraTreesClassifier\n",
        "from sklearn.feature_selection import SelectFromModel\n",
        "from sklearn.svm import LinearSVC\n",
        "from sklearn.ensemble import VotingClassifier\n",
        "from sklearn.feature_selection import RFECV"
      ],
      "execution_count": 30,
      "outputs": []
    },
    {
      "cell_type": "markdown",
      "metadata": {
        "id": "73QogsOMxsfQ",
        "colab_type": "text"
      },
      "source": [
        "Logistic Regression"
      ]
    },
    {
      "cell_type": "code",
      "metadata": {
        "id": "qkByolwpIY51",
        "colab_type": "code",
        "colab": {}
      },
      "source": [
        "LR = LogisticRegression()\n",
        "\n",
        "scoring = ['accuracy', 'precision_macro', 'recall_macro' , 'f1_weighted', 'roc_auc']\n",
        "scores = cross_validate(LR, X_train, y_train, scoring=scoring, cv=28)\n",
        "\n",
        "sorted(scores.keys())\n",
        "LR_fit_time = scores['fit_time'].mean()\n",
        "LR_score_time = scores['score_time'].mean()\n",
        "LR_accuracy = scores['test_accuracy'].mean()\n",
        "LR_precision = scores['test_precision_macro'].mean()\n",
        "LR_recall = scores['test_recall_macro'].mean()\n",
        "LR_f1 = scores['test_f1_weighted'].mean()\n",
        "LR_roc = scores['test_roc_auc'].mean()"
      ],
      "execution_count": 35,
      "outputs": []
    },
    {
      "cell_type": "markdown",
      "metadata": {
        "id": "z49TKXeWxt2W",
        "colab_type": "text"
      },
      "source": [
        "Decision Tree"
      ]
    },
    {
      "cell_type": "code",
      "metadata": {
        "id": "l7CT4cvAIj1b",
        "colab_type": "code",
        "colab": {}
      },
      "source": [
        "decision_tree = DecisionTreeClassifier()\n",
        "\n",
        "scoring = ['accuracy', 'precision_macro', 'recall_macro' , 'f1_weighted', 'roc_auc']\n",
        "scores = cross_validate(decision_tree, X_train, y_train, scoring=scoring, cv=28)\n",
        "\n",
        "sorted(scores.keys())\n",
        "dtree_fit_time = scores['fit_time'].mean()\n",
        "dtree_score_time = scores['score_time'].mean()\n",
        "dtree_accuracy = scores['test_accuracy'].mean()\n",
        "dtree_precision = scores['test_precision_macro'].mean()\n",
        "dtree_recall = scores['test_recall_macro'].mean()\n",
        "dtree_f1 = scores['test_f1_weighted'].mean()\n",
        "dtree_roc = scores['test_roc_auc'].mean()"
      ],
      "execution_count": 36,
      "outputs": []
    },
    {
      "cell_type": "markdown",
      "metadata": {
        "id": "calzY48rzG01",
        "colab_type": "text"
      },
      "source": [
        "Support Vector Machine"
      ]
    },
    {
      "cell_type": "code",
      "metadata": {
        "id": "r8aJGZrlzJnk",
        "colab_type": "code",
        "colab": {}
      },
      "source": [
        "SVM = SVC(probability = True)\n",
        "\n",
        "scoring = ['accuracy','precision_macro', 'recall_macro' , 'f1_weighted', 'roc_auc']\n",
        "scores = cross_validate(SVM, X_train, y_train, scoring=scoring, cv=28)\n",
        "\n",
        "sorted(scores.keys())\n",
        "SVM_fit_time = scores['fit_time'].mean()\n",
        "SVM_score_time = scores['score_time'].mean()\n",
        "SVM_accuracy = scores['test_accuracy'].mean()\n",
        "SVM_precision = scores['test_precision_macro'].mean()\n",
        "SVM_recall = scores['test_recall_macro'].mean()\n",
        "SVM_f1 = scores['test_f1_weighted'].mean()\n",
        "SVM_roc = scores['test_roc_auc'].mean()"
      ],
      "execution_count": 37,
      "outputs": []
    },
    {
      "cell_type": "markdown",
      "metadata": {
        "id": "8CWG6HFAzL_x",
        "colab_type": "text"
      },
      "source": [
        "Linear Discriminant Analysis"
      ]
    },
    {
      "cell_type": "code",
      "metadata": {
        "id": "OzrK5CyAzPTx",
        "colab_type": "code",
        "colab": {}
      },
      "source": [
        "LDA = LinearDiscriminantAnalysis()\n",
        "\n",
        "scoring = ['accuracy', 'precision_macro', 'recall_macro' , 'f1_weighted', 'roc_auc']\n",
        "scores = cross_validate(LDA, X_train, y_train, scoring=scoring, cv=28)\n",
        "\n",
        "sorted(scores.keys())\n",
        "LDA_fit_time = scores['fit_time'].mean()\n",
        "LDA_score_time = scores['score_time'].mean()\n",
        "LDA_accuracy = scores['test_accuracy'].mean()\n",
        "LDA_precision = scores['test_precision_macro'].mean()\n",
        "LDA_recall = scores['test_recall_macro'].mean()\n",
        "LDA_f1 = scores['test_f1_weighted'].mean()\n",
        "LDA_roc = scores['test_roc_auc'].mean()"
      ],
      "execution_count": 38,
      "outputs": []
    },
    {
      "cell_type": "markdown",
      "metadata": {
        "id": "U3vN57ouzS5W",
        "colab_type": "text"
      },
      "source": [
        "Quadratic Discriminant Analysis"
      ]
    },
    {
      "cell_type": "code",
      "metadata": {
        "id": "HNWjFA23zU4m",
        "colab_type": "code",
        "colab": {}
      },
      "source": [
        "QDA = QuadraticDiscriminantAnalysis()\n",
        "\n",
        "scoring = ['accuracy', 'precision_macro', 'recall_macro' , 'f1_weighted', 'roc_auc']\n",
        "scores = cross_validate(QDA, X_train, y_train, scoring=scoring, cv=28)\n",
        "\n",
        "sorted(scores.keys())\n",
        "QDA_fit_time = scores['fit_time'].mean()\n",
        "QDA_score_time = scores['score_time'].mean()\n",
        "QDA_accuracy = scores['test_accuracy'].mean()\n",
        "QDA_precision = scores['test_precision_macro'].mean()\n",
        "QDA_recall = scores['test_recall_macro'].mean()\n",
        "QDA_f1 = scores['test_f1_weighted'].mean()\n",
        "QDA_roc = scores['test_roc_auc'].mean()"
      ],
      "execution_count": 39,
      "outputs": []
    },
    {
      "cell_type": "markdown",
      "metadata": {
        "id": "1MdPIMPGzYgB",
        "colab_type": "text"
      },
      "source": [
        "Random Forest Classifier"
      ]
    },
    {
      "cell_type": "code",
      "metadata": {
        "id": "D9VH325Pzb44",
        "colab_type": "code",
        "colab": {}
      },
      "source": [
        "random_forest = RandomForestClassifier()\n",
        "\n",
        "scoring = ['accuracy', 'precision_macro', 'recall_macro' , 'f1_weighted', 'roc_auc']\n",
        "scores = cross_validate(random_forest, X_train, y_train, scoring=scoring, cv=28)\n",
        "\n",
        "sorted(scores.keys())\n",
        "forest_fit_time = scores['fit_time'].mean()\n",
        "forest_score_time = scores['score_time'].mean()\n",
        "forest_accuracy = scores['test_accuracy'].mean()\n",
        "forest_precision = scores['test_precision_macro'].mean()\n",
        "forest_recall = scores['test_recall_macro'].mean()\n",
        "forest_f1 = scores['test_f1_weighted'].mean()\n",
        "forest_roc = scores['test_roc_auc'].mean()"
      ],
      "execution_count": 40,
      "outputs": []
    },
    {
      "cell_type": "markdown",
      "metadata": {
        "id": "ltr9IDR6zeOI",
        "colab_type": "text"
      },
      "source": [
        "K-Nearest Neighbors"
      ]
    },
    {
      "cell_type": "code",
      "metadata": {
        "id": "Pdcm0Es8zh8q",
        "colab_type": "code",
        "colab": {}
      },
      "source": [
        "KNN = KNeighborsClassifier()\n",
        "\n",
        "scoring = ['accuracy', 'precision_macro', 'recall_macro' , 'f1_weighted', 'roc_auc']\n",
        "scores = cross_validate(KNN, X_train, y_train, scoring=scoring, cv=28)\n",
        "\n",
        "sorted(scores.keys())\n",
        "KNN_fit_time = scores['fit_time'].mean()\n",
        "KNN_score_time = scores['score_time'].mean()\n",
        "KNN_accuracy = scores['test_accuracy'].mean()\n",
        "KNN_precision = scores['test_precision_macro'].mean()\n",
        "KNN_recall = scores['test_recall_macro'].mean()\n",
        "KNN_f1 = scores['test_f1_weighted'].mean()\n",
        "KNN_roc = scores['test_roc_auc'].mean()"
      ],
      "execution_count": 41,
      "outputs": []
    },
    {
      "cell_type": "markdown",
      "metadata": {
        "id": "GYZkk_9pzlOC",
        "colab_type": "text"
      },
      "source": [
        "Naive Bayes"
      ]
    },
    {
      "cell_type": "code",
      "metadata": {
        "id": "h_O78WZbzppq",
        "colab_type": "code",
        "colab": {}
      },
      "source": [
        "bayes = GaussianNB()\n",
        "\n",
        "scoring = ['accuracy', 'precision_macro', 'recall_macro' , 'f1_weighted', 'roc_auc']\n",
        "scores = cross_validate(bayes, X_train, y_train, scoring=scoring, cv=28)\n",
        "\n",
        "sorted(scores.keys())\n",
        "bayes_fit_time = scores['fit_time'].mean()\n",
        "bayes_score_time = scores['score_time'].mean()\n",
        "bayes_accuracy = scores['test_accuracy'].mean()\n",
        "bayes_precision = scores['test_precision_macro'].mean()\n",
        "bayes_recall = scores['test_recall_macro'].mean()\n",
        "bayes_f1 = scores['test_f1_weighted'].mean()\n",
        "bayes_roc = scores['test_roc_auc'].mean()"
      ],
      "execution_count": 42,
      "outputs": []
    },
    {
      "cell_type": "markdown",
      "metadata": {
        "id": "CNSZDAxI1OEI",
        "colab_type": "text"
      },
      "source": [
        "Keras Model"
      ]
    },
    {
      "cell_type": "code",
      "metadata": {
        "id": "gPQgfo8z1QB7",
        "colab_type": "code",
        "colab": {
          "base_uri": "https://localhost:8080/",
          "height": 71
        },
        "outputId": "e5f1ac97-a67b-4039-e743-8002f13a2089"
      },
      "source": [
        "print('\\nhistory dict:', history.history)    # Для оценки AUC и выбора параметров. "
      ],
      "execution_count": 44,
      "outputs": [
        {
          "output_type": "stream",
          "text": [
            "\n",
            "history dict: {'val_loss': [0.5306934954791234, 0.4908246085561555, 0.4796790961561532, 0.4626501173808657, 0.4529381858891454, 0.49372588211092455, 0.49111901727215995, 0.5116221980801944, 0.49801892083266686, 0.5036941772904889, 0.5384767980411135, 0.5402786633064007, 0.540773147961189, 0.5640846807381202, 0.5683454357344528, 0.5949245736516755, 0.5794739651268926, 0.5863640180949508, 0.5958913747606607, 0.6141998880896075, 0.6280758206186623, 0.6573829644712909, 0.6763245691513193, 0.6588934236559375, 0.7062640210677837, 0.679819944809223, 0.7460975741517955, 0.7227400185733006], 'val_tp': [422.0, 927.0, 1441.5, 1966.0, 2501.0, 3036.5, 3568.0, 4104.5, 4652.0, 5210.0, 5751.5, 6302.5, 6855.0, 7410.0, 7968.0, 8529.5, 9094.0, 9660.5, 10230.5, 10802.0, 11380.5, 11955.5, 12528.5, 13106.0, 13679.5, 14261.0, 14842.5, 15421.0], 'val_fp': [144.0, 274.5, 384.0, 486.0, 588.0, 682.5, 770.0, 854.5, 940.0, 1024.0, 1093.0, 1156.0, 1213.0, 1271.0, 1321.0, 1370.0, 1412.0, 1447.0, 1476.0, 1503.0, 1531.0, 1557.0, 1580.0, 1605.0, 1620.0, 1637.0, 1654.0, 1671.0], 'val_tn': [211.5, 439.0, 687.5, 943.5, 1199.5, 1463.0, 1733.5, 2007.0, 2279.5, 2553.5, 2842.5, 3137.5, 3438.5, 3738.5, 4046.5, 4355.5, 4671.5, 4994.5, 5323.5, 5654.5, 5984.5, 6316.5, 6651.5, 6984.5, 7327.5, 7668.5, 8009.5, 8350.5], 'val_fn': [178.0, 279.0, 370.5, 452.0, 523.0, 593.5, 668.0, 737.5, 796.0, 844.0, 908.5, 963.5, 1017.0, 1068.0, 1116.0, 1160.5, 1202.0, 1241.5, 1277.5, 1312.0, 1339.5, 1370.5, 1403.5, 1432.0, 1464.5, 1489.0, 1513.5, 1541.0], 'val_accuracy': [0.6629956364631653, 0.7116414308547974, 0.7383370399475098, 0.7562041282653809, 0.7690941691398621, 0.7790665626525879, 0.7866307497024536, 0.7933405637741089, 0.7997114658355713, 0.8060529828071594, 0.8110990524291992, 0.8166443109512329, 0.8219347596168518, 0.8265801668167114, 0.8313669562339783, 0.835847020149231, 0.8404102325439453, 0.8449851274490356, 0.849597156047821, 0.8539294004440308, 0.8581453561782837, 0.8619071245193481, 0.8653867840766907, 0.8686844706535339, 0.8719673156738281, 0.875236988067627, 0.8782643675804138, 0.8809642791748047], 'val_precision': [0.7455731630325317, 0.7715326547622681, 0.7896447777748108, 0.8017932772636414, 0.8096464276313782, 0.816482663154602, 0.8224985003471375, 0.8276869058609009, 0.8319026827812195, 0.8357394933700562, 0.840309739112854, 0.8450090885162354, 0.8496529459953308, 0.8535882830619812, 0.8577888011932373, 0.8616092205047607, 0.8656005859375, 0.8697276711463928, 0.8739162087440491, 0.877854585647583, 0.8814235329627991, 0.8847733736038208, 0.8880107402801514, 0.8908979892730713, 0.8941141963005066, 0.8970310688018799, 0.8997362852096558, 0.9022349715232849], 'val_recall': [0.7033203840255737, 0.7686551213264465, 0.7955284714698792, 0.8130674958229065, 0.8270496129989624, 0.8365011811256409, 0.8423037528991699, 0.847686767578125, 0.853891134262085, 0.8605878949165344, 0.8635885715484619, 0.8673960566520691, 0.8708078265190125, 0.8740268349647522, 0.8771466016769409, 0.880237340927124, 0.8832556009292603, 0.8861218094825745, 0.8889902830123901, 0.8916955590248108, 0.8946933746337891, 0.8971558809280396, 0.8992606997489929, 0.9014995098114014, 0.9032950401306152, 0.9054602980613708, 0.9074651002883911, 0.9091498851776123], 'val_auc': [0.7246610522270203, 0.7795065641403198, 0.8091586828231812, 0.8301818370819092, 0.8450073003768921, 0.8563790321350098, 0.866634726524353, 0.875342607498169, 0.8829135894775391, 0.8897839784622192, 0.8960325121879578, 0.9016290903091431, 0.906787633895874, 0.9113389253616333, 0.9156978130340576, 0.9195630550384521, 0.923202633857727, 0.9266985654830933, 0.929977536201477, 0.9329721927642822, 0.9357746839523315, 0.9383585453033447, 0.94074946641922, 0.9429941177368164, 0.9449720978736877, 0.946962296962738, 0.948704719543457, 0.9503145217895508], 'loss': [0.6093442012829949, 0.4892462663379781, 0.43756103108071875, 0.40293630149774934, 0.3769156584227333, 0.3523970713545551, 0.3254831327405168, 0.3054313944227384, 0.2890101649385669, 0.2694155422831921, 0.25264798277609224, 0.23967224017458813, 0.22484798429213165, 0.2128742086326974, 0.19764868727679363, 0.18633384727878594, 0.17603674248970763, 0.16067208175039116, 0.15059567534879886, 0.14157797014101958, 0.1304080939609489, 0.12187871011258336, 0.11303660757521279, 0.10769358940504409, 0.10247918260221225, 0.09156587429717639, 0.08631854803643675, 0.08672817714594222], 'tp': [197.85715, 683.1429, 1191.5714, 1710.7142, 2241.4285, 2785.1428, 3314.2856, 3849.7144, 4383.5713, 4941.7144, 5494.857, 6039.143, 6587.2856, 7148.2856, 7700.0, 8265.857, 8822.0, 9390.714, 9954.0, 10519.286, 11098.429, 11677.286, 12256.571, 12832.429, 13405.0, 13982.714, 14565.857, 15142.714], 'fp': [85.42857, 218.85715, 337.42856, 442.7143, 546.5714, 635.2857, 733.1429, 817.0, 901.7143, 984.7143, 1061.8572, 1124.8572, 1186.8572, 1244.2858, 1297.0, 1347.0, 1392.7142, 1428.2858, 1461.1428, 1488.2858, 1516.7142, 1542.1428, 1567.5714, 1589.5714, 1610.5714, 1625.7142, 1641.8572, 1660.1428], 'tn': [115.28571, 337.42856, 579.1429, 832.4286, 1088.1428, 1347.4286, 1611.1428, 1886.0, 2167.7144, 2435.2856, 2716.1428, 3008.7144, 3313.0, 3607.5715, 3917.4285, 4217.4287, 4537.0, 4858.2856, 5187.0, 5523.0, 5849.2856, 6180.0, 6507.143, 6842.2856, 7182.2856, 7525.0, 7866.857, 8208.0], 'fn': [102.42857, 225.57143, 320.85715, 407.14285, 480.85715, 553.1429, 626.4286, 696.2857, 760.0, 815.2857, 868.1429, 932.2857, 981.8571, 1032.8572, 1082.5714, 1130.7142, 1173.2858, 1211.7142, 1250.8572, 1286.4286, 1316.5714, 1345.5714, 1377.7142, 1408.7142, 1439.1428, 1467.5714, 1490.4286, 1518.1428], 'accuracy': [0.5965886, 0.6947338, 0.7283911, 0.74920356, 0.76396644, 0.7765573, 0.7835938, 0.79116535, 0.79761845, 0.8038022, 0.80964375, 0.81471646, 0.8202734, 0.82525367, 0.8299705, 0.83436644, 0.83884674, 0.843665, 0.84807366, 0.85252476, 0.85675037, 0.86078537, 0.8643157, 0.8677487, 0.87096554, 0.87425107, 0.8774677, 0.8801875], 'precision': [0.67671883, 0.7570974, 0.77908593, 0.794314, 0.80383766, 0.8142558, 0.81882674, 0.8248927, 0.8293718, 0.8338233, 0.83802545, 0.8429647, 0.84730875, 0.8517256, 0.85582644, 0.8598644, 0.86364, 0.86797065, 0.8719855, 0.87604195, 0.8797584, 0.8833327, 0.8865967, 0.88977426, 0.8927315, 0.895836, 0.89869183, 0.90119267], 'recall': [0.62632066, 0.74913025, 0.7871693, 0.8073884, 0.82313293, 0.83418715, 0.8409611, 0.84676844, 0.8521773, 0.8583234, 0.8635346, 0.8662368, 0.8702587, 0.8737317, 0.8767185, 0.87964934, 0.8826009, 0.88569945, 0.88835204, 0.8910203, 0.8939403, 0.89666593, 0.898943, 0.90107346, 0.9030425, 0.9050056, 0.90716743, 0.90887386], 'auc': [0.6395549, 0.7630316, 0.7991261, 0.82199144, 0.83990395, 0.85375595, 0.8631557, 0.8729766, 0.88106495, 0.8877471, 0.8943747, 0.8999317, 0.905527, 0.91020817, 0.914578, 0.91859454, 0.92233676, 0.92593765, 0.9292647, 0.9323673, 0.9351956, 0.9378848, 0.9402865, 0.9425634, 0.94471633, 0.94660693, 0.94855547, 0.95010024]}\n"
          ],
          "name": "stdout"
        }
      ]
    },
    {
      "cell_type": "code",
      "metadata": {
        "id": "pjdikW3e1ZSD",
        "colab_type": "code",
        "colab": {}
      },
      "source": [
        "Keras_AUC = 0.95010024\n",
        "Keras_recall = 0.90887386\n",
        "Keras_precision = 0.90119267\n",
        "Keras_accuracy = 0.8801875\n",
        "Keras_f1 = 2*(Keras_recall*Keras_precision)/(Keras_precision+Keras_recall)"
      ],
      "execution_count": 48,
      "outputs": []
    },
    {
      "cell_type": "code",
      "metadata": {
        "id": "SFgIGa0I17VB",
        "colab_type": "code",
        "colab": {
          "base_uri": "https://localhost:8080/",
          "height": 34
        },
        "outputId": "9757394a-4683-41df-d3cd-99b3431f601f"
      },
      "source": [
        "Keras_recall = 0.90887386\n",
        "Keras_precision = 0.90119267\n",
        "2*(Keras_recall*Keras_precision)/(Keras_precision+Keras_recall)"
      ],
      "execution_count": 47,
      "outputs": [
        {
          "output_type": "execute_result",
          "data": {
            "text/plain": [
              "0.9050169670687256"
            ]
          },
          "metadata": {
            "tags": []
          },
          "execution_count": 47
        }
      ]
    },
    {
      "cell_type": "markdown",
      "metadata": {
        "id": "Xm0utu4ezu3S",
        "colab_type": "text"
      },
      "source": [
        "**Сравниваем модели.** По результатам сравнения, наша keras модель на порядок лучше."
      ]
    },
    {
      "cell_type": "code",
      "metadata": {
        "id": "m_oZbOzqzwyJ",
        "colab_type": "code",
        "colab": {
          "base_uri": "https://localhost:8080/",
          "height": 328
        },
        "outputId": "127e4955-6159-4453-cdad-9917eb7c2d70"
      },
      "source": [
        "models_initial = pd.DataFrame({\n",
        "    'Model'       : ['Keras Model','Logistic Regression', 'Decision Tree', 'Support Vector Machine', 'Linear Discriminant Analysis', 'Quadratic Discriminant Analysis', 'Random Forest', 'K-Nearest Neighbors', 'Bayes'],\n",
        "    'Accuracy'    : [Keras_accuracy,LR_accuracy, dtree_accuracy, SVM_accuracy, LDA_accuracy, QDA_accuracy, forest_accuracy, KNN_accuracy, bayes_accuracy],\n",
        "    'Precision'   : [Keras_precision,LR_precision, dtree_precision, SVM_precision, LDA_precision, QDA_precision, forest_precision, KNN_precision, bayes_precision],\n",
        "    'Recall'      : [Keras_recall,LR_recall, dtree_recall, SVM_recall, LDA_recall, QDA_recall, forest_recall, KNN_recall, bayes_recall],\n",
        "    'F1_score'    : [Keras_f1,LR_f1, dtree_f1, SVM_f1, LDA_f1, QDA_f1, forest_f1, KNN_f1, bayes_f1],\n",
        "    'AUC_ROC'     : [Keras_AUC,LR_roc, dtree_roc, SVM_roc, LDA_roc, QDA_roc, forest_roc, KNN_roc, bayes_roc],\n",
        "    }, columns = ['Model', 'Accuracy', 'Precision', 'Recall', 'F1_score', 'AUC_ROC'])\n",
        "\n",
        "models_initial.sort_values(by='Accuracy', ascending=False)"
      ],
      "execution_count": 49,
      "outputs": [
        {
          "output_type": "execute_result",
          "data": {
            "text/html": [
              "<div>\n",
              "<style scoped>\n",
              "    .dataframe tbody tr th:only-of-type {\n",
              "        vertical-align: middle;\n",
              "    }\n",
              "\n",
              "    .dataframe tbody tr th {\n",
              "        vertical-align: top;\n",
              "    }\n",
              "\n",
              "    .dataframe thead th {\n",
              "        text-align: right;\n",
              "    }\n",
              "</style>\n",
              "<table border=\"1\" class=\"dataframe\">\n",
              "  <thead>\n",
              "    <tr style=\"text-align: right;\">\n",
              "      <th></th>\n",
              "      <th>Model</th>\n",
              "      <th>Accuracy</th>\n",
              "      <th>Precision</th>\n",
              "      <th>Recall</th>\n",
              "      <th>F1_score</th>\n",
              "      <th>AUC_ROC</th>\n",
              "    </tr>\n",
              "  </thead>\n",
              "  <tbody>\n",
              "    <tr>\n",
              "      <th>0</th>\n",
              "      <td>Keras Model</td>\n",
              "      <td>0.880188</td>\n",
              "      <td>0.901193</td>\n",
              "      <td>0.908874</td>\n",
              "      <td>0.905017</td>\n",
              "      <td>0.950100</td>\n",
              "    </tr>\n",
              "    <tr>\n",
              "      <th>3</th>\n",
              "      <td>Support Vector Machine</td>\n",
              "      <td>0.780012</td>\n",
              "      <td>0.789262</td>\n",
              "      <td>0.736282</td>\n",
              "      <td>0.767379</td>\n",
              "      <td>0.848159</td>\n",
              "    </tr>\n",
              "    <tr>\n",
              "      <th>6</th>\n",
              "      <td>Random Forest</td>\n",
              "      <td>0.779112</td>\n",
              "      <td>0.776108</td>\n",
              "      <td>0.749515</td>\n",
              "      <td>0.773397</td>\n",
              "      <td>0.845877</td>\n",
              "    </tr>\n",
              "    <tr>\n",
              "      <th>7</th>\n",
              "      <td>K-Nearest Neighbors</td>\n",
              "      <td>0.761375</td>\n",
              "      <td>0.764573</td>\n",
              "      <td>0.714060</td>\n",
              "      <td>0.747316</td>\n",
              "      <td>0.802578</td>\n",
              "    </tr>\n",
              "    <tr>\n",
              "      <th>1</th>\n",
              "      <td>Logistic Regression</td>\n",
              "      <td>0.739826</td>\n",
              "      <td>0.727132</td>\n",
              "      <td>0.716817</td>\n",
              "      <td>0.736670</td>\n",
              "      <td>0.795150</td>\n",
              "    </tr>\n",
              "    <tr>\n",
              "      <th>2</th>\n",
              "      <td>Decision Tree</td>\n",
              "      <td>0.719988</td>\n",
              "      <td>0.704186</td>\n",
              "      <td>0.700179</td>\n",
              "      <td>0.718827</td>\n",
              "      <td>0.700179</td>\n",
              "    </tr>\n",
              "    <tr>\n",
              "      <th>5</th>\n",
              "      <td>Quadratic Discriminant Analysis</td>\n",
              "      <td>0.707833</td>\n",
              "      <td>0.692304</td>\n",
              "      <td>0.660334</td>\n",
              "      <td>0.692830</td>\n",
              "      <td>0.696494</td>\n",
              "    </tr>\n",
              "    <tr>\n",
              "      <th>8</th>\n",
              "      <td>Bayes</td>\n",
              "      <td>0.679382</td>\n",
              "      <td>0.679090</td>\n",
              "      <td>0.681601</td>\n",
              "      <td>0.680640</td>\n",
              "      <td>0.753958</td>\n",
              "    </tr>\n",
              "    <tr>\n",
              "      <th>4</th>\n",
              "      <td>Linear Discriminant Analysis</td>\n",
              "      <td>0.580942</td>\n",
              "      <td>0.569275</td>\n",
              "      <td>0.569680</td>\n",
              "      <td>0.582954</td>\n",
              "      <td>0.565768</td>\n",
              "    </tr>\n",
              "  </tbody>\n",
              "</table>\n",
              "</div>"
            ],
            "text/plain": [
              "                             Model  Accuracy  ...  F1_score   AUC_ROC\n",
              "0                      Keras Model  0.880188  ...  0.905017  0.950100\n",
              "3           Support Vector Machine  0.780012  ...  0.767379  0.848159\n",
              "6                    Random Forest  0.779112  ...  0.773397  0.845877\n",
              "7              K-Nearest Neighbors  0.761375  ...  0.747316  0.802578\n",
              "1              Logistic Regression  0.739826  ...  0.736670  0.795150\n",
              "2                    Decision Tree  0.719988  ...  0.718827  0.700179\n",
              "5  Quadratic Discriminant Analysis  0.707833  ...  0.692830  0.696494\n",
              "8                            Bayes  0.679382  ...  0.680640  0.753958\n",
              "4     Linear Discriminant Analysis  0.580942  ...  0.582954  0.565768\n",
              "\n",
              "[9 rows x 6 columns]"
            ]
          },
          "metadata": {
            "tags": []
          },
          "execution_count": 49
        }
      ]
    }
  ]
}