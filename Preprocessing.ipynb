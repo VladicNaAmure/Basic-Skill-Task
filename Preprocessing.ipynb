{
  "nbformat": 4,
  "nbformat_minor": 0,
  "metadata": {
    "colab": {
      "name": "Preprocessing.ipynb",
      "provenance": [],
      "collapsed_sections": []
    },
    "kernelspec": {
      "name": "python3",
      "display_name": "Python 3"
    }
  },
  "cells": [
    {
      "cell_type": "markdown",
      "metadata": {
        "id": "-c-FzpIEg-Gm",
        "colab_type": "text"
      },
      "source": [
        "Важный этап в обучении модели препроцессинг данных. В задании сказано, что некоторые данные, как в тестовых, так и в тренировочных могут быть пропущенны некоторые значения. Эти значения нужно исключить или преобразовать в датасете."
      ]
    },
    {
      "cell_type": "code",
      "metadata": {
        "id": "lw_mjhK-OHgG",
        "colab_type": "code",
        "colab": {
          "base_uri": "https://localhost:8080/",
          "height": 85
        },
        "outputId": "cdba8772-6c49-4b79-ef66-1bd0ab8eaad9"
      },
      "source": [
        "!unzip /content/skill-task2.zip"
      ],
      "execution_count": null,
      "outputs": [
        {
          "output_type": "stream",
          "text": [
            "Archive:  /content/skill-task2.zip\n",
            "  inflating: sample_submission.csv   \n",
            "  inflating: test.csv/test.csv       \n",
            "  inflating: train.csv/train.csv     \n"
          ],
          "name": "stdout"
        }
      ]
    },
    {
      "cell_type": "markdown",
      "metadata": {
        "id": "cU7XvUCAlJOV",
        "colab_type": "text"
      },
      "source": [
        "Подключаем библиотеки."
      ]
    },
    {
      "cell_type": "code",
      "metadata": {
        "id": "WoUdoB4bg1TY",
        "colab_type": "code",
        "colab": {}
      },
      "source": [
        "import numpy as np\n",
        "import pandas as pd"
      ],
      "execution_count": 247,
      "outputs": []
    },
    {
      "cell_type": "markdown",
      "metadata": {
        "id": "ZLCrZwKJUvhC",
        "colab_type": "text"
      },
      "source": [
        "Оценка тренировочных данных."
      ]
    },
    {
      "cell_type": "code",
      "metadata": {
        "id": "L5cqfefQBNYY",
        "colab_type": "code",
        "colab": {}
      },
      "source": [
        "train_data = pd.read_csv('/content/train.csv/train.csv')"
      ],
      "execution_count": 248,
      "outputs": []
    },
    {
      "cell_type": "code",
      "metadata": {
        "id": "X9GLqAmeOauv",
        "colab_type": "code",
        "colab": {
          "base_uri": "https://localhost:8080/",
          "height": 253
        },
        "outputId": "afe72697-688a-4f93-9e1a-82bc93a948ab"
      },
      "source": [
        "train_data.head()"
      ],
      "execution_count": 249,
      "outputs": [
        {
          "output_type": "execute_result",
          "data": {
            "text/html": [
              "<div>\n",
              "<style scoped>\n",
              "    .dataframe tbody tr th:only-of-type {\n",
              "        vertical-align: middle;\n",
              "    }\n",
              "\n",
              "    .dataframe tbody tr th {\n",
              "        vertical-align: top;\n",
              "    }\n",
              "\n",
              "    .dataframe thead th {\n",
              "        text-align: right;\n",
              "    }\n",
              "</style>\n",
              "<table border=\"1\" class=\"dataframe\">\n",
              "  <thead>\n",
              "    <tr style=\"text-align: right;\">\n",
              "      <th></th>\n",
              "      <th>sample_id</th>\n",
              "      <th>f0</th>\n",
              "      <th>f1</th>\n",
              "      <th>f2</th>\n",
              "      <th>f3</th>\n",
              "      <th>f4</th>\n",
              "      <th>f5</th>\n",
              "      <th>f6</th>\n",
              "      <th>f7</th>\n",
              "      <th>f8</th>\n",
              "      <th>f9</th>\n",
              "      <th>f10</th>\n",
              "      <th>f11</th>\n",
              "      <th>f12</th>\n",
              "      <th>f13</th>\n",
              "      <th>f14</th>\n",
              "      <th>f15</th>\n",
              "      <th>f16</th>\n",
              "      <th>f17</th>\n",
              "      <th>f18</th>\n",
              "      <th>f19</th>\n",
              "      <th>f20</th>\n",
              "      <th>f21</th>\n",
              "      <th>f22</th>\n",
              "      <th>f23</th>\n",
              "      <th>f24</th>\n",
              "      <th>f25</th>\n",
              "      <th>f26</th>\n",
              "      <th>f27</th>\n",
              "      <th>f28</th>\n",
              "      <th>f29</th>\n",
              "      <th>f30</th>\n",
              "      <th>f31</th>\n",
              "      <th>f32</th>\n",
              "      <th>f33</th>\n",
              "      <th>f34</th>\n",
              "      <th>f35</th>\n",
              "      <th>f36</th>\n",
              "      <th>f37</th>\n",
              "      <th>f38</th>\n",
              "      <th>...</th>\n",
              "      <th>f1573</th>\n",
              "      <th>f1574</th>\n",
              "      <th>f1575</th>\n",
              "      <th>f1576</th>\n",
              "      <th>f1577</th>\n",
              "      <th>f1578</th>\n",
              "      <th>f1579</th>\n",
              "      <th>f1580</th>\n",
              "      <th>f1581</th>\n",
              "      <th>f1582</th>\n",
              "      <th>f1583</th>\n",
              "      <th>f1584</th>\n",
              "      <th>f1585</th>\n",
              "      <th>f1586</th>\n",
              "      <th>f1587</th>\n",
              "      <th>f1588</th>\n",
              "      <th>f1589</th>\n",
              "      <th>f1590</th>\n",
              "      <th>f1591</th>\n",
              "      <th>f1592</th>\n",
              "      <th>f1593</th>\n",
              "      <th>f1594</th>\n",
              "      <th>f1595</th>\n",
              "      <th>f1596</th>\n",
              "      <th>f1597</th>\n",
              "      <th>f1598</th>\n",
              "      <th>f1599</th>\n",
              "      <th>f1600</th>\n",
              "      <th>f1601</th>\n",
              "      <th>f1602</th>\n",
              "      <th>f1603</th>\n",
              "      <th>f1604</th>\n",
              "      <th>f1605</th>\n",
              "      <th>f1606</th>\n",
              "      <th>f1607</th>\n",
              "      <th>f1608</th>\n",
              "      <th>f1609</th>\n",
              "      <th>f1610</th>\n",
              "      <th>f1611</th>\n",
              "      <th>y</th>\n",
              "    </tr>\n",
              "  </thead>\n",
              "  <tbody>\n",
              "    <tr>\n",
              "      <th>0</th>\n",
              "      <td>sample_0</td>\n",
              "      <td>25.609375</td>\n",
              "      <td>6.703125</td>\n",
              "      <td>3.652344</td>\n",
              "      <td>10.039062</td>\n",
              "      <td>169.375</td>\n",
              "      <td>102.8125</td>\n",
              "      <td>1.422852</td>\n",
              "      <td>6.722656</td>\n",
              "      <td>8.015625</td>\n",
              "      <td>8.109375</td>\n",
              "      <td>217.875</td>\n",
              "      <td>26.359375</td>\n",
              "      <td>6.562500</td>\n",
              "      <td>4.480469</td>\n",
              "      <td>8.617188</td>\n",
              "      <td>150.625</td>\n",
              "      <td>101.1250</td>\n",
              "      <td>1.770508</td>\n",
              "      <td>6.691406</td>\n",
              "      <td>3.468750</td>\n",
              "      <td>7.925781</td>\n",
              "      <td>266.750</td>\n",
              "      <td>22.562500</td>\n",
              "      <td>6.464844</td>\n",
              "      <td>4.066406</td>\n",
              "      <td>7.546875</td>\n",
              "      <td>158.625</td>\n",
              "      <td>85.6250</td>\n",
              "      <td>1.493164</td>\n",
              "      <td>6.558594</td>\n",
              "      <td>3.705078</td>\n",
              "      <td>7.890625</td>\n",
              "      <td>221.500</td>\n",
              "      <td>21.375000</td>\n",
              "      <td>6.527344</td>\n",
              "      <td>3.552734</td>\n",
              "      <td>7.160156</td>\n",
              "      <td>164.250</td>\n",
              "      <td>80.93750</td>\n",
              "      <td>...</td>\n",
              "      <td>1.0</td>\n",
              "      <td>0.0</td>\n",
              "      <td>0.0</td>\n",
              "      <td>0.0</td>\n",
              "      <td>0.0</td>\n",
              "      <td>0.0</td>\n",
              "      <td>0.0</td>\n",
              "      <td>0.0</td>\n",
              "      <td>0.0</td>\n",
              "      <td>0.0</td>\n",
              "      <td>0.0</td>\n",
              "      <td>0.0</td>\n",
              "      <td>0.0</td>\n",
              "      <td>21.0</td>\n",
              "      <td>7.0</td>\n",
              "      <td>2.0</td>\n",
              "      <td>2.0</td>\n",
              "      <td>28.0</td>\n",
              "      <td>0.0</td>\n",
              "      <td>4.0</td>\n",
              "      <td>3.0</td>\n",
              "      <td>0.0</td>\n",
              "      <td>4.0</td>\n",
              "      <td>3.0</td>\n",
              "      <td>0.0</td>\n",
              "      <td>0.0</td>\n",
              "      <td>2.0</td>\n",
              "      <td>1.0</td>\n",
              "      <td>2.0</td>\n",
              "      <td>3.675781</td>\n",
              "      <td>8.070312</td>\n",
              "      <td>4.363281</td>\n",
              "      <td>5.019531</td>\n",
              "      <td>5.710938</td>\n",
              "      <td>6.343750</td>\n",
              "      <td>6.843750</td>\n",
              "      <td>7.289062</td>\n",
              "      <td>7.617188</td>\n",
              "      <td>7.980469</td>\n",
              "      <td>1.0</td>\n",
              "    </tr>\n",
              "    <tr>\n",
              "      <th>1</th>\n",
              "      <td>sample_1</td>\n",
              "      <td>18.343750</td>\n",
              "      <td>5.824219</td>\n",
              "      <td>2.966797</td>\n",
              "      <td>4.902344</td>\n",
              "      <td>164.625</td>\n",
              "      <td>71.8125</td>\n",
              "      <td>1.357422</td>\n",
              "      <td>5.894531</td>\n",
              "      <td>2.753906</td>\n",
              "      <td>7.406250</td>\n",
              "      <td>192.875</td>\n",
              "      <td>21.703125</td>\n",
              "      <td>6.191406</td>\n",
              "      <td>3.722656</td>\n",
              "      <td>4.953125</td>\n",
              "      <td>147.625</td>\n",
              "      <td>80.6875</td>\n",
              "      <td>1.708008</td>\n",
              "      <td>6.328125</td>\n",
              "      <td>2.441406</td>\n",
              "      <td>7.621094</td>\n",
              "      <td>241.750</td>\n",
              "      <td>17.015625</td>\n",
              "      <td>6.066406</td>\n",
              "      <td>3.355469</td>\n",
              "      <td>3.798828</td>\n",
              "      <td>158.000</td>\n",
              "      <td>61.4375</td>\n",
              "      <td>1.429688</td>\n",
              "      <td>6.164062</td>\n",
              "      <td>2.185547</td>\n",
              "      <td>7.582031</td>\n",
              "      <td>195.750</td>\n",
              "      <td>13.937500</td>\n",
              "      <td>5.843750</td>\n",
              "      <td>2.833984</td>\n",
              "      <td>2.890625</td>\n",
              "      <td>159.625</td>\n",
              "      <td>48.96875</td>\n",
              "      <td>...</td>\n",
              "      <td>1.0</td>\n",
              "      <td>0.0</td>\n",
              "      <td>0.0</td>\n",
              "      <td>0.0</td>\n",
              "      <td>0.0</td>\n",
              "      <td>0.0</td>\n",
              "      <td>0.0</td>\n",
              "      <td>0.0</td>\n",
              "      <td>0.0</td>\n",
              "      <td>0.0</td>\n",
              "      <td>0.0</td>\n",
              "      <td>0.0</td>\n",
              "      <td>0.0</td>\n",
              "      <td>34.0</td>\n",
              "      <td>3.0</td>\n",
              "      <td>1.0</td>\n",
              "      <td>2.0</td>\n",
              "      <td>28.0</td>\n",
              "      <td>0.0</td>\n",
              "      <td>3.0</td>\n",
              "      <td>2.0</td>\n",
              "      <td>0.0</td>\n",
              "      <td>4.0</td>\n",
              "      <td>4.0</td>\n",
              "      <td>0.0</td>\n",
              "      <td>0.0</td>\n",
              "      <td>0.0</td>\n",
              "      <td>1.0</td>\n",
              "      <td>2.0</td>\n",
              "      <td>3.636719</td>\n",
              "      <td>7.359375</td>\n",
              "      <td>4.195312</td>\n",
              "      <td>4.808594</td>\n",
              "      <td>5.425781</td>\n",
              "      <td>5.949219</td>\n",
              "      <td>6.339844</td>\n",
              "      <td>6.730469</td>\n",
              "      <td>7.074219</td>\n",
              "      <td>7.175781</td>\n",
              "      <td>1.0</td>\n",
              "    </tr>\n",
              "    <tr>\n",
              "      <th>2</th>\n",
              "      <td>sample_2</td>\n",
              "      <td>28.562500</td>\n",
              "      <td>6.230469</td>\n",
              "      <td>3.583984</td>\n",
              "      <td>7.882812</td>\n",
              "      <td>159.500</td>\n",
              "      <td>113.1875</td>\n",
              "      <td>1.696289</td>\n",
              "      <td>6.316406</td>\n",
              "      <td>4.605469</td>\n",
              "      <td>7.753906</td>\n",
              "      <td>239.375</td>\n",
              "      <td>31.625000</td>\n",
              "      <td>6.378906</td>\n",
              "      <td>4.175781</td>\n",
              "      <td>6.910156</td>\n",
              "      <td>145.250</td>\n",
              "      <td>121.9375</td>\n",
              "      <td>1.989258</td>\n",
              "      <td>6.546875</td>\n",
              "      <td>2.892578</td>\n",
              "      <td>7.839844</td>\n",
              "      <td>284.250</td>\n",
              "      <td>24.921875</td>\n",
              "      <td>6.398438</td>\n",
              "      <td>3.964844</td>\n",
              "      <td>6.867188</td>\n",
              "      <td>150.250</td>\n",
              "      <td>93.7500</td>\n",
              "      <td>1.734375</td>\n",
              "      <td>6.527344</td>\n",
              "      <td>3.843750</td>\n",
              "      <td>7.871094</td>\n",
              "      <td>247.125</td>\n",
              "      <td>21.156250</td>\n",
              "      <td>6.355469</td>\n",
              "      <td>3.554688</td>\n",
              "      <td>5.332031</td>\n",
              "      <td>155.875</td>\n",
              "      <td>78.00000</td>\n",
              "      <td>...</td>\n",
              "      <td>1.0</td>\n",
              "      <td>0.0</td>\n",
              "      <td>0.0</td>\n",
              "      <td>0.0</td>\n",
              "      <td>0.0</td>\n",
              "      <td>1.0</td>\n",
              "      <td>1.0</td>\n",
              "      <td>1.0</td>\n",
              "      <td>1.0</td>\n",
              "      <td>0.0</td>\n",
              "      <td>0.0</td>\n",
              "      <td>0.0</td>\n",
              "      <td>0.0</td>\n",
              "      <td>20.0</td>\n",
              "      <td>4.0</td>\n",
              "      <td>2.0</td>\n",
              "      <td>1.0</td>\n",
              "      <td>28.0</td>\n",
              "      <td>0.0</td>\n",
              "      <td>3.0</td>\n",
              "      <td>3.0</td>\n",
              "      <td>0.0</td>\n",
              "      <td>4.0</td>\n",
              "      <td>5.0</td>\n",
              "      <td>1.0</td>\n",
              "      <td>0.0</td>\n",
              "      <td>0.0</td>\n",
              "      <td>1.0</td>\n",
              "      <td>4.0</td>\n",
              "      <td>3.806641</td>\n",
              "      <td>8.562500</td>\n",
              "      <td>4.523438</td>\n",
              "      <td>5.097656</td>\n",
              "      <td>5.789062</td>\n",
              "      <td>6.457031</td>\n",
              "      <td>6.871094</td>\n",
              "      <td>7.386719</td>\n",
              "      <td>7.878906</td>\n",
              "      <td>8.328125</td>\n",
              "      <td>1.0</td>\n",
              "    </tr>\n",
              "    <tr>\n",
              "      <th>3</th>\n",
              "      <td>sample_3</td>\n",
              "      <td>28.062500</td>\n",
              "      <td>6.132812</td>\n",
              "      <td>2.726562</td>\n",
              "      <td>6.378906</td>\n",
              "      <td>169.750</td>\n",
              "      <td>111.0000</td>\n",
              "      <td>1.535156</td>\n",
              "      <td>6.199219</td>\n",
              "      <td>3.712891</td>\n",
              "      <td>7.664062</td>\n",
              "      <td>205.750</td>\n",
              "      <td>27.187500</td>\n",
              "      <td>6.464844</td>\n",
              "      <td>3.212891</td>\n",
              "      <td>6.050781</td>\n",
              "      <td>155.250</td>\n",
              "      <td>102.9375</td>\n",
              "      <td>1.749023</td>\n",
              "      <td>6.589844</td>\n",
              "      <td>3.259766</td>\n",
              "      <td>7.886719</td>\n",
              "      <td>241.875</td>\n",
              "      <td>20.859375</td>\n",
              "      <td>6.226562</td>\n",
              "      <td>2.873047</td>\n",
              "      <td>4.144531</td>\n",
              "      <td>164.125</td>\n",
              "      <td>75.7500</td>\n",
              "      <td>1.468750</td>\n",
              "      <td>6.316406</td>\n",
              "      <td>2.730469</td>\n",
              "      <td>7.769531</td>\n",
              "      <td>188.500</td>\n",
              "      <td>19.546875</td>\n",
              "      <td>6.167969</td>\n",
              "      <td>2.576172</td>\n",
              "      <td>2.277344</td>\n",
              "      <td>165.000</td>\n",
              "      <td>70.12500</td>\n",
              "      <td>...</td>\n",
              "      <td>0.0</td>\n",
              "      <td>0.0</td>\n",
              "      <td>0.0</td>\n",
              "      <td>0.0</td>\n",
              "      <td>0.0</td>\n",
              "      <td>0.0</td>\n",
              "      <td>0.0</td>\n",
              "      <td>0.0</td>\n",
              "      <td>0.0</td>\n",
              "      <td>0.0</td>\n",
              "      <td>0.0</td>\n",
              "      <td>0.0</td>\n",
              "      <td>0.0</td>\n",
              "      <td>16.0</td>\n",
              "      <td>4.0</td>\n",
              "      <td>3.0</td>\n",
              "      <td>1.0</td>\n",
              "      <td>17.0</td>\n",
              "      <td>0.0</td>\n",
              "      <td>6.0</td>\n",
              "      <td>0.0</td>\n",
              "      <td>0.0</td>\n",
              "      <td>1.0</td>\n",
              "      <td>5.0</td>\n",
              "      <td>1.0</td>\n",
              "      <td>0.0</td>\n",
              "      <td>0.0</td>\n",
              "      <td>1.0</td>\n",
              "      <td>1.0</td>\n",
              "      <td>3.156250</td>\n",
              "      <td>4.558594</td>\n",
              "      <td>3.533203</td>\n",
              "      <td>3.900391</td>\n",
              "      <td>4.261719</td>\n",
              "      <td>4.042969</td>\n",
              "      <td>3.869141</td>\n",
              "      <td>3.890625</td>\n",
              "      <td>4.042969</td>\n",
              "      <td>4.273438</td>\n",
              "      <td>1.0</td>\n",
              "    </tr>\n",
              "    <tr>\n",
              "      <th>4</th>\n",
              "      <td>sample_4</td>\n",
              "      <td>20.109375</td>\n",
              "      <td>6.144531</td>\n",
              "      <td>3.203125</td>\n",
              "      <td>6.035156</td>\n",
              "      <td>164.750</td>\n",
              "      <td>78.8750</td>\n",
              "      <td>1.281250</td>\n",
              "      <td>6.187500</td>\n",
              "      <td>4.003906</td>\n",
              "      <td>7.734375</td>\n",
              "      <td>187.875</td>\n",
              "      <td>22.640625</td>\n",
              "      <td>6.355469</td>\n",
              "      <td>4.121094</td>\n",
              "      <td>5.296875</td>\n",
              "      <td>145.750</td>\n",
              "      <td>84.4375</td>\n",
              "      <td>1.675781</td>\n",
              "      <td>6.488281</td>\n",
              "      <td>2.621094</td>\n",
              "      <td>7.816406</td>\n",
              "      <td>244.750</td>\n",
              "      <td>19.140625</td>\n",
              "      <td>6.292969</td>\n",
              "      <td>3.695312</td>\n",
              "      <td>4.156250</td>\n",
              "      <td>153.250</td>\n",
              "      <td>70.0625</td>\n",
              "      <td>1.421875</td>\n",
              "      <td>6.386719</td>\n",
              "      <td>2.613281</td>\n",
              "      <td>7.820312</td>\n",
              "      <td>203.125</td>\n",
              "      <td>15.562500</td>\n",
              "      <td>6.207031</td>\n",
              "      <td>3.042969</td>\n",
              "      <td>2.929688</td>\n",
              "      <td>158.125</td>\n",
              "      <td>54.78125</td>\n",
              "      <td>...</td>\n",
              "      <td>0.0</td>\n",
              "      <td>0.0</td>\n",
              "      <td>0.0</td>\n",
              "      <td>0.0</td>\n",
              "      <td>1.0</td>\n",
              "      <td>0.0</td>\n",
              "      <td>1.0</td>\n",
              "      <td>0.0</td>\n",
              "      <td>0.0</td>\n",
              "      <td>0.0</td>\n",
              "      <td>0.0</td>\n",
              "      <td>0.0</td>\n",
              "      <td>0.0</td>\n",
              "      <td>64.0</td>\n",
              "      <td>13.0</td>\n",
              "      <td>5.0</td>\n",
              "      <td>4.0</td>\n",
              "      <td>54.0</td>\n",
              "      <td>0.0</td>\n",
              "      <td>0.0</td>\n",
              "      <td>13.0</td>\n",
              "      <td>0.0</td>\n",
              "      <td>8.0</td>\n",
              "      <td>7.0</td>\n",
              "      <td>0.0</td>\n",
              "      <td>0.0</td>\n",
              "      <td>0.0</td>\n",
              "      <td>0.0</td>\n",
              "      <td>0.0</td>\n",
              "      <td>4.160156</td>\n",
              "      <td>6.613281</td>\n",
              "      <td>4.625000</td>\n",
              "      <td>4.996094</td>\n",
              "      <td>5.328125</td>\n",
              "      <td>5.593750</td>\n",
              "      <td>5.800781</td>\n",
              "      <td>6.027344</td>\n",
              "      <td>6.242188</td>\n",
              "      <td>6.449219</td>\n",
              "      <td>0.0</td>\n",
              "    </tr>\n",
              "  </tbody>\n",
              "</table>\n",
              "<p>5 rows × 1614 columns</p>\n",
              "</div>"
            ],
            "text/plain": [
              "  sample_id         f0        f1        f2  ...     f1609     f1610     f1611    y\n",
              "0  sample_0  25.609375  6.703125  3.652344  ...  7.289062  7.617188  7.980469  1.0\n",
              "1  sample_1  18.343750  5.824219  2.966797  ...  6.730469  7.074219  7.175781  1.0\n",
              "2  sample_2  28.562500  6.230469  3.583984  ...  7.386719  7.878906  8.328125  1.0\n",
              "3  sample_3  28.062500  6.132812  2.726562  ...  3.890625  4.042969  4.273438  1.0\n",
              "4  sample_4  20.109375  6.144531  3.203125  ...  6.027344  6.242188  6.449219  0.0\n",
              "\n",
              "[5 rows x 1614 columns]"
            ]
          },
          "metadata": {
            "tags": []
          },
          "execution_count": 249
        }
      ]
    },
    {
      "cell_type": "markdown",
      "metadata": {
        "id": "ek9vb80-O3XG",
        "colab_type": "text"
      },
      "source": [
        "Удалим столбец 'ID'"
      ]
    },
    {
      "cell_type": "code",
      "metadata": {
        "id": "VzqQ1QMbO0Gq",
        "colab_type": "code",
        "colab": {}
      },
      "source": [
        "#train_data.drop(train_data.columns[0], axis=1, inplace=True)"
      ],
      "execution_count": 250,
      "outputs": []
    },
    {
      "cell_type": "markdown",
      "metadata": {
        "id": "2RlboANfQIuE",
        "colab_type": "text"
      },
      "source": [
        "Посмотрим на пропущенные данные."
      ]
    },
    {
      "cell_type": "markdown",
      "metadata": {
        "id": "-dOTcJjgSCZU",
        "colab_type": "text"
      },
      "source": [
        "**Размер тренировочного датасета (1095, 1613)**"
      ]
    },
    {
      "cell_type": "markdown",
      "metadata": {
        "id": "mOBtz0udlxNF",
        "colab_type": "text"
      },
      "source": [
        "Просуммируем количество пропущенных значений в столбцах и выведем в отдельный список."
      ]
    },
    {
      "cell_type": "code",
      "metadata": {
        "id": "2aKfWNRgQc9d",
        "colab_type": "code",
        "colab": {}
      },
      "source": [
        "empty_train = []\n",
        "for c in train_data:\n",
        "    missing = train_data[c].isnull().sum()\n",
        "    if missing > 0:\n",
        "        row = c, missing\n",
        "        empty_train.append(row)\n",
        "del missing, row"
      ],
      "execution_count": 251,
      "outputs": []
    },
    {
      "cell_type": "markdown",
      "metadata": {
        "id": "v5_SBj65l-JK",
        "colab_type": "text"
      },
      "source": [
        "Оценко тестовых данных."
      ]
    },
    {
      "cell_type": "code",
      "metadata": {
        "id": "KC3WfWl9QRaZ",
        "colab_type": "code",
        "colab": {}
      },
      "source": [
        "test_data = pd.read_csv('/content/test.csv/test.csv')"
      ],
      "execution_count": 252,
      "outputs": []
    },
    {
      "cell_type": "markdown",
      "metadata": {
        "id": "9ykAZmaEmFTJ",
        "colab_type": "text"
      },
      "source": [
        "Удаляем ID"
      ]
    },
    {
      "cell_type": "code",
      "metadata": {
        "id": "At1QW1GTTFc-",
        "colab_type": "code",
        "colab": {}
      },
      "source": [
        "#test_data.drop(test_data.columns[0], axis=1, inplace=True)"
      ],
      "execution_count": null,
      "outputs": []
    },
    {
      "cell_type": "code",
      "metadata": {
        "id": "KH3n1eiZThjN",
        "colab_type": "code",
        "colab": {
          "base_uri": "https://localhost:8080/",
          "height": 253
        },
        "outputId": "5d8be53d-1b49-48dc-b317-e6f0f49b17f5"
      },
      "source": [
        "test_data.head()"
      ],
      "execution_count": 253,
      "outputs": [
        {
          "output_type": "execute_result",
          "data": {
            "text/html": [
              "<div>\n",
              "<style scoped>\n",
              "    .dataframe tbody tr th:only-of-type {\n",
              "        vertical-align: middle;\n",
              "    }\n",
              "\n",
              "    .dataframe tbody tr th {\n",
              "        vertical-align: top;\n",
              "    }\n",
              "\n",
              "    .dataframe thead th {\n",
              "        text-align: right;\n",
              "    }\n",
              "</style>\n",
              "<table border=\"1\" class=\"dataframe\">\n",
              "  <thead>\n",
              "    <tr style=\"text-align: right;\">\n",
              "      <th></th>\n",
              "      <th>sample_id</th>\n",
              "      <th>f0</th>\n",
              "      <th>f1</th>\n",
              "      <th>f2</th>\n",
              "      <th>f3</th>\n",
              "      <th>f4</th>\n",
              "      <th>f5</th>\n",
              "      <th>f6</th>\n",
              "      <th>f7</th>\n",
              "      <th>f8</th>\n",
              "      <th>f9</th>\n",
              "      <th>f10</th>\n",
              "      <th>f11</th>\n",
              "      <th>f12</th>\n",
              "      <th>f13</th>\n",
              "      <th>f14</th>\n",
              "      <th>f15</th>\n",
              "      <th>f16</th>\n",
              "      <th>f17</th>\n",
              "      <th>f18</th>\n",
              "      <th>f19</th>\n",
              "      <th>f20</th>\n",
              "      <th>f21</th>\n",
              "      <th>f22</th>\n",
              "      <th>f23</th>\n",
              "      <th>f24</th>\n",
              "      <th>f25</th>\n",
              "      <th>f26</th>\n",
              "      <th>f27</th>\n",
              "      <th>f28</th>\n",
              "      <th>f29</th>\n",
              "      <th>f30</th>\n",
              "      <th>f31</th>\n",
              "      <th>f32</th>\n",
              "      <th>f33</th>\n",
              "      <th>f34</th>\n",
              "      <th>f35</th>\n",
              "      <th>f36</th>\n",
              "      <th>f37</th>\n",
              "      <th>f38</th>\n",
              "      <th>...</th>\n",
              "      <th>f1572</th>\n",
              "      <th>f1573</th>\n",
              "      <th>f1574</th>\n",
              "      <th>f1575</th>\n",
              "      <th>f1576</th>\n",
              "      <th>f1577</th>\n",
              "      <th>f1578</th>\n",
              "      <th>f1579</th>\n",
              "      <th>f1580</th>\n",
              "      <th>f1581</th>\n",
              "      <th>f1582</th>\n",
              "      <th>f1583</th>\n",
              "      <th>f1584</th>\n",
              "      <th>f1585</th>\n",
              "      <th>f1586</th>\n",
              "      <th>f1587</th>\n",
              "      <th>f1588</th>\n",
              "      <th>f1589</th>\n",
              "      <th>f1590</th>\n",
              "      <th>f1591</th>\n",
              "      <th>f1592</th>\n",
              "      <th>f1593</th>\n",
              "      <th>f1594</th>\n",
              "      <th>f1595</th>\n",
              "      <th>f1596</th>\n",
              "      <th>f1597</th>\n",
              "      <th>f1598</th>\n",
              "      <th>f1599</th>\n",
              "      <th>f1600</th>\n",
              "      <th>f1601</th>\n",
              "      <th>f1602</th>\n",
              "      <th>f1603</th>\n",
              "      <th>f1604</th>\n",
              "      <th>f1605</th>\n",
              "      <th>f1606</th>\n",
              "      <th>f1607</th>\n",
              "      <th>f1608</th>\n",
              "      <th>f1609</th>\n",
              "      <th>f1610</th>\n",
              "      <th>f1611</th>\n",
              "    </tr>\n",
              "  </thead>\n",
              "  <tbody>\n",
              "    <tr>\n",
              "      <th>0</th>\n",
              "      <td>sample_1095</td>\n",
              "      <td>37.968750</td>\n",
              "      <td>6.757812</td>\n",
              "      <td>3.636719</td>\n",
              "      <td>10.789062</td>\n",
              "      <td>160.750</td>\n",
              "      <td>151.1250</td>\n",
              "      <td>1.791992</td>\n",
              "      <td>6.820312</td>\n",
              "      <td>8.140625</td>\n",
              "      <td>8.273438</td>\n",
              "      <td>248.125</td>\n",
              "      <td>33.531250</td>\n",
              "      <td>6.601562</td>\n",
              "      <td>4.347656</td>\n",
              "      <td>8.765625</td>\n",
              "      <td>145.750</td>\n",
              "      <td>130.2500</td>\n",
              "      <td>2.011719</td>\n",
              "      <td>6.757812</td>\n",
              "      <td>3.630859</td>\n",
              "      <td>8.039062</td>\n",
              "      <td>288.500</td>\n",
              "      <td>29.796875</td>\n",
              "      <td>6.605469</td>\n",
              "      <td>3.832031</td>\n",
              "      <td>6.984375</td>\n",
              "      <td>153.500</td>\n",
              "      <td>112.8125</td>\n",
              "      <td>1.752930</td>\n",
              "      <td>6.722656</td>\n",
              "      <td>4.218750</td>\n",
              "      <td>8.140625</td>\n",
              "      <td>240.250</td>\n",
              "      <td>27.937500</td>\n",
              "      <td>6.621094</td>\n",
              "      <td>3.548828</td>\n",
              "      <td>5.679688</td>\n",
              "      <td>155.625</td>\n",
              "      <td>104.56250</td>\n",
              "      <td>...</td>\n",
              "      <td>0.0</td>\n",
              "      <td>0.0</td>\n",
              "      <td>0.0</td>\n",
              "      <td>0.0</td>\n",
              "      <td>0.0</td>\n",
              "      <td>0.0</td>\n",
              "      <td>0.0</td>\n",
              "      <td>0.0</td>\n",
              "      <td>0.0</td>\n",
              "      <td>0.0</td>\n",
              "      <td>0.0</td>\n",
              "      <td>0.0</td>\n",
              "      <td>0.0</td>\n",
              "      <td>0.0</td>\n",
              "      <td>16.0</td>\n",
              "      <td>9.0</td>\n",
              "      <td>1.0</td>\n",
              "      <td>3.0</td>\n",
              "      <td>28.0</td>\n",
              "      <td>0.0</td>\n",
              "      <td>3.0</td>\n",
              "      <td>6.0</td>\n",
              "      <td>0.0</td>\n",
              "      <td>3.0</td>\n",
              "      <td>7.0</td>\n",
              "      <td>2.0</td>\n",
              "      <td>0.0</td>\n",
              "      <td>0.0</td>\n",
              "      <td>1.0</td>\n",
              "      <td>1.0</td>\n",
              "      <td>3.664062</td>\n",
              "      <td>5.660156</td>\n",
              "      <td>4.152344</td>\n",
              "      <td>4.539062</td>\n",
              "      <td>4.953125</td>\n",
              "      <td>5.351562</td>\n",
              "      <td>5.312500</td>\n",
              "      <td>5.562500</td>\n",
              "      <td>5.644531</td>\n",
              "      <td>5.714844</td>\n",
              "    </tr>\n",
              "    <tr>\n",
              "      <th>1</th>\n",
              "      <td>sample_1096</td>\n",
              "      <td>23.859375</td>\n",
              "      <td>5.933594</td>\n",
              "      <td>3.019531</td>\n",
              "      <td>5.070312</td>\n",
              "      <td>164.750</td>\n",
              "      <td>94.0000</td>\n",
              "      <td>1.475586</td>\n",
              "      <td>6.007812</td>\n",
              "      <td>3.851562</td>\n",
              "      <td>7.527344</td>\n",
              "      <td>199.375</td>\n",
              "      <td>27.750000</td>\n",
              "      <td>6.218750</td>\n",
              "      <td>3.724609</td>\n",
              "      <td>4.000000</td>\n",
              "      <td>148.000</td>\n",
              "      <td>105.0000</td>\n",
              "      <td>1.830078</td>\n",
              "      <td>6.378906</td>\n",
              "      <td>2.236328</td>\n",
              "      <td>7.714844</td>\n",
              "      <td>250.625</td>\n",
              "      <td>19.640625</td>\n",
              "      <td>6.132812</td>\n",
              "      <td>3.271484</td>\n",
              "      <td>3.958984</td>\n",
              "      <td>156.625</td>\n",
              "      <td>71.5000</td>\n",
              "      <td>1.531250</td>\n",
              "      <td>6.238281</td>\n",
              "      <td>2.912109</td>\n",
              "      <td>7.664062</td>\n",
              "      <td>204.125</td>\n",
              "      <td>14.109375</td>\n",
              "      <td>5.839844</td>\n",
              "      <td>2.708984</td>\n",
              "      <td>2.087891</td>\n",
              "      <td>158.500</td>\n",
              "      <td>48.46875</td>\n",
              "      <td>...</td>\n",
              "      <td>1.0</td>\n",
              "      <td>1.0</td>\n",
              "      <td>0.0</td>\n",
              "      <td>0.0</td>\n",
              "      <td>0.0</td>\n",
              "      <td>0.0</td>\n",
              "      <td>0.0</td>\n",
              "      <td>0.0</td>\n",
              "      <td>0.0</td>\n",
              "      <td>0.0</td>\n",
              "      <td>0.0</td>\n",
              "      <td>0.0</td>\n",
              "      <td>0.0</td>\n",
              "      <td>0.0</td>\n",
              "      <td>26.0</td>\n",
              "      <td>2.0</td>\n",
              "      <td>3.0</td>\n",
              "      <td>2.0</td>\n",
              "      <td>23.0</td>\n",
              "      <td>0.0</td>\n",
              "      <td>3.0</td>\n",
              "      <td>2.0</td>\n",
              "      <td>0.0</td>\n",
              "      <td>3.0</td>\n",
              "      <td>5.0</td>\n",
              "      <td>1.0</td>\n",
              "      <td>0.0</td>\n",
              "      <td>0.0</td>\n",
              "      <td>1.0</td>\n",
              "      <td>2.0</td>\n",
              "      <td>3.496094</td>\n",
              "      <td>7.058594</td>\n",
              "      <td>4.132812</td>\n",
              "      <td>4.601562</td>\n",
              "      <td>5.160156</td>\n",
              "      <td>5.691406</td>\n",
              "      <td>6.054688</td>\n",
              "      <td>6.457031</td>\n",
              "      <td>6.875000</td>\n",
              "      <td>6.937500</td>\n",
              "    </tr>\n",
              "    <tr>\n",
              "      <th>2</th>\n",
              "      <td>sample_1097</td>\n",
              "      <td>40.250000</td>\n",
              "      <td>7.425781</td>\n",
              "      <td>3.734375</td>\n",
              "      <td>13.164062</td>\n",
              "      <td>172.125</td>\n",
              "      <td>161.7500</td>\n",
              "      <td>1.603516</td>\n",
              "      <td>7.410156</td>\n",
              "      <td>10.117188</td>\n",
              "      <td>8.804688</td>\n",
              "      <td>232.750</td>\n",
              "      <td>35.281250</td>\n",
              "      <td>7.062500</td>\n",
              "      <td>4.550781</td>\n",
              "      <td>10.179688</td>\n",
              "      <td>154.375</td>\n",
              "      <td>137.7500</td>\n",
              "      <td>1.801758</td>\n",
              "      <td>7.171875</td>\n",
              "      <td>4.058594</td>\n",
              "      <td>8.437500</td>\n",
              "      <td>271.750</td>\n",
              "      <td>32.343750</td>\n",
              "      <td>7.203125</td>\n",
              "      <td>3.919922</td>\n",
              "      <td>8.773438</td>\n",
              "      <td>165.000</td>\n",
              "      <td>124.4375</td>\n",
              "      <td>1.496094</td>\n",
              "      <td>7.257812</td>\n",
              "      <td>4.996094</td>\n",
              "      <td>8.671875</td>\n",
              "      <td>224.125</td>\n",
              "      <td>30.515625</td>\n",
              "      <td>7.011719</td>\n",
              "      <td>3.775391</td>\n",
              "      <td>7.730469</td>\n",
              "      <td>160.625</td>\n",
              "      <td>116.87500</td>\n",
              "      <td>...</td>\n",
              "      <td>0.0</td>\n",
              "      <td>0.0</td>\n",
              "      <td>0.0</td>\n",
              "      <td>0.0</td>\n",
              "      <td>0.0</td>\n",
              "      <td>0.0</td>\n",
              "      <td>0.0</td>\n",
              "      <td>0.0</td>\n",
              "      <td>0.0</td>\n",
              "      <td>0.0</td>\n",
              "      <td>0.0</td>\n",
              "      <td>0.0</td>\n",
              "      <td>0.0</td>\n",
              "      <td>0.0</td>\n",
              "      <td>17.0</td>\n",
              "      <td>13.0</td>\n",
              "      <td>2.0</td>\n",
              "      <td>3.0</td>\n",
              "      <td>32.0</td>\n",
              "      <td>0.0</td>\n",
              "      <td>6.0</td>\n",
              "      <td>7.0</td>\n",
              "      <td>0.0</td>\n",
              "      <td>3.0</td>\n",
              "      <td>11.0</td>\n",
              "      <td>2.0</td>\n",
              "      <td>0.0</td>\n",
              "      <td>2.0</td>\n",
              "      <td>1.0</td>\n",
              "      <td>1.0</td>\n",
              "      <td>3.726562</td>\n",
              "      <td>6.398438</td>\n",
              "      <td>4.222656</td>\n",
              "      <td>4.687500</td>\n",
              "      <td>5.117188</td>\n",
              "      <td>5.332031</td>\n",
              "      <td>5.503906</td>\n",
              "      <td>5.796875</td>\n",
              "      <td>6.007812</td>\n",
              "      <td>6.199219</td>\n",
              "    </tr>\n",
              "    <tr>\n",
              "      <th>3</th>\n",
              "      <td>sample_1098</td>\n",
              "      <td>17.687500</td>\n",
              "      <td>5.761719</td>\n",
              "      <td>2.755859</td>\n",
              "      <td>4.390625</td>\n",
              "      <td>165.000</td>\n",
              "      <td>69.1875</td>\n",
              "      <td>1.344727</td>\n",
              "      <td>5.832031</td>\n",
              "      <td>3.070312</td>\n",
              "      <td>7.351562</td>\n",
              "      <td>189.500</td>\n",
              "      <td>20.625000</td>\n",
              "      <td>6.128906</td>\n",
              "      <td>3.404297</td>\n",
              "      <td>4.429688</td>\n",
              "      <td>148.375</td>\n",
              "      <td>76.0000</td>\n",
              "      <td>1.705078</td>\n",
              "      <td>6.269531</td>\n",
              "      <td>2.511719</td>\n",
              "      <td>7.570312</td>\n",
              "      <td>238.000</td>\n",
              "      <td>16.109375</td>\n",
              "      <td>5.937500</td>\n",
              "      <td>3.089844</td>\n",
              "      <td>3.154297</td>\n",
              "      <td>157.125</td>\n",
              "      <td>57.9375</td>\n",
              "      <td>1.415039</td>\n",
              "      <td>6.039062</td>\n",
              "      <td>2.220703</td>\n",
              "      <td>7.460938</td>\n",
              "      <td>189.625</td>\n",
              "      <td>13.492188</td>\n",
              "      <td>5.851562</td>\n",
              "      <td>2.597656</td>\n",
              "      <td>2.242188</td>\n",
              "      <td>159.750</td>\n",
              "      <td>46.81250</td>\n",
              "      <td>...</td>\n",
              "      <td>0.0</td>\n",
              "      <td>0.0</td>\n",
              "      <td>0.0</td>\n",
              "      <td>0.0</td>\n",
              "      <td>0.0</td>\n",
              "      <td>0.0</td>\n",
              "      <td>0.0</td>\n",
              "      <td>0.0</td>\n",
              "      <td>0.0</td>\n",
              "      <td>0.0</td>\n",
              "      <td>0.0</td>\n",
              "      <td>0.0</td>\n",
              "      <td>0.0</td>\n",
              "      <td>0.0</td>\n",
              "      <td>23.0</td>\n",
              "      <td>1.0</td>\n",
              "      <td>2.0</td>\n",
              "      <td>1.0</td>\n",
              "      <td>18.0</td>\n",
              "      <td>0.0</td>\n",
              "      <td>2.0</td>\n",
              "      <td>1.0</td>\n",
              "      <td>0.0</td>\n",
              "      <td>2.0</td>\n",
              "      <td>2.0</td>\n",
              "      <td>0.0</td>\n",
              "      <td>0.0</td>\n",
              "      <td>0.0</td>\n",
              "      <td>0.0</td>\n",
              "      <td>1.0</td>\n",
              "      <td>3.177734</td>\n",
              "      <td>4.855469</td>\n",
              "      <td>3.675781</td>\n",
              "      <td>4.105469</td>\n",
              "      <td>4.515625</td>\n",
              "      <td>4.875000</td>\n",
              "      <td>4.769531</td>\n",
              "      <td>4.726562</td>\n",
              "      <td>4.855469</td>\n",
              "      <td>4.960938</td>\n",
              "    </tr>\n",
              "    <tr>\n",
              "      <th>4</th>\n",
              "      <td>sample_1099</td>\n",
              "      <td>23.828125</td>\n",
              "      <td>6.394531</td>\n",
              "      <td>3.140625</td>\n",
              "      <td>8.718750</td>\n",
              "      <td>163.250</td>\n",
              "      <td>94.1250</td>\n",
              "      <td>1.435547</td>\n",
              "      <td>6.445312</td>\n",
              "      <td>5.835938</td>\n",
              "      <td>7.902344</td>\n",
              "      <td>217.000</td>\n",
              "      <td>25.234375</td>\n",
              "      <td>6.472656</td>\n",
              "      <td>3.699219</td>\n",
              "      <td>7.539062</td>\n",
              "      <td>147.750</td>\n",
              "      <td>95.8125</td>\n",
              "      <td>1.735352</td>\n",
              "      <td>6.605469</td>\n",
              "      <td>3.482422</td>\n",
              "      <td>7.878906</td>\n",
              "      <td>259.250</td>\n",
              "      <td>21.062500</td>\n",
              "      <td>6.433594</td>\n",
              "      <td>3.400391</td>\n",
              "      <td>5.890625</td>\n",
              "      <td>157.125</td>\n",
              "      <td>78.5000</td>\n",
              "      <td>1.463867</td>\n",
              "      <td>6.515625</td>\n",
              "      <td>3.656250</td>\n",
              "      <td>7.914062</td>\n",
              "      <td>213.625</td>\n",
              "      <td>19.437500</td>\n",
              "      <td>6.425781</td>\n",
              "      <td>3.144531</td>\n",
              "      <td>4.933594</td>\n",
              "      <td>156.875</td>\n",
              "      <td>70.68750</td>\n",
              "      <td>...</td>\n",
              "      <td>0.0</td>\n",
              "      <td>0.0</td>\n",
              "      <td>0.0</td>\n",
              "      <td>0.0</td>\n",
              "      <td>0.0</td>\n",
              "      <td>0.0</td>\n",
              "      <td>0.0</td>\n",
              "      <td>0.0</td>\n",
              "      <td>0.0</td>\n",
              "      <td>0.0</td>\n",
              "      <td>0.0</td>\n",
              "      <td>0.0</td>\n",
              "      <td>0.0</td>\n",
              "      <td>0.0</td>\n",
              "      <td>35.0</td>\n",
              "      <td>8.0</td>\n",
              "      <td>3.0</td>\n",
              "      <td>0.0</td>\n",
              "      <td>43.0</td>\n",
              "      <td>0.0</td>\n",
              "      <td>4.0</td>\n",
              "      <td>8.0</td>\n",
              "      <td>0.0</td>\n",
              "      <td>3.0</td>\n",
              "      <td>14.0</td>\n",
              "      <td>0.0</td>\n",
              "      <td>0.0</td>\n",
              "      <td>0.0</td>\n",
              "      <td>0.0</td>\n",
              "      <td>3.0</td>\n",
              "      <td>4.078125</td>\n",
              "      <td>6.582031</td>\n",
              "      <td>4.601562</td>\n",
              "      <td>5.031250</td>\n",
              "      <td>5.500000</td>\n",
              "      <td>5.980469</td>\n",
              "      <td>5.996094</td>\n",
              "      <td>6.179688</td>\n",
              "      <td>6.363281</td>\n",
              "      <td>6.480469</td>\n",
              "    </tr>\n",
              "  </tbody>\n",
              "</table>\n",
              "<p>5 rows × 1613 columns</p>\n",
              "</div>"
            ],
            "text/plain": [
              "     sample_id         f0        f1  ...     f1609     f1610     f1611\n",
              "0  sample_1095  37.968750  6.757812  ...  5.562500  5.644531  5.714844\n",
              "1  sample_1096  23.859375  5.933594  ...  6.457031  6.875000  6.937500\n",
              "2  sample_1097  40.250000  7.425781  ...  5.796875  6.007812  6.199219\n",
              "3  sample_1098  17.687500  5.761719  ...  4.726562  4.855469  4.960938\n",
              "4  sample_1099  23.828125  6.394531  ...  6.179688  6.363281  6.480469\n",
              "\n",
              "[5 rows x 1613 columns]"
            ]
          },
          "metadata": {
            "tags": []
          },
          "execution_count": 253
        }
      ]
    },
    {
      "cell_type": "markdown",
      "metadata": {
        "id": "SD1T-SepmKwe",
        "colab_type": "text"
      },
      "source": [
        "**Размер тестового датасета (194, 1612)**"
      ]
    },
    {
      "cell_type": "markdown",
      "metadata": {
        "id": "me_ZUr70mmNy",
        "colab_type": "text"
      },
      "source": [
        "Количество пропущенных значений в столбцах для тестовых данных."
      ]
    },
    {
      "cell_type": "code",
      "metadata": {
        "id": "JO3lpAHRWodY",
        "colab_type": "code",
        "colab": {}
      },
      "source": [
        "empty_test = []\n",
        "for c in test_data:\n",
        "    missing = test_data[c].isnull().sum()\n",
        "    if missing > 0:\n",
        "        row = c, missing\n",
        "        empty_test.append(row)\n",
        "del missing, row"
      ],
      "execution_count": 254,
      "outputs": []
    },
    {
      "cell_type": "markdown",
      "metadata": {
        "id": "1LOyqCJ2mst9",
        "colab_type": "text"
      },
      "source": [
        "Идея объеденить данные о пропущенных столбцах вместе и посмотреть, где не сходятся названия (там будет вместо значений NaN)."
      ]
    },
    {
      "cell_type": "code",
      "metadata": {
        "id": "xNtppH7jXQ9M",
        "colab_type": "code",
        "colab": {}
      },
      "source": [
        "general_empty = pd.merge(pd.DataFrame(empty_test), pd.DataFrame(empty_train), on=0)"
      ],
      "execution_count": 255,
      "outputs": []
    },
    {
      "cell_type": "code",
      "metadata": {
        "id": "z75UQKyZXob9",
        "colab_type": "code",
        "colab": {}
      },
      "source": [
        "for i in range(len(general_empty)):\n",
        "    if general_empty['1_y'][i] is None or general_empty['1_x'][i] is None: \n",
        "        print(i)"
      ],
      "execution_count": 256,
      "outputs": []
    },
    {
      "cell_type": "markdown",
      "metadata": {
        "id": "0F8b1NUfm-Sl",
        "colab_type": "text"
      },
      "source": [
        "Получается, столбцы у которых пропущены значения в тренировочных и тестовых данных, совпадают!"
      ]
    },
    {
      "cell_type": "markdown",
      "metadata": {
        "id": "f99LlqyNnQOj",
        "colab_type": "text"
      },
      "source": [
        "Тогда необходимо определиться в каком соотношение удалять столбцы и строки. Задача, оставить наибольшое количество данных."
      ]
    },
    {
      "cell_type": "markdown",
      "metadata": {
        "id": "h3KnFgdlngo4",
        "colab_type": "text"
      },
      "source": [
        "Посчитаем количество строк для тестовых и тренировочных данных в размере 5%."
      ]
    },
    {
      "cell_type": "code",
      "metadata": {
        "id": "zfO1tGVcnPGC",
        "colab_type": "code",
        "colab": {
          "base_uri": "https://localhost:8080/",
          "height": 34
        },
        "outputId": "2ae041a7-cc54-4534-c750-167d1787ce46"
      },
      "source": [
        "int(1095 * 0.05), int(194 * 0.05)"
      ],
      "execution_count": 257,
      "outputs": [
        {
          "output_type": "execute_result",
          "data": {
            "text/plain": [
              "(54, 9)"
            ]
          },
          "metadata": {
            "tags": []
          },
          "execution_count": 257
        }
      ]
    },
    {
      "cell_type": "markdown",
      "metadata": {
        "id": "umlnF4iPnv5X",
        "colab_type": "text"
      },
      "source": [
        "Получаем порог среза столбцов. "
      ]
    },
    {
      "cell_type": "code",
      "metadata": {
        "id": "G1-3xL6qYCyT",
        "colab_type": "code",
        "colab": {
          "base_uri": "https://localhost:8080/",
          "height": 34
        },
        "outputId": "0a6ac634-ce4e-427a-c7a5-56048a9c540a"
      },
      "source": [
        "general_empty[general_empty['1_y'] > 54].shape"
      ],
      "execution_count": 258,
      "outputs": [
        {
          "output_type": "execute_result",
          "data": {
            "text/plain": [
              "(174, 3)"
            ]
          },
          "metadata": {
            "tags": []
          },
          "execution_count": 258
        }
      ]
    },
    {
      "cell_type": "code",
      "metadata": {
        "id": "zFLF7n0FZs7f",
        "colab_type": "code",
        "colab": {
          "base_uri": "https://localhost:8080/",
          "height": 34
        },
        "outputId": "9fb100d2-9cd0-4e00-f6d5-125ca187e26d"
      },
      "source": [
        "general_empty[general_empty['1_x'] > 9].shape"
      ],
      "execution_count": 259,
      "outputs": [
        {
          "output_type": "execute_result",
          "data": {
            "text/plain": [
              "(174, 3)"
            ]
          },
          "metadata": {
            "tags": []
          },
          "execution_count": 259
        }
      ]
    },
    {
      "cell_type": "markdown",
      "metadata": {
        "id": "yhHyhylqn6b2",
        "colab_type": "text"
      },
      "source": [
        "Интересно, что колличество строк опять свопадают (количество строк в этом случае - это название столбцов)."
      ]
    },
    {
      "cell_type": "markdown",
      "metadata": {
        "id": "yRv0rGK3oMj1",
        "colab_type": "text"
      },
      "source": [
        "**Срезаем данные для тренировочного датасета.**"
      ]
    },
    {
      "cell_type": "markdown",
      "metadata": {
        "id": "aSA2x8r_oWz_",
        "colab_type": "text"
      },
      "source": [
        "Получим название столбцов для среза."
      ]
    },
    {
      "cell_type": "code",
      "metadata": {
        "id": "BceZyakiaTdE",
        "colab_type": "code",
        "colab": {}
      },
      "source": [
        "empty_name_train = general_empty[general_empty['1_y'] > 54][0].tolist()"
      ],
      "execution_count": 260,
      "outputs": []
    },
    {
      "cell_type": "markdown",
      "metadata": {
        "id": "Q31Fl1s8ohOr",
        "colab_type": "text"
      },
      "source": [
        "Удаляем столбцы."
      ]
    },
    {
      "cell_type": "code",
      "metadata": {
        "id": "p5pxS__zbVbY",
        "colab_type": "code",
        "colab": {}
      },
      "source": [
        "train_data = train_data.drop(columns=empty_name_train)"
      ],
      "execution_count": 261,
      "outputs": []
    },
    {
      "cell_type": "markdown",
      "metadata": {
        "id": "PtULbkaqof4d",
        "colab_type": "text"
      },
      "source": [
        "Удаляем строки с NaN."
      ]
    },
    {
      "cell_type": "code",
      "metadata": {
        "id": "tzWLuoArbftN",
        "colab_type": "code",
        "colab": {}
      },
      "source": [
        "train_data = train_data.dropna()"
      ],
      "execution_count": 262,
      "outputs": []
    },
    {
      "cell_type": "markdown",
      "metadata": {
        "id": "vYidlZ2donTP",
        "colab_type": "text"
      },
      "source": [
        "Проверяем наличие NaN."
      ]
    },
    {
      "cell_type": "code",
      "metadata": {
        "id": "bbGOsLtJcIZ1",
        "colab_type": "code",
        "colab": {}
      },
      "source": [
        "for c in train_data:\n",
        "    no_missing = train_data[c].isnull().sum()\n",
        "    if no_missing > 0:\n",
        "        print(no_missing)"
      ],
      "execution_count": 263,
      "outputs": []
    },
    {
      "cell_type": "markdown",
      "metadata": {
        "id": "d-9glNPVoq5a",
        "colab_type": "text"
      },
      "source": [
        "**Все ячейки имеют значения.**\n",
        "\n",
        "Получим название столбцов для среза.\n"
      ]
    },
    {
      "cell_type": "code",
      "metadata": {
        "id": "vnTlv5-Gc6Pr",
        "colab_type": "code",
        "colab": {}
      },
      "source": [
        "empty_name_test = general_empty[general_empty['1_x'] > 9][0].tolist()"
      ],
      "execution_count": 265,
      "outputs": []
    },
    {
      "cell_type": "markdown",
      "metadata": {
        "id": "gHQg8QRTo3BA",
        "colab_type": "text"
      },
      "source": [
        "Удаляем столбцы."
      ]
    },
    {
      "cell_type": "code",
      "metadata": {
        "id": "-y4kjVL8dD04",
        "colab_type": "code",
        "colab": {}
      },
      "source": [
        "test_data = test_data.drop(columns=empty_name_test)"
      ],
      "execution_count": 266,
      "outputs": []
    },
    {
      "cell_type": "markdown",
      "metadata": {
        "id": "xdkGM_Qyo7f_",
        "colab_type": "text"
      },
      "source": [
        "Удаляем строки с NaN."
      ]
    },
    {
      "cell_type": "code",
      "metadata": {
        "id": "Qi491qEhdDzu",
        "colab_type": "code",
        "colab": {}
      },
      "source": [
        "test_data = test_data.dropna()"
      ],
      "execution_count": 267,
      "outputs": []
    },
    {
      "cell_type": "markdown",
      "metadata": {
        "id": "ZZs1p9h4o-Vq",
        "colab_type": "text"
      },
      "source": [
        "Проверяем наличие NaN."
      ]
    },
    {
      "cell_type": "code",
      "metadata": {
        "id": "TekV_TwydQsz",
        "colab_type": "code",
        "colab": {}
      },
      "source": [
        "for c in test_data:\n",
        "    no_missing = test_data[c].isnull().sum()\n",
        "    if no_missing > 0:\n",
        "        print(no_missing)"
      ],
      "execution_count": 268,
      "outputs": []
    },
    {
      "cell_type": "markdown",
      "metadata": {
        "id": "YXuUznV8o_e4",
        "colab_type": "text"
      },
      "source": [
        "Размер тренировочного и тестового датасета."
      ]
    },
    {
      "cell_type": "code",
      "metadata": {
        "id": "Po48X1rPdTo8",
        "colab_type": "code",
        "colab": {
          "base_uri": "https://localhost:8080/",
          "height": 34
        },
        "outputId": "b2a760dc-de8e-48d8-825e-49c1aabb4421"
      },
      "source": [
        "print(train_data.shape, test_data.shape) #in train data is y (prediction), test data without it"
      ],
      "execution_count": 269,
      "outputs": [
        {
          "output_type": "stream",
          "text": [
            "(1017, 1440) (176, 1439)\n"
          ],
          "name": "stdout"
        }
      ]
    },
    {
      "cell_type": "markdown",
      "metadata": {
        "id": "VPGhgTi-pFDL",
        "colab_type": "text"
      },
      "source": [
        "**Оценим количество срезанных. **\n",
        "\n",
        "P.S. В тренировочном датасете, есть столбец Y для предсказания. Таким образом количество столбцов совпадает."
      ]
    },
    {
      "cell_type": "markdown",
      "metadata": {
        "id": "1dpY9hT1pFBe",
        "colab_type": "text"
      },
      "source": [
        "Процент среза по столбца для тренировочного, тестового, для обоих по колонкам."
      ]
    },
    {
      "cell_type": "code",
      "metadata": {
        "id": "WMOMT4EfeHAY",
        "colab_type": "code",
        "colab": {
          "base_uri": "https://localhost:8080/",
          "height": 34
        },
        "outputId": "ecb67208-e8e6-492d-c826-f92c7a76bc33"
      },
      "source": [
        "(1017 / 1095) * 100, ((1440 - 2) / 1612) * 100, (176 / 194) * 100"
      ],
      "execution_count": 270,
      "outputs": [
        {
          "output_type": "execute_result",
          "data": {
            "text/plain": [
              "(92.87671232876711, 89.20595533498759, 90.72164948453609)"
            ]
          },
          "metadata": {
            "tags": []
          },
          "execution_count": 270
        }
      ]
    },
    {
      "cell_type": "markdown",
      "metadata": {
        "id": "YmIN9Nz1pwKA",
        "colab_type": "text"
      },
      "source": [
        "Для строк тренировочных данных, удалили 7,2%.\n",
        "Для строк тестовых данных удалили 9,3%.\n",
        "Для столбцов удалили 10,8% данных."
      ]
    },
    {
      "cell_type": "markdown",
      "metadata": {
        "id": "jXRPRhBeelu-",
        "colab_type": "text"
      },
      "source": [
        "Сравним, не похожие столбцы."
      ]
    },
    {
      "cell_type": "code",
      "metadata": {
        "id": "625UFNb1ekV_",
        "colab_type": "code",
        "colab": {}
      },
      "source": [
        "col1 = train_data.drop(columns=['y']).columns"
      ],
      "execution_count": 271,
      "outputs": []
    },
    {
      "cell_type": "code",
      "metadata": {
        "id": "oTiW-MnIekUo",
        "colab_type": "code",
        "colab": {}
      },
      "source": [
        "col2 = test_data.columns"
      ],
      "execution_count": 272,
      "outputs": []
    },
    {
      "cell_type": "code",
      "metadata": {
        "id": "-i5WHF5Ye6qr",
        "colab_type": "code",
        "colab": {}
      },
      "source": [
        "for i in range(len(col1)):\n",
        "    if col1[i] != col2[i]:\n",
        "        print(i)"
      ],
      "execution_count": 273,
      "outputs": []
    },
    {
      "cell_type": "markdown",
      "metadata": {
        "id": "ATJ3Bl9afZI3",
        "colab_type": "text"
      },
      "source": [
        "Значит все имена столбцов совпадают!"
      ]
    },
    {
      "cell_type": "markdown",
      "metadata": {
        "id": "-BTiJOTnjfz2",
        "colab_type": "text"
      },
      "source": [
        "*Идея, если колонка не содержит 0, и при этом большое значение NaN, то может более ликвидно не удалять их, а значение NaN заменять на 0, тогда мы оставим большое колличество данных. Но в этом случае, машина будет считать, что значения NaN (как координаты точек) равным между собой, но они не могут равнятся, т.к. это подобие идеи бесконечности.*\n"
      ]
    },
    {
      "cell_type": "markdown",
      "metadata": {
        "id": "qKH3ZBINqreK",
        "colab_type": "text"
      },
      "source": [
        "Сохраним обработанные данные."
      ]
    },
    {
      "cell_type": "code",
      "metadata": {
        "id": "vLwCW1tqqt8I",
        "colab_type": "code",
        "colab": {}
      },
      "source": [
        "train_data.to_csv('train_p.csv', index=False) #index false"
      ],
      "execution_count": 274,
      "outputs": []
    },
    {
      "cell_type": "code",
      "metadata": {
        "id": "xMH6RFq3rb8j",
        "colab_type": "code",
        "colab": {}
      },
      "source": [
        "test_data.to_csv('test_p.csv', index=False) #index false"
      ],
      "execution_count": 275,
      "outputs": []
    },
    {
      "cell_type": "code",
      "metadata": {
        "id": "Hl_i2364sTMY",
        "colab_type": "code",
        "colab": {}
      },
      "source": [
        "with open(\"col_name.txt\", \"w\") as f:\n",
        "    f.writelines(str(empty_name_test))"
      ],
      "execution_count": 276,
      "outputs": []
    }
  ]
}