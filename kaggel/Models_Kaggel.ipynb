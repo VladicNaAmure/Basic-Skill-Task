{
  "nbformat": 4,
  "nbformat_minor": 0,
  "metadata": {
    "colab": {
      "name": "Models.ipynb",
      "provenance": [],
      "collapsed_sections": [
        "BUBnLCKFgZWu"
      ]
    },
    "kernelspec": {
      "name": "python3",
      "display_name": "Python 3"
    }
  },
  "cells": [
    {
      "cell_type": "markdown",
      "metadata": {
        "id": "NsFnBxIYQ8-z",
        "colab_type": "text"
      },
      "source": [
        "# Оценим данные"
      ]
    },

    {
      "cell_type": "markdown",
      "metadata": {
        "id": "BGeqdtkBRD-L",
        "colab_type": "text"
      },
      "source": [
        "Библиотеки для работы с данными."
      ]
    },
    {
      "cell_type": "code",
      "metadata": {
        "id": "IjUOl5KgvrWp",
        "colab_type": "code",
        "colab": {}
      },
      "source": [
        "import numpy as np\n",
        "import pandas as pd"
      ],
      "execution_count": 202,
      "outputs": []
    },
    {
      "cell_type": "code",
      "metadata": {
        "id": "-gAeSrSivevU",
        "colab_type": "code",
        "colab": {}
      },
      "source": [
        "test = pd.read_csv('all_test.csv')\n",
        "train = pd.read_csv('all_train.csv')"
      ],
      "execution_count": 203,
      "outputs": []
    },
    {
      "cell_type": "markdown",
      "metadata": {
        "id": "uOesJBcDRH4i",
        "colab_type": "text"
      },
      "source": [
        "Примерно 88-90% от изначального объема данных."
      ]
    },
    {
      "cell_type": "code",
      "metadata": {
        "id": "ResDxNU6v6ZW",
        "colab_type": "code",
        "colab": {
          "base_uri": "https://localhost:8080/",
          "height": 34
        },
        "outputId": "2139771b-be58-41e4-fafa-48ecd96da5ad"
      },
      "source": [
        "train.shape , test.shape"
      ],
      "execution_count": 204,
      "outputs": [
        {
          "output_type": "execute_result",
          "data": {
            "text/plain": [
              "((1095, 1614), (194, 1613))"
            ]
          },
          "metadata": {
            "tags": []
          },
          "execution_count": 204
        }
      ]
    },
    {
      "cell_type": "markdown",
      "metadata": {
        "id": "rhNQnWd0RPxt",
        "colab_type": "text"
      },
      "source": [
        "Разделим данные на параметры и предсказание."
      ]
    },
    {
      "cell_type": "code",
      "metadata": {
        "id": "IRiupFUMyigN",
        "colab_type": "code",
        "colab": {}
      },
      "source": [
        "X_train = train.drop(columns=['sample_id','y'])\n",
        "y_train = train['y']"
      ],
      "execution_count": 205,
      "outputs": []
    },
    {
      "cell_type": "markdown",
      "metadata": {
        "id": "ZJU0TS5LRZIE",
        "colab_type": "text"
      },
      "source": [
        "Подготовим тренировочные данные, для предсказания. И отдельно колонка с названием. \n",
        "\n",
        "P.S. Индексы сохраняются."
      ]
    },
    {
      "cell_type": "code",
      "metadata": {
        "id": "Mjl7Xi8qysSG",
        "colab_type": "code",
        "colab": {}
      },
      "source": [
        "X_test = test.drop(columns=['sample_id'])\n",
        "X_name = test['sample_id']"
      ],
      "execution_count": 206,
      "outputs": []
    },
    {
      "cell_type": "markdown",
      "metadata": {
        "id": "ATnq9E3PzI8B",
        "colab_type": "text"
      },
      "source": [
        "Набор не идеально сбалансирован, однако разница в распределении классов не столь существенна, чтобы применять решения, предназначенные для сильно несбалансированных случаев."
      ]
    },
    {
      "cell_type": "code",
      "metadata": {
        "id": "Rundni2hzDiP",
        "colab_type": "code",
        "colab": {
          "base_uri": "https://localhost:8080/",
          "height": 298
        },
        "outputId": "0cc5da6b-46e0-4fc5-d5e3-70b82edfe382"
      },
      "source": [
        "import seaborn as sns\n",
        "import matplotlib.pyplot as plt\n",
        "\n",
        "sns.countplot(train['y'],label=\"Sum\")\n",
        "\n",
        "plt.show()"
      ],
      "execution_count": 207,
      "outputs": [
        {
          "output_type": "display_data",
          "data": {
            "image/png": "[encoded data removed]",
            "text/plain": [
              "<Figure size 432x288 with 1 Axes>"
            ]
          },
          "metadata": {
            "tags": []
          }
        }
      ]
    },
    {
      "cell_type": "markdown",
      "metadata": {
        "id": "bkX8y6waRPIk",
        "colab_type": "text"
      },
      "source": [
        "Чтобы повысить точность, стандартизируем данные для baseline моделей."
      ]
    },
    {
      "cell_type": "code",
      "metadata": {
        "id": "Xv6CHHUqQaU9",
        "colab_type": "code",
        "colab": {}
      },
      "source": [
        "def standardize(train, test):\n",
        "    mean = np.mean(train, axis=0)\n",
        "    std = np.std(train, axis=0)+0.000001\n",
        "\n",
        "    X_train = (train - mean) / std\n",
        "    X_test = (test - mean) /std\n",
        "    return X_train, X_test"
      ],
      "execution_count": 208,
      "outputs": []
    },
    {
      "cell_type": "code",
      "metadata": {
        "id": "H25AhtxxRTUG",
        "colab_type": "code",
        "colab": {}
      },
      "source": [
        "X_train, X_test = standardize(X_train, X_test)"
      ],
      "execution_count": 209,
      "outputs": []
    },
    {
      "cell_type": "markdown",
      "metadata": {
        "id": "jkz-hOfnanKI",
        "colab_type": "text"
      },
      "source": [
        "Обучаем модель. Keras Sequential API.\n",
        "\n",
        "P.S. Помимо Sequential, есть и Functional API, но принципиального отличия между способами нет.\n",
        "Класс Model (и унаследованный от него Sequential) имеет удобный интерфейс, позволяющий посмотреть, какие слои входят в модель — model.layers, входы — model.inputs, и выходы — model.outputs.\n",
        "\n",
        "\n",
        "Также очень удобный метод отображения и сохранения модели — model.to_yaml."
      ]
    },
    {
      "cell_type": "code",
      "metadata": {
        "id": "9xmUvRy7bOr8",
        "colab_type": "code",
        "colab": {}
      },
      "source": [
        "from keras.models import Sequential\n",
        "from keras.utils import to_categorical\n",
        "from sklearn.preprocessing import StandardScaler\n",
        "from keras.layers import Dense\n",
        "from tensorflow import keras"
      ],
      "execution_count": 210,
      "outputs": []
    },
    {
      "cell_type": "code",
      "metadata": {
        "id": "dDsqKgy9b1nM",
        "colab_type": "code",
        "colab": {}
      },
      "source": [
        "import warnings\n",
        "warnings.filterwarnings('ignore')"
      ],
      "execution_count": 211,
      "outputs": []
    },
    {
      "cell_type": "markdown",
      "metadata": {
        "id": "l9oAoxR4SSVx",
        "colab_type": "text"
      },
      "source": [
        "Разделим тренировочный датасет на валидационные данные в соотношении 15%, объем данный не большой. Для чего это нужно. Мы передаем валидационные данные для мониторинга потерь и метрик на этих данных в конце каждой эпохи."
      ]
    },
    {
      "cell_type": "code",
      "metadata": {
        "id": "aYmjy3TEGtjt",
        "colab_type": "code",
        "colab": {}
      },
      "source": [
        "# Зарезервируем 20% примеров для валидации\n",
        "X_val = X_train[-219:]\n",
        "y_val = y_train[-219:]\n",
        "X = X_train[:-219]\n",
        "Y = y_train[:-219]"
      ],
      "execution_count": 212,
      "outputs": []
    },
    {
      "cell_type": "markdown",
      "metadata": {
        "id": "kaJ0XFtuSqMo",
        "colab_type": "text"
      },
      "source": [
        "Полная метрика, для ROC-AUC."
      ]
    },
    {
      "cell_type": "code",
      "metadata": {
        "id": "GDBwn_FvvAwz",
        "colab_type": "code",
        "colab": {}
      },
      "source": [
        "METRICS = [\n",
        "      keras.metrics.TruePositives(name='tp'),\n",
        "      keras.metrics.FalsePositives(name='fp'),\n",
        "      keras.metrics.TrueNegatives(name='tn'),\n",
        "      keras.metrics.FalseNegatives(name='fn'), \n",
        "      keras.metrics.BinaryAccuracy(name='accuracy'),\n",
        "      keras.metrics.Precision(name='precision'),\n",
        "      keras.metrics.Recall(name='recall'),\n",
        "      keras.metrics.AUC(name='auc'),\n",
        "]"
      ],
      "execution_count": 213,
      "outputs": []
    },
    {
      "cell_type": "markdown",
      "metadata": {
        "id": "BUBnLCKFgZWu",
        "colab_type": "text"
      },
      "source": [
        "# Выбор гиперпараметров"
      ]
    },
    {
      "cell_type": "markdown",
      "metadata": {
        "id": "l3vk_CRrS0ib",
        "colab_type": "text"
      },
      "source": [
        "**Обучаем модель. Подробнее:**\n",
        "\n",
        "Для compile в качестве loss (минимизируемая функция потерь), берем 'binary_crossentropy', т.к. предсказываем только одно значение и это соотвествует стандартной сигнатуре (нужные кастомные метрики, могут быть вычислены из y_true, y_pred). По этой причине, у нас стоит Dense(1,...,activation='sigmoid'), если бы у нас было бы больше чем один класс для предсказания, например датасет MNIST, тогда разумеется брали 'categorical_crossentropy' с Density(10,...,activation='softmax').\n",
        "\n",
        "Кстати, вместо 'softmax', взяли 'sigmoid'. Сигмовидные функции используются в машинном обучении для логистической регрессии и базовых реализаций нейронной сети и являются вводными единицами активации. Но для продвинутых сигмаидных функций нейронной сети они не предпочтительны из-за различных недостатков. Хотя сигмовидная функция и ее производная просты и помогают сократить время, необходимое для создания моделей, существует существенный недостаток потери информации из-за короткого диапазона производной.\n",
        "\n",
        "Следовательно, чем больше слоев в нашей нейронной сети или чем глубже наша нейронная сеть, тем больше информации сжимается и теряется на каждом уровне, что усиливается и приводит к значительной потере данных в целом. По причине, того что это бинарная класификация, сжатие информации не страшно, т.к. один нейроный слой для сигмовидной функции.\n",
        "\n",
        "Большинство приложений глубокого обучения в настоящее время используют ReLU вместо функций логистической активации, что мы и сделали при строительстве нейронных сетей. ReLU не лишены каких-либо недостатков, некоторые из них заключаются в том, что ReLU не центрируется на ноль и не дифференцируется в нуле, но дифференцируется в любом другом месте. По этой причине, делаем сглаживние сигмовидной функцией. \n",
        "\n",
        "![Sigmoid Vs ReLU](https://miro.medium.com/max/700/1*29VH_NiSdoLJ1jUMLrURCA.png)\n",
        "\n",
        "Некоторые проблемы ReLU с нейроными сетями, могут быть решены Leaky ReLU. \n",
        "\n",
        "И основной вопрос, почему взяли 'sigmoid', а не 'softmax' для обучения на энтропии потерь. \n",
        "\n",
        "Потому, что 'softmax' используется для мультиклассификации в модели логистической регрессии, тогда как 'sigmoid' используется для двоичной классификации в модели логистической регрессии, сумма вероятностей равна единице для 'softmax'. А значит, 'softmax' не проявит себя в двоичной классификации, но затрить больше времени. \n",
        "\n",
        "**Что насчет оптимизатора?**\n",
        "Обновить параметры выходного слоя довольно просто, но чтобы добраться до параметров слоёв за ним, приходится проходить через нелинейности, производные от которых вносят свой вклад. Явно расписанные формулы для обновления весов где-нибдуь в середине сети выглядят страшненько, ведь каждый нейрон зависит ото всех нейронов, с которымии он связан, а те — ото всех нейронов, с которыми связаны они, и так далее. Оптимизаторы нужны, чтобы решить ряд проблем, например застревание в локальных минимумах или седловых точках, сложный ландшафт целевой функции, маленькая скорость обучения, итд. Идея потимизатора, накапливать импульсы, т.е. если мы некоторое время движемся в определённом направлении, то, вероятно, нам следует туда двигаться некоторое время и в будущем. Для этого нужно уметь обращаться к недавней истории изменений каждого параметра.\n",
        "\n",
        "Оптимизатор — один из двух аргументов, необходимых для компиляции модели Keras. Его можно настроить, или взять уже с параметрами. \n",
        "Оптимизатор SGD (стохастический оптимизатор градиентного спуска), RMSProp, Adagrad, Adadelta, Adam, Adamax, Nadam.\n",
        "\n",
        "Выбрали для обученя модели, оптимизатор Adam, который по сути являестя RMSprop с импульсом. Параметры по умолчанию, keras.optimizers.Adam(learning_rate=0.001, beta_1=0.9, beta_2=0.999, amsgrad=False). **Он сочетает в себе и идею накопления движения и идею более слабого обновления весов для типичных признаков. **\n",
        "\n",
        "learning_rate: float >= 0. Скорость обучения.\n",
        "beta_1: float, 0 < beta < 1. Обычно близко к 1.\n",
        "beta_2: float, 0 < beta < 1. Обычно близко к 1.\n",
        "\n",
        "Adam отличается тем, что мы накапливаем значения градиента. Кроме того, мы хотим знать, как часто градиент изменяется.\n",
        "\n",
        "Выбор оптимизатора, производился для простых датасетов, на основе вывода статьи. Я бы предложил держать качестве «золотого молотка» Adam, так как он выдаёт наилучшие результаты при минимальном подгоне параметров. Когда сеть уже более-менее отлажена, попробуйте метод Нестерова с разными параметрами.\n",
        "\n",
        "![Оптимизатор для простых датасетов](https://hsto.org/files/270/4f7/4f5/2704f74f52764a2d83f519c16dd3bc9c.png)\n",
        "\n",
        "Выбор гиперпараметров производился, на основе графика, и сравнения точности моделей. Основной критерий, времени экномится больше, чем увиличивается AUC от обучения.\n",
        "\n",
        "Выбирались параметры, колличество нейроных сетей, эпох обучения, и количество образцов на обновлении градиента, теперь подробнее.\n",
        "\n",
        "batch_size: Целое или нет. Количество образцов на обновление градиента. Если не указано, то по умолчанию параметр batch_size будет равен 32. Не указывайте размер переменной batch_size, если ваши данные представлены в виде символических тензоров, генераторов или экземпляров последовательности (поскольку они генерируют партии).\n",
        "\n",
        "Размер партии значительно влияет на обучение. Когда вы помещаете пакет в свою сеть, происходит то, что вы усредняете градиенты. Концепция заключается в том, что если размер вашей партии достаточно велик, это обеспечит достаточно стабильную оценку того, каким будет градиент полного набора данных. Взяв образцы из вашего набора данных, вы оцените градиент при значительном снижении вычислительных затрат. Чем ниже вы идете, тем менее точной будет ваша оценка, однако в некоторых случаях эти шумовые градиенты могут фактически помочь избежать локальных минимумов. Когда оно слишком низкое, вес вашей сети может просто перепрыгнуть, если ваши данные шумят, и они могут быть неспособны к обучению или они сходятся очень медленно, что отрицательно влияет на общее время вычислений\n",
        "\n",
        "Размер batch_size в среднем влияет только на скорость вашего обучения, а не на качество обучения. Я попытался получить большой размер batch_size, который по-прежнему умещается в памяти графического процессора, чтобы получить максимально возможную скорость.\n",
        "\n",
        "epochs: Целое. Количество эпох для обучения модели. Эпоха — это итерация по всем предоставленным данным x и y. Обратите внимание, что в сочетании с initial_epoch, эпохи должны пониматься как «конечная эпоха». Модель не тренируется для ряда итераций, заданных эпохами, а только до тех пор, пока не будет достигнута эпоха индексов.\n",
        "Подбор производился опираясь на значения результатов статьи и своих сравнений.\n",
        "\n",
        "Колличество нейроных слоев. Dense просто обычный плотно связанный слой NN. Dense реализует операцию: output = activation(dot(input, kernel) + bias), где активация — это функция активации по элементам, переданная в качестве аргумента активации, кернел — это матрица весов, созданная слоем, а смещение — это вектор смещения, созданный слоем (применимо только в случае, если use_bias — True).\n",
        "\n",
        "Замечание: если вход в слой имеет ранг больше 2, то он сглаживается перед исходным точечным продуктом с кернелом.\n",
        "\n",
        "Выбор units: положительное целое число, размерность выходного пространства, для Dense. Нейронные сети - это, в основном, умножение матриц, падение, о котором вы говорите в первой части, связано не с функцией активации, а только с природой умножения матриц:\n",
        "\n",
        "Просто говоря, считаем так: input * weights = output. Подбираем этот параметр, при уже зафиксированных значениях epoch, bach_size. Вывод делался по значениям AUC.\n",
        "\n",
        "Источники: \n",
        "\n",
        "[1] Методы оптимизации нейронных сетей https://habr.com/ru/post/318970/\n",
        "\n",
        "[2] Оптимизаторы https://ru-keras.com/optimizer/\n",
        "\n",
        "[3] Activation function https://medium.com/@himanshuxd/\n",
        "activation-functions-sigmoid-relu-leaky-relu-and-softmax-basics-for-neural-networks-and-deep-8d9c70eed91e\n",
        "\n",
        "[4] Методы последовательной модели https://ru-keras.com/sequential/\n",
        "\n",
        "[5] Основные слои https://ru-keras.com/core-layers/\n",
        "\n",
        "[6] FAQ https://ru-keras.com/keras-faq/"
      ]
    },
    {
      "cell_type": "markdown",
      "metadata": {
        "id": "alcw79YfgdYL",
        "colab_type": "text"
      },
      "source": [
        "# Обучение модели"
      ]
    },
    {
      "cell_type": "code",
      "metadata": {
        "id": "eW9yxegRUDg4",
        "colab_type": "code",
        "colab": {
          "base_uri": "https://localhost:8080/",
          "height": 836
        },
        "outputId": "4feb10c2-d067-4f47-b157-00c27d91bda8"
      },
      "source": [
        "model = Sequential()\n",
        "model.add(Dense(32, init='uniform', activation='relu'))\n",
        "# Установил 16, чтобы увеличить количество совпадений с результатами из задания\n",
        "model.add(Dense(16, activation='relu'))    # Нужно установить 32, чтобы результат соотвествовал последний данным на Kaggel\n",
        "model.add(Dense(1, init='uniform', activation='sigmoid'))\n",
        "\n",
        "model.compile(loss='binary_crossentropy', optimizer='adam', metrics=[METRICS])\n",
        "history = model.fit(X.values, Y.values, epochs=23, batch_size=128, \n",
        "          validation_data=(X_val.values, y_val.values))"
      ],
      "execution_count": 224,
      "outputs": [
        {
          "output_type": "stream",
          "text": [
            "Train on 876 samples, validate on 219 samples\n",
            "Epoch 1/23\n",
            "876/876 [==============================] - 0s 390us/step - loss: 0.6649 - tp: 14060.8574 - fp: 2273.7144 - tn: 7693.0000 - fn: 1666.5714 - accuracy: 0.8467 - precision: 0.8609 - recall: 0.8940 - auc: 0.9235 - val_loss: 0.5856 - val_tp: 14399.5000 - val_fp: 2441.5000 - val_tn: 7721.0000 - val_fn: 1672.5000 - val_accuracy: 0.8432 - val_precision: 0.8550 - val_recall: 0.8959 - val_auc: 0.9207\n",
            "Epoch 2/23\n",
            "876/876 [==============================] - 0s 69us/step - loss: 0.5980 - tp: 14706.1426 - fp: 2605.7144 - tn: 7794.7144 - fn: 1682.5714 - accuracy: 0.8399 - precision: 0.8495 - recall: 0.8973 - auc: 0.9183 - val_loss: 0.5218 - val_tp: 15032.5000 - val_fp: 2725.0000 - val_tn: 7861.5000 - val_fn: 1710.5000 - val_accuracy: 0.8377 - val_precision: 0.8465 - val_recall: 0.8978 - val_auc: 0.9162\n",
            "Epoch 3/23\n",
            "876/876 [==============================] - 0s 74us/step - loss: 0.5483 - tp: 15337.5713 - fp: 2841.7144 - tn: 7973.1431 - fn: 1731.7142 - accuracy: 0.8360 - precision: 0.8437 - recall: 0.8985 - auc: 0.9145 - val_loss: 0.4920 - val_tp: 15647.0000 - val_fp: 2940.0000 - val_tn: 8070.5000 - val_fn: 1767.0000 - val_accuracy: 0.8344 - val_precision: 0.8418 - val_recall: 0.8985 - val_auc: 0.9128\n",
            "Epoch 4/23\n",
            "876/876 [==============================] - 0s 73us/step - loss: 0.5094 - tp: 15955.5713 - fp: 3033.1428 - tn: 8195.4287 - fn: 1795.0000 - accuracy: 0.8334 - precision: 0.8403 - recall: 0.8989 - auc: 0.9117 - val_loss: 0.4816 - val_tp: 16247.5000 - val_fp: 3120.5000 - val_tn: 8314.0000 - val_fn: 1837.5000 - val_accuracy: 0.8320 - val_precision: 0.8389 - val_recall: 0.8984 - val_auc: 0.9103\n",
            "Epoch 5/23\n",
            "876/876 [==============================] - 0s 79us/step - loss: 0.4671 - tp: 16546.4277 - fp: 3197.8572 - tn: 8463.0000 - fn: 1866.8572 - accuracy: 0.8316 - precision: 0.8380 - recall: 0.8986 - auc: 0.9096 - val_loss: 0.4785 - val_tp: 16845.5000 - val_fp: 3268.0000 - val_tn: 8590.5000 - val_fn: 1910.5000 - val_accuracy: 0.8308 - val_precision: 0.8375 - val_recall: 0.8981 - val_auc: 0.9085\n",
            "Epoch 6/23\n",
            "876/876 [==============================] - 0s 67us/step - loss: 0.4258 - tp: 17130.5723 - fp: 3333.1428 - tn: 8758.8574 - fn: 1946.5714 - accuracy: 0.8306 - precision: 0.8371 - recall: 0.8980 - auc: 0.9082 - val_loss: 0.4837 - val_tp: 17429.0000 - val_fp: 3386.5000 - val_tn: 8896.0000 - val_fn: 1998.0000 - val_accuracy: 0.8302 - val_precision: 0.8373 - val_recall: 0.8972 - val_auc: 0.9076\n",
            "Epoch 7/23\n",
            "876/876 [==============================] - 0s 75us/step - loss: 0.3926 - tp: 17717.8574 - fp: 3452.8572 - tn: 9062.5713 - fn: 2030.8572 - accuracy: 0.8300 - precision: 0.8369 - recall: 0.8972 - auc: 0.9073 - val_loss: 0.4667 - val_tp: 18023.5000 - val_fp: 3503.0000 - val_tn: 9203.5000 - val_fn: 2074.5000 - val_accuracy: 0.8300 - val_precision: 0.8373 - val_recall: 0.8968 - val_auc: 0.9071\n",
            "Epoch 8/23\n",
            "876/876 [==============================] - 0s 75us/step - loss: 0.3642 - tp: 18321.4277 - fp: 3558.2856 - tn: 9375.7139 - fn: 2103.7144 - accuracy: 0.8303 - precision: 0.8374 - recall: 0.8970 - auc: 0.9074 - val_loss: 0.4764 - val_tp: 18623.0000 - val_fp: 3619.0000 - val_tn: 9511.5000 - val_fn: 2146.0000 - val_accuracy: 0.8299 - val_precision: 0.8373 - val_recall: 0.8967 - val_auc: 0.9070\n",
            "Epoch 9/23\n",
            "876/876 [==============================] - 0s 70us/step - loss: 0.3395 - tp: 18915.7148 - fp: 3667.0000 - tn: 9691.7139 - fn: 2179.7144 - accuracy: 0.8303 - precision: 0.8376 - recall: 0.8967 - auc: 0.9074 - val_loss: 0.4813 - val_tp: 19217.0000 - val_fp: 3721.0000 - val_tn: 9833.5000 - val_fn: 2223.0000 - val_accuracy: 0.8301 - val_precision: 0.8378 - val_recall: 0.8963 - val_auc: 0.9072\n",
            "Epoch 10/23\n",
            "876/876 [==============================] - 0s 74us/step - loss: 0.3226 - tp: 19512.7148 - fp: 3770.7144 - tn: 10008.7139 - fn: 2257.0000 - accuracy: 0.8304 - precision: 0.8381 - recall: 0.8963 - auc: 0.9075 - val_loss: 0.4777 - val_tp: 19814.0000 - val_fp: 3817.0000 - val_tn: 10161.5000 - val_fn: 2297.0000 - val_accuracy: 0.8306 - val_precision: 0.8385 - val_recall: 0.8961 - val_auc: 0.9075\n",
            "Epoch 11/23\n",
            "876/876 [==============================] - 0s 85us/step - loss: 0.3051 - tp: 20116.7148 - fp: 3856.1428 - tn: 10343.5713 - fn: 2327.7144 - accuracy: 0.8312 - precision: 0.8391 - recall: 0.8963 - auc: 0.9082 - val_loss: 0.4950 - val_tp: 20407.0000 - val_fp: 3902.0000 - val_tn: 10500.5000 - val_fn: 2375.0000 - val_accuracy: 0.8312 - val_precision: 0.8395 - val_recall: 0.8958 - val_auc: 0.9081\n",
            "Epoch 12/23\n",
            "876/876 [==============================] - 0s 69us/step - loss: 0.2880 - tp: 20696.1426 - fp: 3940.7144 - tn: 10694.4287 - fn: 2407.8572 - accuracy: 0.8318 - precision: 0.8400 - recall: 0.8958 - auc: 0.9087 - val_loss: 0.4741 - val_tp: 21002.0000 - val_fp: 3976.5000 - val_tn: 10850.0000 - val_fn: 2451.0000 - val_accuracy: 0.8321 - val_precision: 0.8408 - val_recall: 0.8955 - val_auc: 0.9089\n",
            "Epoch 13/23\n",
            "876/876 [==============================] - 0s 66us/step - loss: 0.2670 - tp: 21301.0000 - fp: 4012.4285 - tn: 11041.7139 - fn: 2479.0000 - accuracy: 0.8328 - precision: 0.8415 - recall: 0.8958 - auc: 0.9096 - val_loss: 0.4849 - val_tp: 21600.5000 - val_fp: 4048.0000 - val_tn: 11202.5000 - val_fn: 2523.5000 - val_accuracy: 0.8331 - val_precision: 0.8422 - val_recall: 0.8954 - val_auc: 0.9098\n",
            "Epoch 14/23\n",
            "876/876 [==============================] - 0s 73us/step - loss: 0.2514 - tp: 21903.8574 - fp: 4082.2856 - tn: 11390.4287 - fn: 2552.5715 - accuracy: 0.8338 - precision: 0.8429 - recall: 0.8956 - auc: 0.9106 - val_loss: 0.4820 - val_tp: 22203.0000 - val_fp: 4120.0000 - val_tn: 11554.5000 - val_fn: 2592.0000 - val_accuracy: 0.8341 - val_precision: 0.8435 - val_recall: 0.8955 - val_auc: 0.9109\n",
            "Epoch 15/23\n",
            "876/876 [==============================] - 0s 75us/step - loss: 0.2365 - tp: 22504.2852 - fp: 4146.1431 - tn: 11755.5713 - fn: 2618.1428 - accuracy: 0.8351 - precision: 0.8444 - recall: 0.8958 - auc: 0.9118 - val_loss: 0.5033 - val_tp: 22801.5000 - val_fp: 4181.0000 - val_tn: 11917.5000 - val_fn: 2664.5000 - val_accuracy: 0.8353 - val_precision: 0.8450 - val_recall: 0.8954 - val_auc: 0.9120\n",
            "Epoch 16/23\n",
            "876/876 [==============================] - 0s 70us/step - loss: 0.2221 - tp: 23099.4277 - fp: 4211.5713 - tn: 12121.4287 - fn: 2686.7144 - accuracy: 0.8362 - precision: 0.8458 - recall: 0.8958 - auc: 0.9130 - val_loss: 0.4884 - val_tp: 23410.5000 - val_fp: 4245.0000 - val_tn: 12277.5000 - val_fn: 2726.5000 - val_accuracy: 0.8366 - val_precision: 0.8465 - val_recall: 0.8957 - val_auc: 0.9133\n",
            "Epoch 17/23\n",
            "876/876 [==============================] - 0s 67us/step - loss: 0.2082 - tp: 23716.1426 - fp: 4275.0000 - tn: 12474.7139 - fn: 2748.2856 - accuracy: 0.8375 - precision: 0.8473 - recall: 0.8962 - auc: 0.9142 - val_loss: 0.4960 - val_tp: 24018.0000 - val_fp: 4302.0000 - val_tn: 12644.5000 - val_fn: 2790.0000 - val_accuracy: 0.8379 - val_precision: 0.8481 - val_recall: 0.8959 - val_auc: 0.9146\n",
            "Epoch 18/23\n",
            "876/876 [==============================] - 0s 71us/step - loss: 0.1962 - tp: 24323.7148 - fp: 4327.5713 - tn: 12846.0000 - fn: 2811.8572 - accuracy: 0.8389 - precision: 0.8490 - recall: 0.8964 - auc: 0.9156 - val_loss: 0.5049 - val_tp: 24629.0000 - val_fp: 4354.0000 - val_tn: 13016.5000 - val_fn: 2850.0000 - val_accuracy: 0.8394 - val_precision: 0.8498 - val_recall: 0.8963 - val_auc: 0.9160\n",
            "Epoch 19/23\n",
            "876/876 [==============================] - 0s 70us/step - loss: 0.1851 - tp: 24928.7148 - fp: 4378.0000 - tn: 13226.1426 - fn: 2871.2856 - accuracy: 0.8403 - precision: 0.8506 - recall: 0.8967 - auc: 0.9171 - val_loss: 0.5125 - val_tp: 25239.0000 - val_fp: 4407.0000 - val_tn: 13387.5000 - val_fn: 2911.0000 - val_accuracy: 0.8407 - val_precision: 0.8513 - val_recall: 0.8966 - val_auc: 0.9174\n",
            "Epoch 20/23\n",
            "876/876 [==============================] - 0s 65us/step - loss: 0.1710 - tp: 25545.8574 - fp: 4427.2856 - tn: 13599.0000 - fn: 2927.0000 - accuracy: 0.8418 - precision: 0.8523 - recall: 0.8972 - auc: 0.9185 - val_loss: 0.5231 - val_tp: 25855.0000 - val_fp: 4451.5000 - val_tn: 13767.0000 - val_fn: 2966.0000 - val_accuracy: 0.8423 - val_precision: 0.8531 - val_recall: 0.8971 - val_auc: 0.9188\n",
            "Epoch 21/23\n",
            "876/876 [==============================] - 0s 66us/step - loss: 0.1626 - tp: 26160.2852 - fp: 4474.5713 - tn: 13979.8574 - fn: 2979.4285 - accuracy: 0.8434 - precision: 0.8539 - recall: 0.8978 - auc: 0.9199 - val_loss: 0.5229 - val_tp: 26480.5000 - val_fp: 4505.0000 - val_tn: 14137.5000 - val_fn: 3011.5000 - val_accuracy: 0.8438 - val_precision: 0.8546 - val_recall: 0.8979 - val_auc: 0.9203\n",
            "Epoch 22/23\n",
            "876/876 [==============================] - 0s 73us/step - loss: 0.1494 - tp: 26788.8574 - fp: 4521.1431 - tn: 14352.7139 - fn: 3026.4285 - accuracy: 0.8450 - precision: 0.8556 - recall: 0.8985 - auc: 0.9214 - val_loss: 0.5658 - val_tp: 27098.0000 - val_fp: 4543.0000 - val_tn: 14523.5000 - val_fn: 3065.0000 - val_accuracy: 0.8455 - val_precision: 0.8564 - val_recall: 0.8984 - val_auc: 0.9217\n",
            "Epoch 23/23\n",
            "876/876 [==============================] - 0s 71us/step - loss: 0.1404 - tp: 27413.8574 - fp: 4557.8569 - tn: 14734.5713 - fn: 3077.8572 - accuracy: 0.8466 - precision: 0.8574 - recall: 0.8991 - auc: 0.9228 - val_loss: 0.5521 - val_tp: 27720.5000 - val_fp: 4579.5000 - val_tn: 14911.0000 - val_fn: 3113.5000 - val_accuracy: 0.8471 - val_precision: 0.8582 - val_recall: 0.8990 - val_auc: 0.9231\n"
          ],
          "name": "stdout"
        }
      ]
    },
    {
      "cell_type": "markdown",
      "metadata": {
        "id": "yGv8mVN3wuxI",
        "colab_type": "text"
      },
      "source": [
        "Сохраним модель."
      ]
    },
    {
      "cell_type": "code",
      "metadata": {
        "id": "gbpGNw4IwUNE",
        "colab_type": "code",
        "colab": {}
      },
      "source": [
        "from keras.models import load_model\n",
        "\n",
        "model.save('keras_model.h5')    # Создает файл HDF5 ‘my_model.h5’\n",
        "\n",
        "#del model    # Удаляет существующую модель\n",
        "\n",
        "#model = load_model('my_model.h5')    # Возвращает скомпилированную модель"
      ],
      "execution_count": 215,
      "outputs": []
    },
    {
      "cell_type": "markdown",
      "metadata": {
        "id": "DidJL5s1mK6l",
        "colab_type": "text"
      },
      "source": [
        "Увеличив epoch и units, увеличится значение AUC. Например, при epoch = 50, и тем же количеством слоев, можно поднять AUC **с 92.6% до 97.5%**, а с увеличением нейронного слоя units до 128, можно добиться **AUC 98.5%**. Тем не менее, нашего значения AUC достаточно, для классификации и совпадении с результатами из задания.\n",
        "\n",
        "P.S. При большом значении результаты будут разняться."
      ]
    },
    {
      "cell_type": "code",
      "metadata": {
        "id": "awBiVwefIX3o",
        "colab_type": "code",
        "colab": {
          "base_uri": "https://localhost:8080/",
          "height": 71
        },
        "outputId": "bceded6b-651d-4b8e-af3c-a5943d03e6e2"
      },
      "source": [
        "print('\\nhistory dict:', history.history)    # Для оценки AUC и выбора параметров. "
      ],
      "execution_count": 216,
      "outputs": [
        {
          "output_type": "stream",
          "text": [
            "\n",
            "history dict: {'val_loss': [0.6094183565274766, 0.5397819288789409, 0.5042806807990488, 0.4976518769242448, 0.48994387053463556, 0.48487566037265134, 0.4940202308299879, 0.49596107550407653, 0.5013415488206088, 0.49818274405993285, 0.48948603337758206, 0.5055486935458772, 0.5043752696960484, 0.5025793401073647, 0.5580820178604562, 0.5114321290902352, 0.5501139232012779, 0.5719173391387887, 0.5700183693132445, 0.6187839611480225, 0.5910510253416349, 0.6365186498589712, 0.6547640741687931], 'val_tp': [576.5, 1166.0, 1747.0, 2327.0, 2912.5, 3497.0, 4076.5, 4662.5, 5250.5, 5838.5, 6435.0, 7032.0, 7629.5, 8233.5, 8835.0, 9441.5, 10052.5, 10656.0, 11273.0, 11884.0, 12498.5, 13119.5, 13743.0], 'val_fp': [256.0, 458.5, 629.5, 773.5, 897.0, 1017.0, 1117.0, 1213.5, 1305.5, 1388.0, 1472.5, 1551.0, 1627.5, 1700.0, 1759.5, 1815.5, 1873.0, 1906.0, 1953.5, 1986.0, 2017.5, 2047.0, 2071.0], 'val_tn': [154.5, 376.0, 629.0, 909.0, 1209.5, 1513.5, 1837.5, 2165.0, 2497.0, 2838.5, 3178.0, 3523.5, 3871.0, 4222.5, 4587.0, 4955.0, 5321.5, 5712.5, 6089.0, 6480.5, 6873.0, 7267.5, 7667.5], 'val_fn': [62.5, 144.0, 234.0, 325.0, 410.5, 497.0, 588.5, 673.5, 756.5, 839.5, 914.0, 988.0, 1061.5, 1128.5, 1198.0, 1262.5, 1322.5, 1390.0, 1444.0, 1504.0, 1560.5, 1610.5, 1658.0], 'val_accuracy': [0.6964679956436157, 0.7190558314323425, 0.7334481477737427, 0.7465682029724121, 0.7591851949691772, 0.7679510116577148, 0.7761659026145935, 0.7834638357162476, 0.789794921875, 0.7957262396812439, 0.8011165261268616, 0.8061017990112305, 0.8104937672615051, 0.8149430751800537, 0.8194389343261719, 0.8238576054573059, 0.82791668176651, 0.8323883414268494, 0.8363400101661682, 0.8403074741363525, 0.8440924882888794, 0.8478862643241882, 0.8516677618026733], 'val_precision': [0.6923428177833557, 0.7177344560623169, 0.7351007461547852, 0.750515341758728, 0.7645300626754761, 0.7746968269348145, 0.7849200963973999, 0.7934795618057251, 0.8008671998977661, 0.8079276084899902, 0.8137832880020142, 0.8192930221557617, 0.8241865038871765, 0.8288612365722656, 0.8339227437973022, 0.8387222290039062, 0.8429410457611084, 0.8482722043991089, 0.8523037433624268, 0.8568129539489746, 0.8610152006149292, 0.8650312423706055, 0.8690398931503296], 'val_recall': [0.9022985696792603, 0.890122652053833, 0.881904125213623, 0.877465009689331, 0.8764744400978088, 0.8755674362182617, 0.8738514184951782, 0.8737834692001343, 0.8740649223327637, 0.8742897510528564, 0.8756299614906311, 0.8768090009689331, 0.877862811088562, 0.8794597387313843, 0.8805947303771973, 0.8820536136627197, 0.8837367296218872, 0.8846095204353333, 0.8864514827728271, 0.8876608610153198, 0.8890036344528198, 0.8906656503677368, 0.8923448920249939], 'val_auc': [0.7119307518005371, 0.7537869215011597, 0.7733297348022461, 0.7924879789352417, 0.8081145286560059, 0.8221005797386169, 0.835286021232605, 0.846200704574585, 0.8555741310119629, 0.8639691472053528, 0.8716263771057129, 0.8785502910614014, 0.8849374055862427, 0.890669584274292, 0.8958932757377625, 0.9007758498191833, 0.9053163528442383, 0.9095382690429688, 0.9134020805358887, 0.9170528650283813, 0.9204940795898438, 0.9237395524978638, 0.9267526268959045], 'loss': [0.6655548816402209, 0.5902648415739677, 0.5154448508127639, 0.4601924178534991, 0.4218094980335671, 0.38559768107383763, 0.3568068941434224, 0.3336147633317399, 0.3114194701251374, 0.2935083650018527, 0.2744695265271348, 0.2588783216803041, 0.24102589460812748, 0.2261995998419583, 0.2128715705653848, 0.19779889584948482, 0.1804510185571566, 0.1691907216969146, 0.1560296655449693, 0.14036283713497527, 0.1315879376783763, 0.1164936142288931, 0.10587980764913776], 'tp': [261.14285, 864.5714, 1447.4286, 2031.2858, 2617.7144, 3197.5715, 3786.8572, 4366.4287, 4952.7144, 5540.0, 6132.857, 6727.7144, 7327.857, 7933.7144, 8538.857, 9130.0, 9748.429, 10348.429, 10958.714, 11580.714, 12187.429, 12814.857, 13432.857], 'fp': [144.0, 374.2857, 552.1429, 707.8571, 839.1429, 957.7143, 1070.1428, 1163.4286, 1257.8572, 1344.5714, 1431.2858, 1514.5714, 1586.2858, 1661.5714, 1731.2858, 1784.5714, 1843.2858, 1889.1428, 1924.7142, 1966.0, 1998.4286, 2029.4286, 2055.2856], 'tn': [75.0, 271.2857, 514.4286, 782.4286, 1073.1428, 1380.0, 1687.5714, 2022.7142, 2351.4285, 2691.2856, 3028.1428, 3371.0, 3719.7144, 4062.4285, 4420.857, 4793.2856, 5155.2856, 5543.0, 5925.4287, 6306.2856, 6700.0, 7088.2856, 7486.857], 'fn': [29.0, 94.0, 185.14285, 272.57144, 359.14285, 448.85715, 534.5714, 621.5714, 707.1429, 788.2857, 866.8571, 940.8571, 1015.2857, 1086.4286, 1148.1428, 1226.2858, 1282.1428, 1343.5714, 1410.2858, 1461.1428, 1523.2858, 1571.5714, 1624.1428], 'accuracy': [0.6485071, 0.70692813, 0.72641736, 0.7413546, 0.75473696, 0.7648529, 0.7732292, 0.7815663, 0.78795177, 0.7941645, 0.79940957, 0.80437535, 0.8093687, 0.8135958, 0.8181843, 0.8221789, 0.8266269, 0.83094174, 0.83504194, 0.83919287, 0.8428311, 0.84677935, 0.8504119], 'precision': [0.6367168, 0.69703406, 0.7236589, 0.7414165, 0.75713813, 0.7694648, 0.7796081, 0.78956777, 0.7974294, 0.80466187, 0.8107546, 0.8162192, 0.8220274, 0.8268152, 0.83140916, 0.8364793, 0.84097004, 0.8456128, 0.8505941, 0.8548606, 0.85911465, 0.8632756, 0.8672902], 'recall': [0.89758724, 0.90209055, 0.88652265, 0.8816765, 0.8793313, 0.8768705, 0.8762871, 0.87536436, 0.8750339, 0.87542063, 0.87613803, 0.8772884, 0.87829536, 0.87954235, 0.8814645, 0.8815791, 0.8837535, 0.8850789, 0.88597244, 0.88795704, 0.8888914, 0.89075196, 0.8921264], 'auc': [0.6439706, 0.7389795, 0.765324, 0.7847773, 0.8031085, 0.8173954, 0.8307804, 0.843485, 0.8527704, 0.8617011, 0.8691721, 0.87622625, 0.88318473, 0.88896215, 0.8945716, 0.89905167, 0.9040365, 0.9083609, 0.91227496, 0.9161902, 0.9195661, 0.92296445, 0.92598444]}\n"
          ],
          "name": "stdout"
        }
      ]
    },
    {
      "cell_type": "markdown",
      "metadata": {
        "id": "FmM9UGoDpHUJ",
        "colab_type": "text"
      },
      "source": [
        "Импортируем результаты из задания для сравнения и построения ROC curve, т.к. примем их за истину, как значения y_test."
      ]
    },
    {
      "cell_type": "code",
      "metadata": {
        "id": "DDkI1McyJIyk",
        "colab_type": "code",
        "colab": {}
      },
      "source": [
        "y_test = pd.read_csv('/content/sample_submission.csv')"
      ],
      "execution_count": 225,
      "outputs": []
    },
    {
      "cell_type": "markdown",
      "metadata": {
        "id": "nKpmeTN7ppiG",
        "colab_type": "text"
      },
      "source": [
        "Совершаем предсказания для X_test."
      ]
    },
    {
      "cell_type": "code",
      "metadata": {
        "id": "aUXIeSzIin_8",
        "colab_type": "code",
        "colab": {}
      },
      "source": [
        "y_pred = model.predict(X_test.values)"
      ],
      "execution_count": 226,
      "outputs": []
    },
    {
      "cell_type": "code",
      "metadata": {
        "id": "RWzUo0zkpUGz",
        "colab_type": "code",
        "colab": {}
      },
      "source": [
        "X_name = pd.DataFrame(X_name)\n",
        "X_name['y'] = np.nan\n",
        "for i in range(len(X_name)):\n",
        "    X_name['y'][i] = np.around([y_pred[i][0]], decimals = 3)"
      ],
      "execution_count": 227,
      "outputs": []
    },
    {
      "cell_type": "markdown",
      "metadata": {
        "id": "AjY0O3UCpxeK",
        "colab_type": "text"
      },
      "source": [
        "Количество строк в датасете результата из задания и предсказания отличаются. По причине, различия обработки тестовых и тренировочных данных. \n",
        "\n",
        "**P.S.** Если в датасете результата, сохранены все строки, то такого результата можно было бы добиться следующим способом. Удаление столбцов с большим количеством NaN и +-inf, либо замена NaN, как 0 (либо одно число, если в столбце уже имеется 0) и +-inf, как большое число +-float (умещающиеся в памяти). Тем не менее, мне такой подход показался не правильным, т.к. +-inf, подобие +-бесконечности, а как известно бесконечность != бесконечности, по этой причине inf - inf = NaN, т.е. напрашивается второй вывод, NaN != NaN.  "
      ]
    },
    {
      "cell_type": "markdown",
      "metadata": {
        "id": "qfq3kl37rU8V",
        "colab_type": "text"
      },
      "source": [
        "Объединим результат предсказания с результатом из задания (удалив недостающие строки)."
      ]
    },
    {
      "cell_type": "code",
      "metadata": {
        "id": "Itmw5XPvtaeV",
        "colab_type": "code",
        "colab": {}
      },
      "source": [
        "df = X_name.merge(y_test, left_on='sample_id', right_on='sample_id')"
      ],
      "execution_count": 228,
      "outputs": []
    },
    {
      "cell_type": "markdown",
      "metadata": {
        "id": "G_o5Fe1nrgqE",
        "colab_type": "text"
      },
      "source": [
        "Как упоминалось ранее, результат предсказания из задания, считаем, как истинный, и по этим данным строим ROC. Для этого округлим значения до результата предсказания."
      ]
    },
    {
      "cell_type": "code",
      "metadata": {
        "id": "5FpN8GQlPNvK",
        "colab_type": "code",
        "colab": {}
      },
      "source": [
        "for i in range(len(df)):\n",
        "    df['y_y'][i] = np.around([df['y_y'][i]], decimals = 0)"
      ],
      "execution_count": 229,
      "outputs": []
    },
    {
      "cell_type": "markdown",
      "metadata": {
        "id": "vR4wn_Z6rxzP",
        "colab_type": "text"
      },
      "source": [
        "Построим ROC curve."
      ]
    },
    {
      "cell_type": "code",
      "metadata": {
        "id": "dd254_-RKTS3",
        "colab_type": "code",
        "colab": {
          "base_uri": "https://localhost:8080/",
          "height": 535
        },
        "outputId": "5f8aaa52-6751-47fb-8a7f-48c9246dee59"
      },
      "source": [
        "from sklearn.metrics import roc_curve\n",
        "sns.set(font_scale=1.5)\n",
        "sns.set_color_codes(\"muted\")\n",
        "\n",
        "plt.figure(figsize=(10, 8))\n",
        "fpr, tpr, thresholds = roc_curve(df['y_y'], model.predict(X_test).ravel(), pos_label=1)\n",
        "lw = 2\n",
        "plt.plot(fpr, tpr, lw=lw, label='ROC curve ')\n",
        "plt.plot([0, 1], [0, 1])\n",
        "plt.xlim([0.0, 1.0])\n",
        "plt.ylim([0.0, 1.05])\n",
        "plt.xlabel('False Positive Rate')\n",
        "plt.ylabel('True Positive Rate')\n",
        "plt.title('ROC curve')\n",
        "plt.savefig(\"ROC.png\")\n",
        "plt.show()"
      ],
      "execution_count": 230,
      "outputs": [
        {
          "output_type": "display_data",
          "data": {
            "image/png": "[encoded data removed]",
            "text/plain": [
              "<Figure size 720x576 with 1 Axes>"
            ]
          },
          "metadata": {
            "tags": []
          }
        }
      ]
    },
    {
      "cell_type": "markdown",
      "metadata": {
        "id": "mycMO88rsMEg",
        "colab_type": "text"
      },
      "source": [
        "Сравним отличные значения точек и выведем название образца."
      ]
    },
    {
      "cell_type": "code",
      "metadata": {
        "id": "d6t3tH48shgN",
        "colab_type": "code",
        "colab": {
          "base_uri": "https://localhost:8080/",
          "height": 391
        },
        "outputId": "3e17d8ee-2ccc-4b8e-f7c6-0a585b27d80e"
      },
      "source": [
        "for i in range(len(df)):\n",
        "    if np.around([df['y_x'][i]], decimals = 0) != df['y_y'][i]:\n",
        "        print(df['sample_id'][i])"
      ],
      "execution_count": 231,
      "outputs": [
        {
          "output_type": "stream",
          "text": [
            "sample_1102\n",
            "sample_1109\n",
            "sample_1119\n",
            "sample_1133\n",
            "sample_1144\n",
            "sample_1155\n",
            "sample_1163\n",
            "sample_1165\n",
            "sample_1170\n",
            "sample_1188\n",
            "sample_1195\n",
            "sample_1200\n",
            "sample_1232\n",
            "sample_1237\n",
            "sample_1240\n",
            "sample_1244\n",
            "sample_1248\n",
            "sample_1250\n",
            "sample_1265\n",
            "sample_1266\n",
            "sample_1268\n",
            "sample_1286\n"
          ],
          "name": "stdout"
        }
      ]
    },
    {
      "cell_type": "markdown",
      "metadata": {
        "id": "LmsIguE19aUm",
        "colab_type": "text"
      },
      "source": [
        "Сохраняем результат для отправки на Kaggel."
      ]
    },
    {
      "cell_type": "code",
      "metadata": {
        "id": "2Bs5tiN0ITc9",
        "colab_type": "code",
        "colab": {}
      },
      "source": [
        "X_name.to_csv('sample_test.csv')"
      ],
      "execution_count": 232,
      "outputs": []
    },
    {
      "cell_type": "markdown",
      "metadata": {
        "id": "Lv1Sws2Vt7US",
        "colab_type": "text"
      },
      "source": [
        "В процетном соотношении."
      ]
    },
    {
      "cell_type": "code",
      "metadata": {
        "id": "W4qGhAJht5WH",
        "colab_type": "code",
        "colab": {
          "base_uri": "https://localhost:8080/",
          "height": 34
        },
        "outputId": "f7eba335-6a06-4d75-a970-b828c7342a5c"
      },
      "source": [
        "17/164 * 100"
      ],
      "execution_count": 51,
      "outputs": [
        {
          "output_type": "execute_result",
          "data": {
            "text/plain": [
              "10.365853658536585"
            ]
          },
          "metadata": {
            "tags": []
          },
          "execution_count": 51
        }
      ]
    },
    {
      "cell_type": "markdown",
      "metadata": {
        "id": "caPF_8cOVm1c",
        "colab_type": "text"
      },
      "source": [
        "Оценим в графическом виде, некоторые параметры модели."
      ]
    },
    {
      "cell_type": "code",
      "metadata": {
        "id": "77HZhvzTVzu-",
        "colab_type": "code",
        "colab": {
          "base_uri": "https://localhost:8080/",
          "height": 54
        },
        "outputId": "58b55213-bb9f-47b0-99f7-0b5f9ab7caf2"
      },
      "source": [
        "print(history.history.keys()) "
      ],
      "execution_count": 233,
      "outputs": [
        {
          "output_type": "stream",
          "text": [
            "dict_keys(['val_loss', 'val_tp', 'val_fp', 'val_tn', 'val_fn', 'val_accuracy', 'val_precision', 'val_recall', 'val_auc', 'loss', 'tp', 'fp', 'tn', 'fn', 'accuracy', 'precision', 'recall', 'auc'])\n"
          ],
          "name": "stdout"
        }
      ]
    },
    {
      "cell_type": "markdown",
      "metadata": {
        "id": "GGjJ_sAhW-OF",
        "colab_type": "text"
      },
      "source": [
        "Визуализируем процесс тренировки, чтобы оценить, как менялись параметры, в зависимости от эпохи. \n",
        "\n",
        "**Итог history для accuracy:**"
      ]
    },
    {
      "cell_type": "code",
      "metadata": {
        "id": "ztcXbzS9V43z",
        "colab_type": "code",
        "colab": {
          "base_uri": "https://localhost:8080/",
          "height": 417
        },
        "outputId": "f03e4b0e-ab3f-4955-f0a6-39cc7b65d446"
      },
      "source": [
        "plt.figure(1)  \n",
        "   \n",
        "# Подвести итог истории для точности\n",
        "\n",
        "plt.figure(num=None, figsize=(8, 6), dpi=120, facecolor='w', edgecolor='k')\n",
        "plt.subplot(211) \n",
        "plt.plot(history.history['accuracy'])  \n",
        "plt.plot(history.history['val_accuracy'])  \n",
        "plt.title('model accuracy')  \n",
        "plt.ylabel('accuracy')  \n",
        "plt.xlabel('epoch')  \n",
        "plt.legend(['train', 'test'], loc='upper left')\n",
        "plt.savefig(\"accuracy.png\")\n",
        "plt.show()"
      ],
      "execution_count": 234,
      "outputs": [
        {
          "output_type": "display_data",
          "data": {
            "text/plain": [
              "<Figure size 432x288 with 0 Axes>"
            ]
          },
          "metadata": {
            "tags": []
          }
        },
        {
          "output_type": "display_data",
          "data": {
            "image/png": "[encoded data removed]",
            "text/plain": [
              "<Figure size 960x720 with 1 Axes>"
            ]
          },
          "metadata": {
            "tags": []
          }
        }
      ]
    },
    {
      "cell_type": "markdown",
      "metadata": {
        "id": "kGtbY6cIXY-S",
        "colab_type": "text"
      },
      "source": [
        "**Итог history для loss:**"
      ]
    },
    {
      "cell_type": "code",
      "metadata": {
        "id": "bBkf4RM9Vw1D",
        "colab_type": "code",
        "colab": {
          "base_uri": "https://localhost:8080/",
          "height": 400
        },
        "outputId": "45f9979f-40ef-4118-8994-e487f5a02b8b"
      },
      "source": [
        "# Подвести итог истории для потерь \n",
        "plt.figure(num=None, figsize=(8, 6), dpi=120, facecolor='w', edgecolor='k')\n",
        "plt.subplot(212)  \n",
        "plt.plot(history.history['loss'])  \n",
        "plt.plot(history.history['val_loss'])  \n",
        "plt.title('model loss')  \n",
        "plt.ylabel('loss')  \n",
        "plt.xlabel('epoch')  \n",
        "plt.legend(['train', 'test'], loc='upper left')  \n",
        "plt.savefig(\"loss.png\")\n",
        "plt.show()"
      ],
      "execution_count": 235,
      "outputs": [
        {
          "output_type": "display_data",
          "data": {
            "image/png": "[encoded data removed]",
            "text/plain": [
              "<Figure size 960x720 with 1 Axes>"
            ]
          },
          "metadata": {
            "tags": []
          }
        }
      ]
    },
    {
      "cell_type": "markdown",
      "metadata": {
        "id": "ETzhJYhIXeM3",
        "colab_type": "text"
      },
      "source": [
        "**Итог history для f1 score:**"
      ]
    },
    {
      "cell_type": "code",
      "metadata": {
        "id": "jT7U3uugV2h3",
        "colab_type": "code",
        "colab": {}
      },
      "source": [
        "f1_score=[]\n",
        "val_f1_score = []\n",
        "for i in range(len(history.history['precision'])):\n",
        "    f1_score.append(2*(history.history['precision'][i]*history.history['recall'][i])/(history.history['precision'][i]+history.history['recall'][i]))\n",
        "    val_f1_score.append(2*(history.history['val_precision'][i]*history.history['val_recall'][i])/(history.history['val_precision'][i]+history.history['val_recall'][i]))"
      ],
      "execution_count": 251,
      "outputs": []
    },
    {
      "cell_type": "code",
      "metadata": {
        "id": "gzQ2nhAPV-jO",
        "colab_type": "code",
        "colab": {
          "base_uri": "https://localhost:8080/",
          "height": 714
        },
        "outputId": "8de7364d-da85-4ced-b31c-5d82c2e4479c"
      },
      "source": [
        "plt.figure(1)  \n",
        "   \n",
        "# # Подвести итог истории для f1 score\n",
        "\n",
        "plt.figure(num=None, figsize=(8, 6), dpi=120, facecolor='w', edgecolor='k')\n",
        "plt.subplot() \n",
        "plt.plot(f1_score)  \n",
        "plt.plot(val_f1_score)   \n",
        "plt.title('model f1 score')  \n",
        "plt.ylabel('f1 score')  \n",
        "plt.xlabel('epoch')  \n",
        "plt.legend(['train', 'test'], loc='upper left')\n",
        "plt.savefig(\"f1_score.png\")\n",
        "plt.show()"
      ],
      "execution_count": 237,
      "outputs": [
        {
          "output_type": "display_data",
          "data": {
            "text/plain": [
              "<Figure size 432x288 with 0 Axes>"
            ]
          },
          "metadata": {
            "tags": []
          }
        },
        {
          "output_type": "display_data",
          "data": {
            "image/png": "[encoded data removed]",
            "text/plain": [
              "<Figure size 960x720 with 1 Axes>"
            ]
          },
          "metadata": {
            "tags": []
          }
        }
      ]
    },
    {
      "cell_type": "markdown",
      "metadata": {
        "id": "lhKpfOhar2xZ",
        "colab_type": "text"
      },
      "source": [
        "# Сравнение моделей"
      ]
    },
    {
      "cell_type": "markdown",
      "metadata": {
        "id": "QRaWr9i4wKiH",
        "colab_type": "text"
      },
      "source": [
        "Без сокращений. Перекрёстная проверка. Параметр cv - cross-validated, означает вычисления значений cv раз подряд (каждый раз с разными разбиениями). Возьмем этот параметр равным количеству epoch в keras модели."
      ]
    },
    {
      "cell_type": "code",
      "metadata": {
        "id": "JI2SnkOlIe_c",
        "colab_type": "code",
        "colab": {}
      },
      "source": [
        "from sklearn.metrics import roc_auc_score, accuracy_score, precision_score, recall_score, f1_score\n",
        "from sklearn.linear_model import LogisticRegression\n",
        "from sklearn.tree import DecisionTreeClassifier\n",
        "from sklearn.svm import SVC\n",
        "from sklearn.ensemble import RandomForestClassifier\n",
        "from sklearn.discriminant_analysis import LinearDiscriminantAnalysis, QuadraticDiscriminantAnalysis\n",
        "from sklearn.cluster import KMeans\n",
        "from sklearn.neighbors import KNeighborsClassifier\n",
        "from sklearn.naive_bayes import GaussianNB\n",
        "from sklearn.metrics import precision_recall_fscore_support\n",
        "from sklearn.metrics import mean_squared_error as mse\n",
        "from sklearn.preprocessing import StandardScaler\n",
        "from sklearn.model_selection import cross_validate\n",
        "from sklearn.model_selection import train_test_split\n",
        "from sklearn.ensemble import ExtraTreesClassifier\n",
        "from sklearn.feature_selection import SelectFromModel\n",
        "from sklearn.svm import LinearSVC\n",
        "from sklearn.ensemble import VotingClassifier\n",
        "from sklearn.feature_selection import RFECV"
      ],
      "execution_count": 238,
      "outputs": []
    },
    {
      "cell_type": "markdown",
      "metadata": {
        "id": "73QogsOMxsfQ",
        "colab_type": "text"
      },
      "source": [
        "Logistic Regression"
      ]
    },
    {
      "cell_type": "code",
      "metadata": {
        "id": "qkByolwpIY51",
        "colab_type": "code",
        "colab": {}
      },
      "source": [
        "LR = LogisticRegression()\n",
        "\n",
        "scoring = ['accuracy', 'precision_macro', 'recall_macro' , 'f1_weighted', 'roc_auc']\n",
        "scores = cross_validate(LR, X_train, y_train, scoring=scoring, cv=28)\n",
        "\n",
        "sorted(scores.keys())\n",
        "LR_fit_time = scores['fit_time'].mean()\n",
        "LR_score_time = scores['score_time'].mean()\n",
        "LR_accuracy = scores['test_accuracy'].mean()\n",
        "LR_precision = scores['test_precision_macro'].mean()\n",
        "LR_recall = scores['test_recall_macro'].mean()\n",
        "LR_f1 = scores['test_f1_weighted'].mean()\n",
        "LR_roc = scores['test_roc_auc'].mean()"
      ],
      "execution_count": 239,
      "outputs": []
    },
    {
      "cell_type": "markdown",
      "metadata": {
        "id": "z49TKXeWxt2W",
        "colab_type": "text"
      },
      "source": [
        "Decision Tree"
      ]
    },
    {
      "cell_type": "code",
      "metadata": {
        "id": "l7CT4cvAIj1b",
        "colab_type": "code",
        "colab": {}
      },
      "source": [
        "decision_tree = DecisionTreeClassifier()\n",
        "\n",
        "scoring = ['accuracy', 'precision_macro', 'recall_macro' , 'f1_weighted', 'roc_auc']\n",
        "scores = cross_validate(decision_tree, X_train, y_train, scoring=scoring, cv=28)\n",
        "\n",
        "sorted(scores.keys())\n",
        "dtree_fit_time = scores['fit_time'].mean()\n",
        "dtree_score_time = scores['score_time'].mean()\n",
        "dtree_accuracy = scores['test_accuracy'].mean()\n",
        "dtree_precision = scores['test_precision_macro'].mean()\n",
        "dtree_recall = scores['test_recall_macro'].mean()\n",
        "dtree_f1 = scores['test_f1_weighted'].mean()\n",
        "dtree_roc = scores['test_roc_auc'].mean()"
      ],
      "execution_count": 240,
      "outputs": []
    },
    {
      "cell_type": "markdown",
      "metadata": {
        "id": "calzY48rzG01",
        "colab_type": "text"
      },
      "source": [
        "Support Vector Machine"
      ]
    },
    {
      "cell_type": "code",
      "metadata": {
        "id": "r8aJGZrlzJnk",
        "colab_type": "code",
        "colab": {}
      },
      "source": [
        "SVM = SVC(probability = True)\n",
        "\n",
        "scoring = ['accuracy','precision_macro', 'recall_macro' , 'f1_weighted', 'roc_auc']\n",
        "scores = cross_validate(SVM, X_train, y_train, scoring=scoring, cv=28)\n",
        "\n",
        "sorted(scores.keys())\n",
        "SVM_fit_time = scores['fit_time'].mean()\n",
        "SVM_score_time = scores['score_time'].mean()\n",
        "SVM_accuracy = scores['test_accuracy'].mean()\n",
        "SVM_precision = scores['test_precision_macro'].mean()\n",
        "SVM_recall = scores['test_recall_macro'].mean()\n",
        "SVM_f1 = scores['test_f1_weighted'].mean()\n",
        "SVM_roc = scores['test_roc_auc'].mean()"
      ],
      "execution_count": 241,
      "outputs": []
    },
    {
      "cell_type": "markdown",
      "metadata": {
        "id": "8CWG6HFAzL_x",
        "colab_type": "text"
      },
      "source": [
        "Linear Discriminant Analysis"
      ]
    },
    {
      "cell_type": "code",
      "metadata": {
        "id": "OzrK5CyAzPTx",
        "colab_type": "code",
        "colab": {}
      },
      "source": [
        "LDA = LinearDiscriminantAnalysis()\n",
        "\n",
        "scoring = ['accuracy', 'precision_macro', 'recall_macro' , 'f1_weighted', 'roc_auc']\n",
        "scores = cross_validate(LDA, X_train, y_train, scoring=scoring, cv=28)\n",
        "\n",
        "sorted(scores.keys())\n",
        "LDA_fit_time = scores['fit_time'].mean()\n",
        "LDA_score_time = scores['score_time'].mean()\n",
        "LDA_accuracy = scores['test_accuracy'].mean()\n",
        "LDA_precision = scores['test_precision_macro'].mean()\n",
        "LDA_recall = scores['test_recall_macro'].mean()\n",
        "LDA_f1 = scores['test_f1_weighted'].mean()\n",
        "LDA_roc = scores['test_roc_auc'].mean()"
      ],
      "execution_count": 242,
      "outputs": []
    },
    {
      "cell_type": "markdown",
      "metadata": {
        "id": "U3vN57ouzS5W",
        "colab_type": "text"
      },
      "source": [
        "Quadratic Discriminant Analysis"
      ]
    },
    {
      "cell_type": "code",
      "metadata": {
        "id": "HNWjFA23zU4m",
        "colab_type": "code",
        "colab": {}
      },
      "source": [
        "QDA = QuadraticDiscriminantAnalysis()\n",
        "\n",
        "scoring = ['accuracy', 'precision_macro', 'recall_macro' , 'f1_weighted', 'roc_auc']\n",
        "scores = cross_validate(QDA, X_train, y_train, scoring=scoring, cv=28)\n",
        "\n",
        "sorted(scores.keys())\n",
        "QDA_fit_time = scores['fit_time'].mean()\n",
        "QDA_score_time = scores['score_time'].mean()\n",
        "QDA_accuracy = scores['test_accuracy'].mean()\n",
        "QDA_precision = scores['test_precision_macro'].mean()\n",
        "QDA_recall = scores['test_recall_macro'].mean()\n",
        "QDA_f1 = scores['test_f1_weighted'].mean()\n",
        "QDA_roc = scores['test_roc_auc'].mean()"
      ],
      "execution_count": 243,
      "outputs": []
    },
    {
      "cell_type": "markdown",
      "metadata": {
        "id": "1MdPIMPGzYgB",
        "colab_type": "text"
      },
      "source": [
        "Random Forest Classifier"
      ]
    },
    {
      "cell_type": "code",
      "metadata": {
        "id": "D9VH325Pzb44",
        "colab_type": "code",
        "colab": {}
      },
      "source": [
        "random_forest = RandomForestClassifier()\n",
        "\n",
        "scoring = ['accuracy', 'precision_macro', 'recall_macro' , 'f1_weighted', 'roc_auc']\n",
        "scores = cross_validate(random_forest, X_train, y_train, scoring=scoring, cv=28)\n",
        "\n",
        "sorted(scores.keys())\n",
        "forest_fit_time = scores['fit_time'].mean()\n",
        "forest_score_time = scores['score_time'].mean()\n",
        "forest_accuracy = scores['test_accuracy'].mean()\n",
        "forest_precision = scores['test_precision_macro'].mean()\n",
        "forest_recall = scores['test_recall_macro'].mean()\n",
        "forest_f1 = scores['test_f1_weighted'].mean()\n",
        "forest_roc = scores['test_roc_auc'].mean()"
      ],
      "execution_count": 244,
      "outputs": []
    },
    {
      "cell_type": "markdown",
      "metadata": {
        "id": "ltr9IDR6zeOI",
        "colab_type": "text"
      },
      "source": [
        "K-Nearest Neighbors"
      ]
    },
    {
      "cell_type": "code",
      "metadata": {
        "id": "Pdcm0Es8zh8q",
        "colab_type": "code",
        "colab": {}
      },
      "source": [
        "KNN = KNeighborsClassifier()\n",
        "\n",
        "scoring = ['accuracy', 'precision_macro', 'recall_macro' , 'f1_weighted', 'roc_auc']\n",
        "scores = cross_validate(KNN, X_train, y_train, scoring=scoring, cv=28)\n",
        "\n",
        "sorted(scores.keys())\n",
        "KNN_fit_time = scores['fit_time'].mean()\n",
        "KNN_score_time = scores['score_time'].mean()\n",
        "KNN_accuracy = scores['test_accuracy'].mean()\n",
        "KNN_precision = scores['test_precision_macro'].mean()\n",
        "KNN_recall = scores['test_recall_macro'].mean()\n",
        "KNN_f1 = scores['test_f1_weighted'].mean()\n",
        "KNN_roc = scores['test_roc_auc'].mean()"
      ],
      "execution_count": 245,
      "outputs": []
    },
    {
      "cell_type": "markdown",
      "metadata": {
        "id": "GYZkk_9pzlOC",
        "colab_type": "text"
      },
      "source": [
        "Naive Bayes"
      ]
    },
    {
      "cell_type": "code",
      "metadata": {
        "id": "h_O78WZbzppq",
        "colab_type": "code",
        "colab": {}
      },
      "source": [
        "bayes = GaussianNB()\n",
        "\n",
        "scoring = ['accuracy', 'precision_macro', 'recall_macro' , 'f1_weighted', 'roc_auc']\n",
        "scores = cross_validate(bayes, X_train, y_train, scoring=scoring, cv=28)\n",
        "\n",
        "sorted(scores.keys())\n",
        "bayes_fit_time = scores['fit_time'].mean()\n",
        "bayes_score_time = scores['score_time'].mean()\n",
        "bayes_accuracy = scores['test_accuracy'].mean()\n",
        "bayes_precision = scores['test_precision_macro'].mean()\n",
        "bayes_recall = scores['test_recall_macro'].mean()\n",
        "bayes_f1 = scores['test_f1_weighted'].mean()\n",
        "bayes_roc = scores['test_roc_auc'].mean()"
      ],
      "execution_count": 246,
      "outputs": []
    },
    {
      "cell_type": "markdown",
      "metadata": {
        "id": "CNSZDAxI1OEI",
        "colab_type": "text"
      },
      "source": [
        "Keras Model"
      ]
    },
    {
      "cell_type": "code",
      "metadata": {
        "id": "pjdikW3e1ZSD",
        "colab_type": "code",
        "colab": {}
      },
      "source": [
        "Keras_AUC = np.around([history.history['auc'][-1:]],decimals = 6).mean()\n",
        "Keras_recall = np.around([history.history['recall'][-1:]],decimals = 6).mean()\n",
        "Keras_precision = np.around([history.history['precision'][-1:]],decimals = 6).mean()\n",
        "Keras_accuracy = np.around([history.history['accuracy'][-1:]],decimals = 6).mean()\n",
        "Keras_f1 = np.around([f1_score[-1:]],decimals = 6).mean()"
      ],
      "execution_count": 253,
      "outputs": []
    },
    {
      "cell_type": "markdown",
      "metadata": {
        "id": "Xm0utu4ezu3S",
        "colab_type": "text"
      },
      "source": [
        "**Сравниваем модели.** По результатам сравнения, наша keras модель на порядок лучше."
      ]
    },
    {
      "cell_type": "code",
      "metadata": {
        "id": "m_oZbOzqzwyJ",
        "colab_type": "code",
        "colab": {
          "base_uri": "https://localhost:8080/",
          "height": 328
        },
        "outputId": "b6978cfe-3e84-46c7-8224-b78ae1cfd60b"
      },
      "source": [
        "models_initial = pd.DataFrame({\n",
        "    'Model'       : ['Keras Model','Logistic Regression', 'Decision Tree', 'Support Vector Machine', 'Linear Discriminant Analysis', 'Quadratic Discriminant Analysis', 'Random Forest', 'K-Nearest Neighbors', 'Bayes'],\n",
        "    'Accuracy'    : [Keras_accuracy,LR_accuracy, dtree_accuracy, SVM_accuracy, LDA_accuracy, QDA_accuracy, forest_accuracy, KNN_accuracy, bayes_accuracy],\n",
        "    'Precision'   : [Keras_precision,LR_precision, dtree_precision, SVM_precision, LDA_precision, QDA_precision, forest_precision, KNN_precision, bayes_precision],\n",
        "    'Recall'      : [Keras_recall,LR_recall, dtree_recall, SVM_recall, LDA_recall, QDA_recall, forest_recall, KNN_recall, bayes_recall],\n",
        "    'F1_score'    : [Keras_f1,LR_f1, dtree_f1, SVM_f1, LDA_f1, QDA_f1, forest_f1, KNN_f1, bayes_f1],\n",
        "    'AUC_ROC'     : [Keras_AUC,LR_roc, dtree_roc, SVM_roc, LDA_roc, QDA_roc, forest_roc, KNN_roc, bayes_roc],\n",
        "    }, columns = ['Model', 'Accuracy', 'Precision', 'Recall', 'F1_score', 'AUC_ROC'])\n",
        "\n",
        "models_initial.sort_values(by='Accuracy', ascending=False)"
      ],
      "execution_count": 254,
      "outputs": [
        {
          "output_type": "execute_result",
          "data": {
            "text/html": [
              "<div>\n",
              "<style scoped>\n",
              "    .dataframe tbody tr th:only-of-type {\n",
              "        vertical-align: middle;\n",
              "    }\n",
              "\n",
              "    .dataframe tbody tr th {\n",
              "        vertical-align: top;\n",
              "    }\n",
              "\n",
              "    .dataframe thead th {\n",
              "        text-align: right;\n",
              "    }\n",
              "</style>\n",
              "<table border=\"1\" class=\"dataframe\">\n",
              "  <thead>\n",
              "    <tr style=\"text-align: right;\">\n",
              "      <th></th>\n",
              "      <th>Model</th>\n",
              "      <th>Accuracy</th>\n",
              "      <th>Precision</th>\n",
              "      <th>Recall</th>\n",
              "      <th>F1_score</th>\n",
              "      <th>AUC_ROC</th>\n",
              "    </tr>\n",
              "  </thead>\n",
              "  <tbody>\n",
              "    <tr>\n",
              "      <th>0</th>\n",
              "      <td>Keras Model</td>\n",
              "      <td>0.846621</td>\n",
              "      <td>0.857439</td>\n",
              "      <td>0.899058</td>\n",
              "      <td>0.877755</td>\n",
              "      <td>0.922766</td>\n",
              "    </tr>\n",
              "    <tr>\n",
              "      <th>6</th>\n",
              "      <td>Random Forest</td>\n",
              "      <td>0.786355</td>\n",
              "      <td>0.787912</td>\n",
              "      <td>0.763807</td>\n",
              "      <td>0.782426</td>\n",
              "      <td>0.851276</td>\n",
              "    </tr>\n",
              "    <tr>\n",
              "      <th>3</th>\n",
              "      <td>Support Vector Machine</td>\n",
              "      <td>0.784524</td>\n",
              "      <td>0.785706</td>\n",
              "      <td>0.757706</td>\n",
              "      <td>0.779282</td>\n",
              "      <td>0.847686</td>\n",
              "    </tr>\n",
              "    <tr>\n",
              "      <th>7</th>\n",
              "      <td>K-Nearest Neighbors</td>\n",
              "      <td>0.760668</td>\n",
              "      <td>0.763070</td>\n",
              "      <td>0.724819</td>\n",
              "      <td>0.751010</td>\n",
              "      <td>0.813054</td>\n",
              "    </tr>\n",
              "    <tr>\n",
              "      <th>1</th>\n",
              "      <td>Logistic Regression</td>\n",
              "      <td>0.735348</td>\n",
              "      <td>0.726570</td>\n",
              "      <td>0.718951</td>\n",
              "      <td>0.732553</td>\n",
              "      <td>0.787372</td>\n",
              "    </tr>\n",
              "    <tr>\n",
              "      <th>2</th>\n",
              "      <td>Decision Tree</td>\n",
              "      <td>0.720559</td>\n",
              "      <td>0.709977</td>\n",
              "      <td>0.707046</td>\n",
              "      <td>0.719983</td>\n",
              "      <td>0.707046</td>\n",
              "    </tr>\n",
              "    <tr>\n",
              "      <th>5</th>\n",
              "      <td>Quadratic Discriminant Analysis</td>\n",
              "      <td>0.689606</td>\n",
              "      <td>0.679534</td>\n",
              "      <td>0.643472</td>\n",
              "      <td>0.670454</td>\n",
              "      <td>0.694753</td>\n",
              "    </tr>\n",
              "    <tr>\n",
              "      <th>8</th>\n",
              "      <td>Bayes</td>\n",
              "      <td>0.676694</td>\n",
              "      <td>0.697748</td>\n",
              "      <td>0.702229</td>\n",
              "      <td>0.675902</td>\n",
              "      <td>0.779623</td>\n",
              "    </tr>\n",
              "    <tr>\n",
              "      <th>4</th>\n",
              "      <td>Linear Discriminant Analysis</td>\n",
              "      <td>0.594574</td>\n",
              "      <td>0.580352</td>\n",
              "      <td>0.583670</td>\n",
              "      <td>0.594642</td>\n",
              "      <td>0.583957</td>\n",
              "    </tr>\n",
              "  </tbody>\n",
              "</table>\n",
              "</div>"
            ],
            "text/plain": [
              "                             Model  Accuracy  ...  F1_score   AUC_ROC\n",
              "0                      Keras Model  0.846621  ...  0.877755  0.922766\n",
              "6                    Random Forest  0.786355  ...  0.782426  0.851276\n",
              "3           Support Vector Machine  0.784524  ...  0.779282  0.847686\n",
              "7              K-Nearest Neighbors  0.760668  ...  0.751010  0.813054\n",
              "1              Logistic Regression  0.735348  ...  0.732553  0.787372\n",
              "2                    Decision Tree  0.720559  ...  0.719983  0.707046\n",
              "5  Quadratic Discriminant Analysis  0.689606  ...  0.670454  0.694753\n",
              "8                            Bayes  0.676694  ...  0.675902  0.779623\n",
              "4     Linear Discriminant Analysis  0.594574  ...  0.594642  0.583957\n",
              "\n",
              "[9 rows x 6 columns]"
            ]
          },
          "metadata": {
            "tags": []
          },
          "execution_count": 254
        }
      ]
    }
  ]
}
