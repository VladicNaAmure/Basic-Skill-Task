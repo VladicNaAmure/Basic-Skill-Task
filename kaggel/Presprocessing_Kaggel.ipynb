{
  "nbformat": 4,
  "nbformat_minor": 0,
  "metadata": {
    "colab": {
      "name": "FullData.ipynb",
      "provenance": [],
      "collapsed_sections": []
    },
    "kernelspec": {
      "name": "python3",
      "display_name": "Python 3"
    }
  },
  "cells": [
    {
      "cell_type": "markdown",
      "metadata": {
        "id": "O6lxDC4-7VlR",
        "colab_type": "text"
      },
      "source": [
        "Важный этап в обучении модели препроцессинг данных. В задании сказано, что некоторые данные, как в тестовых, так и в тренировочных могут быть пропущенны некоторые значения. В качестве строго критерия, эти данные необходимо преобразовать, а строки оставить не тронутыми. "
      ]
    },
    {
      "cell_type": "code",
      "metadata": {
        "id": "k3A2J9hWhWKk",
        "colab_type": "code",
        "colab": {
          "base_uri": "https://localhost:8080/",
          "height": 85
        },
        "outputId": "7e0d55bd-4a6c-4ad6-d46b-862388131b28"
      },
      "source": [
        "!unzip skill-task2.zip"
      ],
      "execution_count": 1,
      "outputs": [
        {
          "output_type": "stream",
          "text": [
            "Archive:  /content/skill-task2.zip\n",
            "  inflating: sample_submission.csv   \n",
            "  inflating: test.csv/test.csv       \n",
            "  inflating: train.csv/train.csv     \n"
          ],
          "name": "stdout"
        }
      ]
    },
    {
      "cell_type": "markdown",
      "metadata": {
        "id": "2G0P6qqh7lLo",
        "colab_type": "text"
      },
      "source": [
        "Подключаем библиотеки."
      ]
    },
    {
      "cell_type": "code",
      "metadata": {
        "id": "oB4t8b47hnzi",
        "colab_type": "code",
        "colab": {}
      },
      "source": [
        "import numpy as np\n",
        "import pandas as pd"
      ],
      "execution_count": 1,
      "outputs": []
    },
    {
      "cell_type": "markdown",
      "metadata": {
        "id": "NDiPpxtJ7nj3",
        "colab_type": "text"
      },
      "source": [
        "Оценка тренировочных данных."
      ]
    },
    {
      "cell_type": "code",
      "metadata": {
        "id": "p98eluuWhsE0",
        "colab_type": "code",
        "colab": {}
      },
      "source": [
        "train_data = pd.read_csv('train.csv')"
      ],
      "execution_count": 2,
      "outputs": []
    },
    {
      "cell_type": "markdown",
      "metadata": {
        "id": "zrWQYT-q7qX_",
        "colab_type": "text"
      },
      "source": [
        "Преобразуем NaN в значение, не равного 0."
      ]
    },
    {
      "cell_type": "code",
      "metadata": {
        "id": "ZmjW9j0ik3_C",
        "colab_type": "code",
        "colab": {}
      },
      "source": [
        "train_data = train_data.fillna(0.1)"
      ],
      "execution_count": 3,
      "outputs": []
    },
    {
      "cell_type": "markdown",
      "metadata": {
        "id": "1M3BoHxG7yJL",
        "colab_type": "text"
      },
      "source": [
        "Оценка тестовых данных."
      ]
    },
    {
      "cell_type": "code",
      "metadata": {
        "id": "ZJg_F1pnh6YO",
        "colab_type": "code",
        "colab": {}
      },
      "source": [
        "test_data = pd.read_csv('test.csv')"
      ],
      "execution_count": 4,
      "outputs": []
    },
    {
      "cell_type": "markdown",
      "metadata": {
        "id": "Mz_rj-uV75Gt",
        "colab_type": "text"
      },
      "source": [
        "Преобразуем NaN в значение, не равного 0."
      ]
    },
    {
      "cell_type": "code",
      "metadata": {
        "id": "hhhz5nlck9_7",
        "colab_type": "code",
        "colab": {}
      },
      "source": [
        "test_data = test_data.fillna(0.1)"
      ],
      "execution_count": 5,
      "outputs": []
    },
    {
      "cell_type": "markdown",
      "metadata": {
        "id": "CYHNTwvM77cQ",
        "colab_type": "text"
      },
      "source": [
        "Проверим на отсуствие NaN."
      ]
    },
    {
      "cell_type": "code",
      "metadata": {
        "id": "q1HqwRLSiGfe",
        "colab_type": "code",
        "colab": {}
      },
      "source": [
        "row = 0\n",
        "empty_test = []\n",
        "for c in test_data:\n",
        "    missing = test_data[c].isnull().sum()\n",
        "    if missing > 0:\n",
        "        row = c, missing\n",
        "        empty_test.append(row)\n",
        "del missing, row"
      ],
      "execution_count": 6,
      "outputs": []
    },
    {
      "cell_type": "markdown",
      "metadata": {
        "id": "1p6U1L4rjsu3",
        "colab_type": "text"
      },
      "source": [
        "Удаление +- inf. Это значения больше 1.7976931348623157e+308. Сократим на порядок, и сделаем отличными от NaN."
      ]
    },
    {
      "cell_type": "code",
      "metadata": {
        "id": "0IVNhpCdlneP",
        "colab_type": "code",
        "colab": {}
      },
      "source": [
        "test_data = test_data.replace(np.inf, -0.1)"
      ],
      "execution_count": 7,
      "outputs": []
    },
    {
      "cell_type": "code",
      "metadata": {
        "id": "lEOyuysKmC9t",
        "colab_type": "code",
        "colab": {}
      },
      "source": [
        "train_data = train_data.replace(np.inf, -0.1)"
      ],
      "execution_count": 8,
      "outputs": []
    },
    {
      "cell_type": "markdown",
      "metadata": {
        "id": "R-X39h568GV6",
        "colab_type": "text"
      },
      "source": [
        "Проверяем на наличие +-inf."
      ]
    },
    {
      "cell_type": "code",
      "metadata": {
        "id": "6zrGfm9JlJZq",
        "colab_type": "code",
        "colab": {}
      },
      "source": [
        "for c in train_data:\n",
        "    no_missing = train_data.loc[train_data[c] == np.inf ,c].sum()\n",
        "    if no_missing > 0:\n",
        "        print(c)\n",
        "        print(train_data[train_data[c] == np.inf])"
      ],
      "execution_count": 9,
      "outputs": []
    },
    {
      "cell_type": "markdown",
      "metadata": {
        "id": "qdoJKEMJ8JQd",
        "colab_type": "text"
      },
      "source": [
        "Сохраняем датасет."
      ]
    },
    {
      "cell_type": "code",
      "metadata": {
        "id": "utbzxq8rlMc4",
        "colab_type": "code",
        "colab": {}
      },
      "source": [
        "train_data.to_csv('all_train.csv',  index=False)"
      ],
      "execution_count": 10,
      "outputs": []
    },
    {
      "cell_type": "code",
      "metadata": {
        "id": "dPZ_QUpTmSLB",
        "colab_type": "code",
        "colab": {}
      },
      "source": [
        "test_data.to_csv('all_test.csv', index=False)"
      ],
      "execution_count": 11,
      "outputs": []
    }
  ]
}
